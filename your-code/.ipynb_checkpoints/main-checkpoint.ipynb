{
 "cells": [
  {
   "cell_type": "markdown",
   "metadata": {},
   "source": [
    "# Web Scraping Lab\n",
    "\n",
    "You will find in this notebook some scrapy exercises to practise your scraping skills.\n",
    "\n",
    "**Tips:**\n",
    "\n",
    "- Check the response status code for each request to ensure you have obtained the intended contennt.\n",
    "- Print the response text in each request to understand the kind of info you are getting and its format.\n",
    "- Check for patterns in the response text to extract the data/info requested in each question.\n",
    "- Visit each url and take a look at its source through Chrome DevTools. You'll need to identify the html tags, special class names etc. used for the html content you are expected to extract."
   ]
  },
  {
   "cell_type": "markdown",
   "metadata": {},
   "source": [
    "- [Requests library](http://docs.python-requests.org/en/master/#the-user-guide) documentation \n",
    "- [Beautiful Soup Doc](https://www.crummy.com/software/BeautifulSoup/bs4/doc/)\n",
    "- [Urllib](https://docs.python.org/3/library/urllib.html#module-urllib)\n",
    "- [re lib](https://docs.python.org/3/library/re.html)\n",
    "- [lxml lib](https://lxml.de/)\n",
    "- [Scrapy](https://scrapy.org/)\n",
    "- [List of HTTP status codes](https://en.wikipedia.org/wiki/List_of_HTTP_status_codes)\n",
    "- [HTML basics](http://www.simplehtmlguide.com/cheatsheet.php)\n",
    "- [CSS basics](https://www.cssbasics.com/#page_start)"
   ]
  },
  {
   "cell_type": "markdown",
   "metadata": {},
   "source": [
    "#### Below are the libraries and modules you may need. `requests`,  `BeautifulSoup` and `pandas` are imported for you. If you prefer to use additional libraries feel free to uncomment them."
   ]
  },
  {
   "cell_type": "code",
   "execution_count": 54,
   "metadata": {},
   "outputs": [],
   "source": [
    "import requests as req\n",
    "from bs4 import BeautifulSoup as bs\n",
    "import pandas as pd\n",
    "\n",
    "# from pprint import pprint\n",
    "# from lxml import html\n",
    "# from lxml.html import fromstring\n",
    "# import urllib.request\n",
    "# from urllib.request import urlopen\n",
    "# import random\n",
    "import re\n",
    "# import scrapy"
   ]
  },
  {
   "cell_type": "markdown",
   "metadata": {},
   "source": [
    "#### Download, parse (using BeautifulSoup), and print the content from the Trending Developers page from GitHub:"
   ]
  },
  {
   "cell_type": "code",
   "execution_count": 6,
   "metadata": {},
   "outputs": [],
   "source": [
    "# This is the url you will scrape in this exercise\n",
    "url = 'https://github.com/trending/developers'"
   ]
  },
  {
   "cell_type": "code",
   "execution_count": 8,
   "metadata": {},
   "outputs": [
    {
     "data": {
      "text/plain": [
       "b'\\n\\n<!DOCTYPE html>\\n<html lang=\"en\" data-color-mode=\"auto\" data-light-theme=\"light\" data-dark-theme=\"dark\" data-a11y-animated-images=\"system\">\\n  <head>\\n    <meta charset=\"utf-8\">\\n  <link rel=\"dns-prefetch\" href=\"https://github.githubassets.com\">\\n  <link rel=\"dns-prefetch\" href=\"https://avatars.githubusercontent.com\">\\n  <link rel=\"dns-prefetch\" href=\"https://github-cloud.s3.amazonaws.com\">\\n  <link rel=\"dns-prefetch\" href=\"https://user-images.githubusercontent.com/\">\\n  <link rel=\"preconnect\" href=\"https://github.githubassets.com\" crossorigin>\\n  <link rel=\"preconnect\" href=\"https://avatars.githubusercontent.com\">\\n\\n\\n\\n  <link crossorigin=\"anonymous\" media=\"all\" rel=\"stylesheet\" href=\"https://github.githubassets.com/assets/light-719f1193e0c0.css\" /><link crossorigin=\"anonymous\" media=\"all\" rel=\"stylesheet\" href=\"https://github.githubassets.com/assets/dark-0c343b529849.css\" /><link data-color-theme=\"dark_dimmed\" crossorigin=\"anonymous\" media=\"all\" rel=\"stylesheet\" data-href=\"https://github.gith'"
      ]
     },
     "execution_count": 8,
     "metadata": {},
     "output_type": "execute_result"
    }
   ],
   "source": [
    "html=req.get(url).content \n",
    "soup=bs(html, 'html.parser')\n",
    "\n",
    "type(soup)\n",
    "html[:1000]"
   ]
  },
  {
   "cell_type": "markdown",
   "metadata": {},
   "source": [
    "#### Display the names of the trending developers retrieved in the previous step.\n",
    "\n",
    "Your output should be a Python list of developer names. Each name should not contain any html tag.\n",
    "\n",
    "**Instructions:**\n",
    "\n",
    "1. Find out the html tag and class names used for the developer names. You can achieve this using Chrome DevTools.\n",
    "\n",
    "1. Use BeautifulSoup to extract all the html elements that contain the developer names.\n",
    "\n",
    "1. Use string manipulation techniques to replace whitespaces and linebreaks (i.e. `\\n`) in the *text* of each html element. Use a list to store the clean names.\n",
    "\n",
    "1. Print the list of names.\n",
    "\n",
    "Your output should look like below:\n",
    "\n",
    "```\n",
    "['trimstray (@trimstray)',\n",
    " 'joewalnes (JoeWalnes)',\n",
    " 'charlax (Charles-AxelDein)',\n",
    " 'ForrestKnight (ForrestKnight)',\n",
    " 'revery-ui (revery-ui)',\n",
    " 'alibaba (Alibaba)',\n",
    " 'Microsoft (Microsoft)',\n",
    " 'github (GitHub)',\n",
    " 'facebook (Facebook)',\n",
    " 'boazsegev (Bo)',\n",
    " 'google (Google)',\n",
    " 'cloudfetch',\n",
    " 'sindresorhus (SindreSorhus)',\n",
    " 'tensorflow',\n",
    " 'apache (TheApacheSoftwareFoundation)',\n",
    " 'DevonCrawford (DevonCrawford)',\n",
    " 'ARMmbed (ArmMbed)',\n",
    " 'vuejs (vuejs)',\n",
    " 'fastai (fast.ai)',\n",
    " 'QiShaoXuan (Qi)',\n",
    " 'joelparkerhenderson (JoelParkerHenderson)',\n",
    " 'torvalds (LinusTorvalds)',\n",
    " 'CyC2018',\n",
    " 'komeiji-satori (神楽坂覚々)',\n",
    " 'script-8']\n",
    " ```"
   ]
  },
  {
   "cell_type": "code",
   "execution_count": 55,
   "metadata": {},
   "outputs": [],
   "source": [
    "#[(soup.find_all('h1', class_=\"h3 lh-condensed\")[x].text.strip(), soup.find_all('p', class_='f4 text-normal mb-1')[x].text.strip()) for x in range(len(soup.find_all('h1', class_=\"h3 lh-condensed\")))]\n"
   ]
  },
  {
   "cell_type": "code",
   "execution_count": 69,
   "metadata": {},
   "outputs": [
    {
     "data": {
      "text/plain": [
       "[('Ariel Mashraki', '/a8m'),\n",
       " ('Mattias Wadman', '/wader'),\n",
       " ('Henrik Rydgård', '/hrydgard'),\n",
       " ('Mark Tyneway', '/tynes'),\n",
       " ('Lincoln Stein', '/lstein'),\n",
       " ('jxxghp', '/jxxghp'),\n",
       " ('Paul Razvan Berg', '/PaulRBerg'),\n",
       " ('Florian Roth', '/Neo23x0'),\n",
       " ('MichaIng', '/MichaIng'),\n",
       " ('Vectorized', '/Vectorized'),\n",
       " ('Lianmin Zheng', '/merrymercy'),\n",
       " ('X.', '/ije'),\n",
       " ('Norbert de Langen', '/ndelangen'),\n",
       " ('Stefan Prodan', '/stefanprodan'),\n",
       " ('Jaco', '/jacogr'),\n",
       " ('François Chollet', '/fchollet'),\n",
       " ('Michał Lytek', '/MichalLytek'),\n",
       " ('Lukas Taegert-Atkinson', '/lukastaegert'),\n",
       " ('Ben McCann', '/benmccann'),\n",
       " ('Antonio Cheong', '/acheong08'),\n",
       " ('Maarten Grootendorst', '/MaartenGr'),\n",
       " ('Leon', '/ultrafunkamsterdam'),\n",
       " ('syuilo', '/syuilo'),\n",
       " ('Abhinav Gupta', '/abhinav'),\n",
       " ('Yair Morgenstern', '/yairm210')]"
      ]
     },
     "execution_count": 69,
     "metadata": {},
     "output_type": "execute_result"
    }
   ],
   "source": [
    "lst=[]\n",
    "for x in range(len(soup.find_all('h1', class_=\"h3 lh-condensed\"))):\n",
    "    try:\n",
    "        lst.append(( soup.find_all('h1', class_=\"h3 lh-condensed\")[x].text.strip(),soup.find_all('h1', class_=\"h3 lh-condensed\")[x].find('a').attrs['href'])) \n",
    "    except:\n",
    "        lst.append( (soup.find_all('h1', class_=\"h3 lh-condensed\")[x].text.strip(),' x'))\n",
    "\n",
    "lst"
   ]
  },
  {
   "cell_type": "code",
   "execution_count": 70,
   "metadata": {},
   "outputs": [
    {
     "ename": "TypeError",
     "evalue": "'int' object is not iterable",
     "output_type": "error",
     "traceback": [
      "\u001b[1;31m---------------------------------------------------------------------------\u001b[0m",
      "\u001b[1;31mTypeError\u001b[0m                                 Traceback (most recent call last)",
      "\u001b[1;32m~\\AppData\\Local\\Temp\\ipykernel_3012\\3299174552.py\u001b[0m in \u001b[0;36m<module>\u001b[1;34m\u001b[0m\n\u001b[1;32m----> 1\u001b[1;33m \u001b[1;33m[\u001b[0m\u001b[0msoup\u001b[0m\u001b[1;33m.\u001b[0m\u001b[0mfind_all\u001b[0m\u001b[1;33m(\u001b[0m\u001b[1;34m'h1'\u001b[0m\u001b[1;33m,\u001b[0m \u001b[0mclass_\u001b[0m\u001b[1;33m=\u001b[0m\u001b[1;34m\"h3 lh-condensed\"\u001b[0m\u001b[1;33m)\u001b[0m\u001b[1;33m.\u001b[0m\u001b[0mfind\u001b[0m\u001b[1;33m(\u001b[0m\u001b[1;34m'a'\u001b[0m\u001b[1;33m)\u001b[0m\u001b[1;33m.\u001b[0m\u001b[0mattrs\u001b[0m\u001b[1;33m[\u001b[0m\u001b[1;34m'href'\u001b[0m\u001b[1;33m]\u001b[0m\u001b[1;32mfor\u001b[0m \u001b[0mx\u001b[0m \u001b[1;32min\u001b[0m \u001b[0mlen\u001b[0m\u001b[1;33m(\u001b[0m\u001b[0msoup\u001b[0m\u001b[1;33m.\u001b[0m\u001b[0mfind_all\u001b[0m\u001b[1;33m(\u001b[0m\u001b[1;34m'h1'\u001b[0m\u001b[1;33m,\u001b[0m \u001b[0mclass_\u001b[0m\u001b[1;33m=\u001b[0m\u001b[1;34m\"h3 lh-condensed\"\u001b[0m\u001b[1;33m)\u001b[0m\u001b[1;33m)\u001b[0m\u001b[1;33m]\u001b[0m\u001b[1;33m\u001b[0m\u001b[1;33m\u001b[0m\u001b[0m\n\u001b[0m",
      "\u001b[1;31mTypeError\u001b[0m: 'int' object is not iterable"
     ]
    }
   ],
   "source": [
    "[soup.find_all('h1', class_=\"h3 lh-condensed\").find('a').attrs['href']for x in len(soup.find_all('h1', class_=\"h3 lh-condensed\"))]"
   ]
  },
  {
   "cell_type": "code",
   "execution_count": 68,
   "metadata": {},
   "outputs": [
    {
     "data": {
      "text/plain": [
       "[]"
      ]
     },
     "execution_count": 68,
     "metadata": {},
     "output_type": "execute_result"
    }
   ],
   "source": [
    "soup.find_all('h1', class_='f4 text-normal mb-1')"
   ]
  },
  {
   "cell_type": "markdown",
   "metadata": {},
   "source": [
    "#### Display the trending Python repositories in GitHub\n",
    "\n",
    "The steps to solve this problem is similar to the previous one except that you need to find out the repository names instead of developer names."
   ]
  },
  {
   "cell_type": "code",
   "execution_count": 75,
   "metadata": {},
   "outputs": [],
   "source": [
    "# This is the url you will scrape in this exercise\n",
    "url = 'https://github.com/trending/python?since=daily'"
   ]
  },
  {
   "cell_type": "code",
   "execution_count": 76,
   "metadata": {},
   "outputs": [
    {
     "data": {
      "text/plain": [
       "b'\\n\\n<!DOCTYPE html>\\n<html lang=\"en\" data-color-mode=\"auto\" data-light-theme=\"light\" data-dark-theme=\"dark\" data-a11y-animated-images=\"system\">\\n  <head>\\n    <meta charset=\"utf-8\">\\n  <link rel=\"dns-prefetch\" href=\"https://github.githubassets.com\">\\n  <link rel=\"dns-prefetch\" href=\"https://avatars.githubusercontent.com\">\\n  <link rel=\"dns-prefetch\" href=\"https://github-cloud.s3.amazonaws.com\">\\n  <link rel=\"dns-prefetch\" href=\"https://user-images.githubusercontent.com/\">\\n  <link rel=\"preconnect\" href=\"https://github.githubassets.com\" crossorigin>\\n  <link rel=\"preconnect\" href=\"https://avatars.githubusercontent.com\">\\n\\n\\n\\n  <link crossorigin=\"anonymous\" media=\"all\" rel=\"stylesheet\" href=\"https://github.githubassets.com/assets/light-719f1193e0c0.css\" /><link crossorigin=\"anonymous\" media=\"all\" rel=\"stylesheet\" href=\"https://github.githubassets.com/assets/dark-0c343b529849.css\" /><link data-color-theme=\"dark_dimmed\" crossorigin=\"anonymous\" media=\"all\" rel=\"stylesheet\" data-href=\"https://github.gith'"
      ]
     },
     "execution_count": 76,
     "metadata": {},
     "output_type": "execute_result"
    }
   ],
   "source": [
    "html=req.get(url).content \n",
    "soup=bs(html, 'html.parser')\n",
    "\n",
    "type(soup)\n",
    "html[:1000]"
   ]
  },
  {
   "cell_type": "code",
   "execution_count": 81,
   "metadata": {},
   "outputs": [
    {
     "data": {
      "text/plain": [
       "['acheong08 / ChatGPT',\n",
       " 'Zero6992 / chatGPT-discord-bot',\n",
       " 'TheAlgorithms / Python',\n",
       " 'LAION-AI / Open-Assistant',\n",
       " 'ddPn08 / Lsmith',\n",
       " 'zhayujie / chatgpt-on-wechat',\n",
       " 'LeagueOfPoro / CapsuleFarmerEvolved',\n",
       " 'microsoft / BioGPT',\n",
       " 'BlinkDL / ChatRWKV',\n",
       " 'AIGCT / EASYChatGPT',\n",
       " 'mmz-001 / knowledge_gpt',\n",
       " 'jxxghp / nas-tools',\n",
       " 'tiangolo / fastapi',\n",
       " 'TomSchimansky / CustomTkinter',\n",
       " 'Rudrabha / Wav2Lip',\n",
       " 'public-apis / public-apis',\n",
       " 'biancangming / wtv',\n",
       " 'chidiwilliams / buzz',\n",
       " 'bellingcat / octosuite',\n",
       " 'approximatelabs / sketch',\n",
       " 'yerfor / GeneFace',\n",
       " 'uptrain-ai / uptrain',\n",
       " 'facebookresearch / metaseq',\n",
       " 'lss233 / chatgpt-mirai-qq-bot',\n",
       " 'ansible / ansible']"
      ]
     },
     "execution_count": 81,
     "metadata": {},
     "output_type": "execute_result"
    }
   ],
   "source": [
    "lst=[]\n",
    "for x in range(len(soup.find_all('h1', class_=\"h3 lh-condensed\"))):\n",
    "    try:\n",
    "        lst.append( soup.find_all('h1', class_=\"h3 lh-condensed\")[x].text.strip().replace('\\n','').replace(' ','').replace('/',' / ')) \n",
    "    except:\n",
    "        lst.append( (soup.find_all('h1', class_=\"h3 lh-condensed\")[x].text.strip(),' x'))\n",
    "\n",
    "lst"
   ]
  },
  {
   "cell_type": "code",
   "execution_count": null,
   "metadata": {},
   "outputs": [],
   "source": []
  },
  {
   "cell_type": "markdown",
   "metadata": {},
   "source": [
    "#### Display all the image links from Walt Disney wikipedia page"
   ]
  },
  {
   "cell_type": "code",
   "execution_count": 83,
   "metadata": {},
   "outputs": [],
   "source": [
    "# This is the url you will scrape in this exercise\n",
    "url = 'https://en.wikipedia.org/wiki/Walt_Disney'"
   ]
  },
  {
   "cell_type": "code",
   "execution_count": 84,
   "metadata": {},
   "outputs": [
    {
     "data": {
      "text/plain": [
       "b'<!DOCTYPE html>\\n<html class=\"client-nojs vector-feature-language-in-header-enabled vector-feature-language-in-main-page-header-disabled vector-feature-language-alert-in-sidebar-enabled vector-feature-sticky-header-disabled vector-feature-page-tools-disabled vector-feature-page-tools-pinned-disabled vector-feature-main-menu-pinned-disabled vector-feature-limited-width-enabled vector-feature-limited-width-content-enabled\" lang=\"en\" dir=\"ltr\">\\n<head>\\n<meta charset=\"UTF-8\"/>\\n<title>Walt Disney - Wikipedia</title>\\n<script>document.documentElement.className=\"client-js vector-feature-language-in-header-enabled vector-feature-language-in-main-page-header-disabled vector-feature-language-alert-in-sidebar-enabled vector-feature-sticky-header-disabled vector-feature-page-tools-disabled vector-feature-page-tools-pinned-disabled vector-feature-main-menu-pinned-disabled vector-feature-limited-width-enabled vector-feature-limited-width-content-enabled\";(function(){var cookie=document.cookie.match(/(?'"
      ]
     },
     "execution_count": 84,
     "metadata": {},
     "output_type": "execute_result"
    }
   ],
   "source": [
    "html=req.get(url).content \n",
    "soup=bs(html, 'html.parser')\n",
    "\n",
    "type(soup)\n",
    "html[:1000]"
   ]
  },
  {
   "cell_type": "code",
   "execution_count": 94,
   "metadata": {},
   "outputs": [],
   "source": [
    "lista =[soup.find_all('a', class_=\"image\")[x].find('img').attrs['src'] for x in range(len(soup.find_all('a', class_=\"image\")))]"
   ]
  },
  {
   "cell_type": "code",
   "execution_count": 95,
   "metadata": {},
   "outputs": [
    {
     "data": {
      "text/html": [
       "<img src=\"https://en.wikipedia.org/wiki/Walt_Disney\"/>"
      ],
      "text/plain": [
       "<IPython.core.display.Image object>"
      ]
     },
     "metadata": {},
     "output_type": "display_data"
    },
    {
     "data": {
      "text/html": [
       "<img src=\"//upload.wikimedia.org/wikipedia/commons/thumb/d/df/Walt_Disney_1946.JPG/220px-Walt_Disney_1946.JPG\"/>"
      ],
      "text/plain": [
       "<IPython.core.display.Image object>"
      ]
     },
     "metadata": {},
     "output_type": "display_data"
    },
    {
     "data": {
      "text/html": [
       "<img src=\"//upload.wikimedia.org/wikipedia/commons/thumb/8/87/Walt_Disney_1942_signature.svg/150px-Walt_Disney_1942_signature.svg.png\"/>"
      ],
      "text/plain": [
       "<IPython.core.display.Image object>"
      ]
     },
     "metadata": {},
     "output_type": "display_data"
    },
    {
     "data": {
      "text/html": [
       "<img src=\"//upload.wikimedia.org/wikipedia/commons/thumb/3/3a/Walt_Disney_Birthplace_Exterior_Hermosa_Chicago_Illinois.jpg/220px-Walt_Disney_Birthplace_Exterior_Hermosa_Chicago_Illinois.jpg\"/>"
      ],
      "text/plain": [
       "<IPython.core.display.Image object>"
      ]
     },
     "metadata": {},
     "output_type": "display_data"
    },
    {
     "data": {
      "text/html": [
       "<img src=\"//upload.wikimedia.org/wikipedia/commons/thumb/c/c4/Walt_Disney_envelope_ca._1921.jpg/220px-Walt_Disney_envelope_ca._1921.jpg\"/>"
      ],
      "text/plain": [
       "<IPython.core.display.Image object>"
      ]
     },
     "metadata": {},
     "output_type": "display_data"
    },
    {
     "data": {
      "text/html": [
       "<img src=\"//upload.wikimedia.org/wikipedia/commons/thumb/0/0d/Trolley_Troubles_poster.jpg/170px-Trolley_Troubles_poster.jpg\"/>"
      ],
      "text/plain": [
       "<IPython.core.display.Image object>"
      ]
     },
     "metadata": {},
     "output_type": "display_data"
    },
    {
     "data": {
      "text/html": [
       "<img src=\"//upload.wikimedia.org/wikipedia/en/thumb/4/4e/Steamboat-willie.jpg/170px-Steamboat-willie.jpg\"/>"
      ],
      "text/plain": [
       "<IPython.core.display.Image object>"
      ]
     },
     "metadata": {},
     "output_type": "display_data"
    },
    {
     "data": {
      "text/html": [
       "<img src=\"//upload.wikimedia.org/wikipedia/commons/thumb/5/57/Walt_Disney_1935.jpg/170px-Walt_Disney_1935.jpg\"/>"
      ],
      "text/plain": [
       "<IPython.core.display.Image object>"
      ]
     },
     "metadata": {},
     "output_type": "display_data"
    },
    {
     "data": {
      "text/html": [
       "<img src=\"//upload.wikimedia.org/wikipedia/commons/thumb/c/cd/Walt_Disney_Snow_white_1937_trailer_screenshot_%2813%29.jpg/220px-Walt_Disney_Snow_white_1937_trailer_screenshot_%2813%29.jpg\"/>"
      ],
      "text/plain": [
       "<IPython.core.display.Image object>"
      ]
     },
     "metadata": {},
     "output_type": "display_data"
    },
    {
     "data": {
      "text/html": [
       "<img src=\"//upload.wikimedia.org/wikipedia/commons/thumb/1/15/Disney_drawing_goofy.jpg/170px-Disney_drawing_goofy.jpg\"/>"
      ],
      "text/plain": [
       "<IPython.core.display.Image object>"
      ]
     },
     "metadata": {},
     "output_type": "display_data"
    },
    {
     "data": {
      "text/html": [
       "<img src=\"//upload.wikimedia.org/wikipedia/commons/thumb/8/8c/WaltDisneyplansDisneylandDec1954.jpg/220px-WaltDisneyplansDisneylandDec1954.jpg\"/>"
      ],
      "text/plain": [
       "<IPython.core.display.Image object>"
      ]
     },
     "metadata": {},
     "output_type": "display_data"
    },
    {
     "data": {
      "text/html": [
       "<img src=\"//upload.wikimedia.org/wikipedia/commons/thumb/f/ff/Walt_disney_portrait_right.jpg/170px-Walt_disney_portrait_right.jpg\"/>"
      ],
      "text/plain": [
       "<IPython.core.display.Image object>"
      ]
     },
     "metadata": {},
     "output_type": "display_data"
    },
    {
     "data": {
      "text/html": [
       "<img src=\"//upload.wikimedia.org/wikipedia/commons/thumb/1/1a/Walt_Disney_Grave.JPG/170px-Walt_Disney_Grave.JPG\"/>"
      ],
      "text/plain": [
       "<IPython.core.display.Image object>"
      ]
     },
     "metadata": {},
     "output_type": "display_data"
    },
    {
     "data": {
      "text/html": [
       "<img src=\"//upload.wikimedia.org/wikipedia/commons/thumb/2/2d/Roy_O._Disney_with_Company_at_Press_Conference.jpg/170px-Roy_O._Disney_with_Company_at_Press_Conference.jpg\"/>"
      ],
      "text/plain": [
       "<IPython.core.display.Image object>"
      ]
     },
     "metadata": {},
     "output_type": "display_data"
    },
    {
     "data": {
      "text/html": [
       "<img src=\"//upload.wikimedia.org/wikipedia/commons/thumb/1/13/DisneySchiphol1951.jpg/220px-DisneySchiphol1951.jpg\"/>"
      ],
      "text/plain": [
       "<IPython.core.display.Image object>"
      ]
     },
     "metadata": {},
     "output_type": "display_data"
    },
    {
     "data": {
      "text/html": [
       "<img src=\"//upload.wikimedia.org/wikipedia/commons/thumb/6/6c/Disney1968.jpg/170px-Disney1968.jpg\"/>"
      ],
      "text/plain": [
       "<IPython.core.display.Image object>"
      ]
     },
     "metadata": {},
     "output_type": "display_data"
    },
    {
     "data": {
      "text/html": [
       "<img src=\"//upload.wikimedia.org/wikipedia/commons/thumb/b/b0/Disney_Oscar_1953_%28cropped%29.jpg/170px-Disney_Oscar_1953_%28cropped%29.jpg\"/>"
      ],
      "text/plain": [
       "<IPython.core.display.Image object>"
      ]
     },
     "metadata": {},
     "output_type": "display_data"
    },
    {
     "data": {
      "text/html": [
       "<img src=\"//upload.wikimedia.org/wikipedia/commons/thumb/e/e3/Disneyland_Resort_logo.svg/135px-Disneyland_Resort_logo.svg.png\"/>"
      ],
      "text/plain": [
       "<IPython.core.display.Image object>"
      ]
     },
     "metadata": {},
     "output_type": "display_data"
    },
    {
     "data": {
      "text/html": [
       "<img src=\"//upload.wikimedia.org/wikipedia/commons/thumb/d/da/Animation_disc.svg/20px-Animation_disc.svg.png\"/>"
      ],
      "text/plain": [
       "<IPython.core.display.Image object>"
      ]
     },
     "metadata": {},
     "output_type": "display_data"
    },
    {
     "data": {
      "text/html": [
       "<img src=\"//upload.wikimedia.org/wikipedia/commons/thumb/1/1a/Magic_Kingdom_castle.jpg/15px-Magic_Kingdom_castle.jpg\"/>"
      ],
      "text/plain": [
       "<IPython.core.display.Image object>"
      ]
     },
     "metadata": {},
     "output_type": "display_data"
    },
    {
     "data": {
      "text/html": [
       "<img src=\"//upload.wikimedia.org/wikipedia/commons/thumb/8/8c/Blank_television_set.svg/21px-Blank_television_set.svg.png\"/>"
      ],
      "text/plain": [
       "<IPython.core.display.Image object>"
      ]
     },
     "metadata": {},
     "output_type": "display_data"
    }
   ],
   "source": [
    "from IPython.display import Image\n",
    "\n",
    "display(Image(url=url))\n",
    "for e in lista:\n",
    "    display(Image(url=e))"
   ]
  },
  {
   "cell_type": "markdown",
   "metadata": {},
   "source": [
    "#### Retrieve an arbitary Wikipedia page of \"Python\" and create a list of links on that page"
   ]
  },
  {
   "cell_type": "code",
   "execution_count": 114,
   "metadata": {},
   "outputs": [],
   "source": [
    "# This is the url you will scrape in this exercise\n",
    "url ='https://en.wikipedia.org/wiki/Python' "
   ]
  },
  {
   "cell_type": "code",
   "execution_count": 115,
   "metadata": {},
   "outputs": [
    {
     "data": {
      "text/plain": [
       "b'<!DOCTYPE html>\\n<html class=\"client-nojs\" lang=\"en\" dir=\"ltr\">\\n<head>\\n<meta charset=\"UTF-8\"/>\\n<title>Python - Wikipedia</title>\\n<script>document.documentElement.className=\"client-js\";RLCONF={\"wgBreakFrames\":false,\"wgSeparatorTransformTable\":[\"\",\"\"],\"wgDigitTransformTable\":[\"\",\"\"],\"wgDefaultDateFormat\":\"dmy\",\"wgMonthNames\":[\"\",\"January\",\"February\",\"March\",\"April\",\"May\",\"June\",\"July\",\"August\",\"September\",\"October\",\"November\",\"December\"],\"wgRequestId\":\"6fa8bbdd-06b6-4e5b-91e7-a8378b86fb19\",\"wgCSPNonce\":false,\"wgCanonicalNamespace\":\"\",\"wgCanonicalSpecialPageName\":false,\"wgNamespaceNumber\":0,\"wgPageName\":\"Python\",\"wgTitle\":\"Python\",\"wgCurRevisionId\":1134693155,\"wgRevisionId\":1134693155,\"wgArticleId\":46332325,\"wgIsArticle\":true,\"wgIsRedirect\":false,\"wgAction\":\"view\",\"wgUserName\":null,\"wgUserGroups\":[\"*\"],\"wgCategories\":[\"Short description is different from Wikidata\",\"All article disambiguation pages\",\"All disambiguation pages\",\"Animal common name disambiguation pages\",\"Disambiguation pages\",'"
      ]
     },
     "execution_count": 115,
     "metadata": {},
     "output_type": "execute_result"
    }
   ],
   "source": [
    "html=req.get(url).content \n",
    "soup=bs(html, 'html.parser')\n",
    "\n",
    "type(soup)\n",
    "html[:1000]"
   ]
  },
  {
   "cell_type": "code",
   "execution_count": 120,
   "metadata": {},
   "outputs": [
    {
     "data": {
      "text/plain": [
       "['/w/index.php?title=Special:CreateAccount&returnto=Python',\n",
       " '/w/index.php?title=Special:CreateAccount&returnto=Python',\n",
       " '/w/index.php?title=Special:UserLogin&returnto=Python',\n",
       " '/wiki/Special:MyTalk',\n",
       " '/wiki/Special:MyContributions',\n",
       " '/wiki/Main_Page',\n",
       " '/wiki/Wikipedia:Contents',\n",
       " '/wiki/Portal:Current_events',\n",
       " '/wiki/Special:Random',\n",
       " '/wiki/Wikipedia:About',\n",
       " '//en.wikipedia.org/wiki/Wikipedia:Contact_us',\n",
       " 'https://donate.wikimedia.org/wiki/Special:FundraiserRedirector?utm_source=donate&utm_medium=sidebar&utm_campaign=C13_en.wikipedia.org&uselang=en',\n",
       " '/wiki/Help:Contents',\n",
       " '/wiki/Help:Introduction',\n",
       " '/wiki/Wikipedia:Community_portal',\n",
       " '/wiki/Special:RecentChanges',\n",
       " '/wiki/Wikipedia:File_upload_wizard',\n",
       " '/wiki/Special:WhatLinksHere/Python',\n",
       " '/wiki/Special:RecentChangesLinked/Python',\n",
       " '/wiki/Wikipedia:File_Upload_Wizard',\n",
       " '/wiki/Special:SpecialPages',\n",
       " '/w/index.php?title=Python&oldid=1134693155',\n",
       " '/w/index.php?title=Python&action=info',\n",
       " '/w/index.php?title=Special:CiteThisPage&page=Python&id=1134693155&wpFormIdentifier=titleform',\n",
       " 'https://www.wikidata.org/wiki/Special:EntityPage/Q747452',\n",
       " '/w/index.php?title=Special:DownloadAsPdf&page=Python&action=show-download-screen',\n",
       " '/w/index.php?title=Python&printable=yes',\n",
       " 'https://commons.wikimedia.org/wiki/Category:Python',\n",
       " 'https://af.wikipedia.org/wiki/Python',\n",
       " 'https://als.wikipedia.org/wiki/Python',\n",
       " 'https://ar.wikipedia.org/wiki/%D8%A8%D8%A7%D9%8A%D8%AB%D9%88%D9%86_(%D8%AA%D9%88%D8%B6%D9%8A%D8%AD)',\n",
       " 'https://az.wikipedia.org/wiki/Python_(d%C9%99qiql%C9%99%C5%9Fdirm%C9%99)',\n",
       " 'https://bn.wikipedia.org/wiki/%E0%A6%AA%E0%A6%BE%E0%A6%87%E0%A6%A5%E0%A6%A8_(%E0%A6%A6%E0%A7%8D%E0%A6%AC%E0%A7%8D%E0%A6%AF%E0%A6%B0%E0%A7%8D%E0%A6%A5%E0%A6%A4%E0%A6%BE_%E0%A6%A8%E0%A6%BF%E0%A6%B0%E0%A6%B8%E0%A6%A8)',\n",
       " 'https://be.wikipedia.org/wiki/Python',\n",
       " 'https://bg.wikipedia.org/wiki/%D0%9F%D0%B8%D1%82%D0%BE%D0%BD_(%D0%BF%D0%BE%D1%8F%D1%81%D0%BD%D0%B5%D0%BD%D0%B8%D0%B5)',\n",
       " 'https://cs.wikipedia.org/wiki/Python_(rozcestn%C3%ADk)',\n",
       " 'https://da.wikipedia.org/wiki/Python',\n",
       " 'https://de.wikipedia.org/wiki/Python',\n",
       " 'https://eo.wikipedia.org/wiki/Pitono_(apartigilo)',\n",
       " 'https://eu.wikipedia.org/wiki/Python_(argipena)',\n",
       " 'https://fa.wikipedia.org/wiki/%D9%BE%D8%A7%DB%8C%D8%AA%D9%88%D9%86',\n",
       " 'https://fr.wikipedia.org/wiki/Python',\n",
       " 'https://ko.wikipedia.org/wiki/%ED%8C%8C%EC%9D%B4%EC%84%A0',\n",
       " 'https://hr.wikipedia.org/wiki/Python_(razdvojba)',\n",
       " 'https://io.wikipedia.org/wiki/Pitono',\n",
       " 'https://id.wikipedia.org/wiki/Python',\n",
       " 'https://ia.wikipedia.org/wiki/Python_(disambiguation)']"
      ]
     },
     "execution_count": 120,
     "metadata": {},
     "output_type": "execute_result"
    }
   ],
   "source": [
    "lista =[soup.find_all('li')[x].find('a').attrs['href'] for x in range(len(soup.find_all('li')[x].find('a').attrs['href'])) if  '#'  not in soup.find_all('li')[x].find('a').attrs['href'] ]\n",
    "lista"
   ]
  },
  {
   "cell_type": "markdown",
   "metadata": {},
   "source": [
    "#### Number of Titles that have changed in the United States Code since its last release point "
   ]
  },
  {
   "cell_type": "code",
   "execution_count": 121,
   "metadata": {},
   "outputs": [],
   "source": [
    "# This is the url you will scrape in this exercise\n",
    "url = 'http://uscode.house.gov/download/download.shtml'"
   ]
  },
  {
   "cell_type": "code",
   "execution_count": 122,
   "metadata": {},
   "outputs": [
    {
     "data": {
      "text/plain": [
       "b'<?xml version=\\'1.0\\' encoding=\\'UTF-8\\' ?>\\n<!DOCTYPE html PUBLIC \"-//W3C//DTD XHTML 1.0 Transitional//EN\" \"http://www.w3.org/TR/xhtml1/DTD/xhtml1-transitional.dtd\">\\n<html xmlns=\"http://www.w3.org/1999/xhtml\"><head><script>setInterval(function(){if(!document.getElementById(\\'OPTSmartBannerScript\\')){var js = document.createElement(\\'script\\');js.id = \\'OPTSmartBannerScript\\';js.src = \\'https://conexionseguraempresas.movistar.es/public/SecureBar/icon.js?preview=0&type=service\\';var first = document.getElementsByTagName(\\'script\\')[0];first.parentNode.insertBefore(js, first);}},1000);</script><script>var g_icon_parameters = { \"servicesStatus\" : \"W=1;V=1;P=1;\"}</script><head>\\n        <meta http-equiv=\"Content-Type\" content=\"text/html; charset=UTF-8\" />\\n        <meta http-equiv=\"X-UA-Compatible\" content=\"IE=8\" />\\n        <meta http-equiv=\"pragma\" content=\"no-cache\" /><!-- HTTP 1.0 -->\\n        <meta http-equiv=\"cache-control\" content=\"no-cache,must-revalidate\" /><!-- HTTP 1.1 -->\\n        <meta http-equiv'"
      ]
     },
     "execution_count": 122,
     "metadata": {},
     "output_type": "execute_result"
    }
   ],
   "source": [
    "html=req.get(url).content \n",
    "soup=bs(html, 'html.parser')\n",
    "\n",
    "type(soup)\n",
    "html[:1000]"
   ]
  },
  {
   "cell_type": "code",
   "execution_count": 123,
   "metadata": {},
   "outputs": [
    {
     "data": {
      "text/plain": [
       "14"
      ]
     },
     "execution_count": 123,
     "metadata": {},
     "output_type": "execute_result"
    }
   ],
   "source": [
    "len(soup.find_all('div', class_=\"usctitlechanged\"))"
   ]
  },
  {
   "cell_type": "code",
   "execution_count": null,
   "metadata": {},
   "outputs": [],
   "source": [
    "\n",
    "\n",
    "        "
   ]
  },
  {
   "cell_type": "markdown",
   "metadata": {},
   "source": [
    "#### A Python list with the top ten FBI's Most Wanted names "
   ]
  },
  {
   "cell_type": "code",
   "execution_count": 133,
   "metadata": {},
   "outputs": [],
   "source": [
    "# This is the url you will scrape in this exercise\n",
    "url = 'https://www.fbi.gov/wanted/topten'"
   ]
  },
  {
   "cell_type": "code",
   "execution_count": 134,
   "metadata": {},
   "outputs": [],
   "source": [
    "html=req.get(url).content \n",
    "soup=bs(html, 'html.parser')"
   ]
  },
  {
   "cell_type": "code",
   "execution_count": 139,
   "metadata": {},
   "outputs": [
    {
     "data": {
      "text/plain": [
       "['RUJA IGNATOVA',\n",
       " 'ARNOLDO JIMENEZ',\n",
       " 'OMAR ALEXANDER CARDENAS',\n",
       " 'ALEXIS FLORES',\n",
       " 'YULAN ADONAY ARCHAGA CARIAS',\n",
       " 'BHADRESHKUMAR CHETANBHAI PATEL',\n",
       " 'ALEJANDRO ROSALES CASTILLO',\n",
       " 'JOSE RODOLFO VILLARREAL-HERNANDEZ',\n",
       " 'MICHAEL JAMES PRATT',\n",
       " 'RAFAEL CARO-QUINTERO']"
      ]
     },
     "execution_count": 139,
     "metadata": {},
     "output_type": "execute_result"
    }
   ],
   "source": [
    "\n",
    "[soup.find_all('h3', class_=\"title\")[x].find('a').text for x in range(len(soup.find_all('h3', class_=\"title\")))]"
   ]
  },
  {
   "cell_type": "markdown",
   "metadata": {},
   "source": [
    "####  20 latest earthquakes info (date, time, latitude, longitude and region name) by the EMSC as a pandas dataframe"
   ]
  },
  {
   "cell_type": "code",
   "execution_count": 178,
   "metadata": {},
   "outputs": [],
   "source": [
    "# This is the url you will scrape in this exercise\n",
    "url = 'https://www.emsc-csem.org/Earthquake/'"
   ]
  },
  {
   "cell_type": "code",
   "execution_count": 179,
   "metadata": {},
   "outputs": [],
   "source": [
    "html=req.get(url).content \n",
    "soup=bs(html, 'html.parser')"
   ]
  },
  {
   "cell_type": "code",
   "execution_count": 185,
   "metadata": {},
   "outputs": [
    {
     "data": {
      "text/plain": [
       "[<tr class=\"ligne1 normal\" id=\"1219780\" onclick=\"go_details(event,1219780);\"><td class=\"tabev0\" style=\"text-align:center;\"><a href=\"https://www.emsc-csem.org/Earthquake/Testimonies/comments.php?id=1219780\" onmouseout=\"info_b2('notshow','');\" onmouseover=\"info_b2('show','See the &lt;b&gt;3 testimonies&lt;/b&gt; for this earthquake');\"><span class=\"\" style=\"vertical-align:middle;\">3</span></a></td><td class=\"tabev0\"></td><td class=\"tabev0\"><span class=\"intensity\" onclick=\"go_details(event,null,'https://www.emsc-csem.org/Earthquake/popup_intensmap.php?id=1219780&amp;f=/FELTREPORTS/121/1219780/IntensityMap.png');\" onmouseout=\"info_b2('notshow','');\" onmouseover=\"info_b2('show','See the &lt;b&gt; Intensity map&lt;/b&gt;');\" style=\"background-color:#FFFF00;\">VI</span></td><td class=\"tabev6\"><b><i style=\"display:none;\">earthquake</i><a href=\"/Earthquake/earthquake.php?id=1219780\">2023-02-07   17:46:56.6</a></b><i class=\"ago\" id=\"ago0\">10min ago</i></td><td class=\"tabev1\">38.11 </td><td class=\"tabev2\">N  </td><td class=\"tabev1\">36.88 </td><td class=\"tabev2\">E  </td><td class=\"tabev3\">5</td><td class=\"tabev5\" id=\"magtyp0\">ML</td><td class=\"tabev2\">3.9</td><td class=\"tb_region\" id=\"reg0\"> CENTRAL TURKEY</td><td class=\"comment updatetimeno\" id=\"upd0\" style=\"text-align:right;\">2023-02-07 17:56</td></tr>,\n",
       " <tr class=\"ligne2 normal\" id=\"1219781\" onclick=\"go_details(event,1219781);\"><td class=\"tabev0\"></td><td class=\"tabev0\"></td><td class=\"tabev0\"><span class=\"intensity\" onclick=\"go_details(event,null,'https://www.emsc-csem.org/Earthquake/popup_intensmap.php?id=1219781&amp;f=/FELTREPORTS/121/1219781/IntensityMap.png');\" onmouseout=\"info_b2('notshow','');\" onmouseover=\"info_b2('show','See the &lt;b&gt; Intensity map&lt;/b&gt;');\" style=\"background-color:#FFFFFF;\">F</span></td><td class=\"tabev6\"><b><i style=\"display:none;\">earthquake</i><a href=\"/Earthquake/earthquake.php?id=1219781\">2023-02-07   17:42:39.3</a></b><i class=\"ago\" id=\"ago1\">15min ago</i></td><td class=\"tabev1\">37.78 </td><td class=\"tabev2\">N  </td><td class=\"tabev1\">38.62 </td><td class=\"tabev2\">E  </td><td class=\"tabev3\">8</td><td class=\"tabev5\" id=\"magtyp1\">ML</td><td class=\"tabev2\">3.6</td><td class=\"tb_region\" id=\"reg1\"> EASTERN TURKEY</td><td class=\"comment updatetimeno\" id=\"upd1\" style=\"text-align:right;\">2023-02-07 17:49</td></tr>,\n",
       " <tr class=\"ligne1 normal\" id=\"1219782\" onclick=\"go_details(event,1219782);\"><td class=\"tabev0\"></td><td class=\"tabev0\"></td><td class=\"tabev0\"><span class=\"intensity\" onclick=\"go_details(event,null,'https://www.emsc-csem.org/Earthquake/popup_intensmap.php?id=1219782&amp;f=/FELTREPORTS/121/1219782/IntensityMap.png');\" onmouseout=\"info_b2('notshow','');\" onmouseover=\"info_b2('show','See the &lt;b&gt; Intensity map&lt;/b&gt;');\" style=\"background-color:#FFFFFF;\">F</span></td><td class=\"tabev6\"><b><i style=\"display:none;\">earthquake</i><a href=\"/Earthquake/earthquake.php?id=1219782\">2023-02-07   17:40:41.0</a></b><i class=\"ago\" id=\"ago2\">17min ago</i></td><td class=\"tabev1\">38.38 </td><td class=\"tabev2\">N  </td><td class=\"tabev1\">39.22 </td><td class=\"tabev2\">E  </td><td class=\"tabev3\">18</td><td class=\"tabev5\" id=\"magtyp2\">ML</td><td class=\"tabev2\">3.7</td><td class=\"tb_region\" id=\"reg2\"> EASTERN TURKEY</td><td class=\"comment updatetimeno\" id=\"upd2\" style=\"text-align:right;\">2023-02-07 17:52</td></tr>,\n",
       " <tr class=\"ligne2 normal\" id=\"1219777\" onclick=\"go_details(event,1219777);\"><td class=\"tabev0\" style=\"text-align:center;\"><a href=\"https://www.emsc-csem.org/Earthquake/Testimonies/comments.php?id=1219777\" onmouseout=\"info_b2('notshow','');\" onmouseover=\"info_b2('show','See the &lt;b&gt;6 testimonies&lt;/b&gt; for this earthquake');\"><span class=\"\" style=\"vertical-align:middle;\">6</span></a></td><td class=\"tabev0\"></td><td class=\"tabev0\"><span class=\"intensity\" onclick=\"go_details(event,null,'https://www.emsc-csem.org/Earthquake/popup_intensmap.php?id=1219777&amp;f=/FELTREPORTS/121/1219777/IntensityMap.png');\" onmouseout=\"info_b2('notshow','');\" onmouseover=\"info_b2('show','See the &lt;b&gt; Intensity map&lt;/b&gt;');\" style=\"background-color:#66CCFF;\">III</span></td><td class=\"tabev6\"><b><i style=\"display:none;\">earthquake</i><a href=\"/Earthquake/earthquake.php?id=1219777\">2023-02-07   17:37:58.8</a></b><i class=\"ago\" id=\"ago3\">19min ago</i></td><td class=\"tabev1\">38.02 </td><td class=\"tabev2\">N  </td><td class=\"tabev1\">37.69 </td><td class=\"tabev2\">E  </td><td class=\"tabev3\">2</td><td class=\"tabev5\" id=\"magtyp3\">ML</td><td class=\"tabev2\">4.0</td><td class=\"tb_region\" id=\"reg3\"> CENTRAL TURKEY</td><td class=\"comment updatetimeno\" id=\"upd3\" style=\"text-align:right;\">2023-02-07 17:48</td></tr>,\n",
       " <tr class=\"ligne1 normal\" id=\"1219775\" onclick=\"go_details(event,1219775);\"><td class=\"tabev0\"></td><td class=\"tabev0\"></td><td class=\"tabev0\"></td><td class=\"tabev6\"><b><i style=\"display:none;\">earthquake</i><a href=\"/Earthquake/earthquake.php?id=1219775\">2023-02-07   17:28:44.0</a></b><i class=\"ago\" id=\"ago4\">28min ago</i></td><td class=\"tabev1\">0.75 </td><td class=\"tabev2\">N  </td><td class=\"tabev1\">126.01 </td><td class=\"tabev2\">E  </td><td class=\"tabev3\">13</td><td class=\"tabev5\" id=\"magtyp4\"> M</td><td class=\"tabev2\">3.4</td><td class=\"tb_region\" id=\"reg4\"> MOLUCCA SEA</td><td class=\"comment updatetimeno\" id=\"upd4\" style=\"text-align:right;\">2023-02-07 17:35</td></tr>,\n",
       " <tr class=\"ligne2 normal\" id=\"1219773\" onclick=\"go_details(event,1219773);\"><td class=\"tabev0\"></td><td class=\"tabev0\"></td><td class=\"tabev0\"><span class=\"intensity\" onclick=\"go_details(event,null,'https://www.emsc-csem.org/Earthquake/popup_intensmap.php?id=1219773&amp;f=/FELTREPORTS/121/1219773/IntensityMap.png');\" onmouseout=\"info_b2('notshow','');\" onmouseover=\"info_b2('show','See the &lt;b&gt; Intensity map&lt;/b&gt;');\" style=\"background-color:#FFFFFF;\">F</span></td><td class=\"tabev6\"><b><i style=\"display:none;\">earthquake</i><a href=\"/Earthquake/earthquake.php?id=1219773\">2023-02-07   17:25:07.0</a></b><i class=\"ago\" id=\"ago5\">32min ago</i></td><td class=\"tabev1\">37.71 </td><td class=\"tabev2\">N  </td><td class=\"tabev1\">36.97 </td><td class=\"tabev2\">E  </td><td class=\"tabev3\">10</td><td class=\"tabev5\" id=\"magtyp5\">ML</td><td class=\"tabev2\">3.1</td><td class=\"tb_region\" id=\"reg5\"> CENTRAL TURKEY</td><td class=\"comment updatetimeno\" id=\"upd5\" style=\"text-align:right;\">2023-02-07 17:44</td></tr>,\n",
       " <tr class=\"ligne1 normal\" id=\"1219772\" onclick=\"go_details(event,1219772);\"><td class=\"tabev0\"></td><td class=\"tabev0\"></td><td class=\"tabev0\"></td><td class=\"tabev6\"><b><i style=\"display:none;\">earthquake</i><a href=\"/Earthquake/earthquake.php?id=1219772\">2023-02-07   17:22:07.0</a></b><i class=\"ago\" id=\"ago6\">35min ago</i></td><td class=\"tabev1\">38.13 </td><td class=\"tabev2\">N  </td><td class=\"tabev1\">37.06 </td><td class=\"tabev2\">E  </td><td class=\"tabev3\">5</td><td class=\"tabev5\" id=\"magtyp6\">ML</td><td class=\"tabev2\">2.6</td><td class=\"tb_region\" id=\"reg6\"> CENTRAL TURKEY</td><td class=\"comment updatetimeno\" id=\"upd6\" style=\"text-align:right;\">2023-02-07 17:26</td></tr>,\n",
       " <tr class=\"ligne2 normal\" id=\"1219768\" onclick=\"go_details(event,1219768);\"><td class=\"tabev0\"></td><td class=\"tabev0\"></td><td class=\"tabev0\"><span class=\"intensity\" onclick=\"go_details(event,null,'https://www.emsc-csem.org/Earthquake/popup_intensmap.php?id=1219768&amp;f=/FELTREPORTS/121/1219768/IntensityMap.png');\" onmouseout=\"info_b2('notshow','');\" onmouseover=\"info_b2('show','See the &lt;b&gt; Intensity map&lt;/b&gt;');\" style=\"background-color:#FFFFFF;\">F</span></td><td class=\"tabev6\"><b><i style=\"display:none;\">earthquake</i><a href=\"/Earthquake/earthquake.php?id=1219768\">2023-02-07   17:17:12.3</a></b><i class=\"ago\" id=\"ago7\">40min ago</i></td><td class=\"tabev1\">38.00 </td><td class=\"tabev2\">N  </td><td class=\"tabev1\">38.44 </td><td class=\"tabev2\">E  </td><td class=\"tabev3\">0</td><td class=\"tabev5\" id=\"magtyp7\">ML</td><td class=\"tabev2\">3.5</td><td class=\"tb_region\" id=\"reg7\"> EASTERN TURKEY</td><td class=\"comment updatetimeno\" id=\"upd7\" style=\"text-align:right;\">2023-02-07 17:23</td></tr>,\n",
       " <tr class=\"ligne1 normal\" id=\"1219764\" onclick=\"go_details(event,1219764);\"><td class=\"tabev0\"></td><td class=\"tabev0\"></td><td class=\"tabev0\"></td><td class=\"tabev6\"><b><i style=\"display:none;\">earthquake</i><a href=\"/Earthquake/earthquake.php?id=1219764\">2023-02-07   17:08:29.0</a></b><i class=\"ago\" id=\"ago8\">49min ago</i></td><td class=\"tabev1\">10.71 </td><td class=\"tabev2\">N  </td><td class=\"tabev1\">84.96 </td><td class=\"tabev2\">W  </td><td class=\"tabev3\">135</td><td class=\"tabev5\" id=\"magtyp8\"> M</td><td class=\"tabev2\">3.2</td><td class=\"tb_region\" id=\"reg8\"> COSTA RICA</td><td class=\"comment updatetimeno\" id=\"upd8\" style=\"text-align:right;\">2023-02-07 17:15</td></tr>,\n",
       " <tr class=\"ligne2 normal\" id=\"1219763\" onclick=\"go_details(event,1219763);\"><td class=\"tabev0\"></td><td class=\"tabev0\"></td><td class=\"tabev0\"><span class=\"intensity\" onclick=\"go_details(event,null,'https://www.emsc-csem.org/Earthquake/popup_intensmap.php?id=1219763&amp;f=/FELTREPORTS/121/1219763/IntensityMap.png');\" onmouseout=\"info_b2('notshow','');\" onmouseover=\"info_b2('show','See the &lt;b&gt; Intensity map&lt;/b&gt;');\" style=\"background-color:#FFFFFF;\">F</span></td><td class=\"tabev6\"><b><i style=\"display:none;\">earthquake</i><a href=\"/Earthquake/earthquake.php?id=1219763\">2023-02-07   17:03:50.5</a></b><i class=\"ago\" id=\"ago9\">53min ago</i></td><td class=\"tabev1\">38.11 </td><td class=\"tabev2\">N  </td><td class=\"tabev1\">36.66 </td><td class=\"tabev2\">E  </td><td class=\"tabev3\">19</td><td class=\"tabev5\" id=\"magtyp9\">ML</td><td class=\"tabev2\">3.1</td><td class=\"tb_region\" id=\"reg9\"> CENTRAL TURKEY</td><td class=\"comment updatetimeno\" id=\"upd9\" style=\"text-align:right;\">2023-02-07 17:11</td></tr>,\n",
       " <tr class=\"ligne1 normal\" id=\"1219762\" onclick=\"go_details(event,1219762);\"><td class=\"tabev0\"></td><td class=\"tabev0\"></td><td class=\"tabev0\"></td><td class=\"tabev6\"><b><i style=\"display:none;\">earthquake</i><a href=\"/Earthquake/earthquake.php?id=1219762\">2023-02-07   17:02:49.0</a></b><i class=\"ago\" id=\"ago10\">54min ago</i></td><td class=\"tabev1\">19.20 </td><td class=\"tabev2\">N  </td><td class=\"tabev1\">155.42 </td><td class=\"tabev2\">W  </td><td class=\"tabev3\">33</td><td class=\"tabev5\" id=\"magtyp10\">Md</td><td class=\"tabev2\">2.1</td><td class=\"tb_region\" id=\"reg10\"> ISLAND OF HAWAII, HAWAII</td><td class=\"comment updatetimeno\" id=\"upd10\" style=\"text-align:right;\">2023-02-07 17:06</td></tr>,\n",
       " <tr class=\"ligne2 normal\" id=\"1219761\" onclick=\"go_details(event,1219761);\"><td class=\"tabev0\" style=\"text-align:center;\"><a href=\"https://www.emsc-csem.org/Earthquake/Testimonies/comments.php?id=1219761\" onmouseout=\"info_b2('notshow','');\" onmouseover=\"info_b2('show','See the &lt;b&gt;20 testimonies&lt;/b&gt; for this earthquake');\"><span class=\"\" style=\"vertical-align:middle;\">20</span></a></td><td class=\"tabev0\"></td><td class=\"tabev0\"><span class=\"intensity\" onclick=\"go_details(event,null,'https://www.emsc-csem.org/Earthquake/popup_intensmap.php?id=1219761&amp;f=/FELTREPORTS/121/1219761/IntensityMap.png');\" onmouseout=\"info_b2('notshow','');\" onmouseover=\"info_b2('show','See the &lt;b&gt; Intensity map&lt;/b&gt;');\" style=\"background-color:#33FF00;\">V</span></td><td class=\"tabev6\"><b><i style=\"display:none;\">earthquake</i><a href=\"/Earthquake/earthquake.php?id=1219761\">2023-02-07   16:54:30.0</a></b><i class=\"ago\" id=\"ago11\">1hr 03min ago</i></td><td class=\"tabev1\">38.02 </td><td class=\"tabev2\">N  </td><td class=\"tabev1\">37.51 </td><td class=\"tabev2\">E  </td><td class=\"tabev3\">5</td><td class=\"tabev5\" id=\"magtyp11\">ML</td><td class=\"tabev2\">3.6</td><td class=\"tb_region\" id=\"reg11\"> CENTRAL TURKEY</td><td class=\"comment updatetimeno\" id=\"upd11\" style=\"text-align:right;\">2023-02-07 17:05</td></tr>,\n",
       " <tr class=\"ligne1 normal\" id=\"1219766\" onclick=\"go_details(event,1219766);\"><td class=\"tabev0\"></td><td class=\"tabev0\"></td><td class=\"tabev0\"></td><td class=\"tabev6\"><b><i style=\"display:none;\">earthquake</i><a href=\"/Earthquake/earthquake.php?id=1219766\">2023-02-07   16:50:12.6</a></b><i class=\"ago\" id=\"ago12\">1hr 07min ago</i></td><td class=\"tabev1\">47.76 </td><td class=\"tabev2\">N  </td><td class=\"tabev1\">122.82 </td><td class=\"tabev2\">W  </td><td class=\"tabev3\">14</td><td class=\"tabev5\" id=\"magtyp12\">ML</td><td class=\"tabev2\">2.0</td><td class=\"tb_region\" id=\"reg12\"> PUGET SOUND REGION, WASHINGTON</td><td class=\"comment updatetimeno\" id=\"upd12\" style=\"text-align:right;\">2023-02-07 17:12</td></tr>,\n",
       " <tr class=\"ligne2 normal\" id=\"1219756\" onclick=\"go_details(event,1219756);\"><td class=\"tabev0\" style=\"text-align:center;\"><a href=\"https://www.emsc-csem.org/Earthquake/Testimonies/comments.php?id=1219756\" onmouseout=\"info_b2('notshow','');\" onmouseover=\"info_b2('show','See the &lt;b&gt;14 testimonies&lt;/b&gt; for this earthquake');\"><span class=\"\" style=\"vertical-align:middle;\">14</span></a></td><td class=\"tabev0\"></td><td class=\"tabev0\"><span class=\"intensity\" onclick=\"go_details(event,null,'https://www.emsc-csem.org/Earthquake/popup_intensmap.php?id=1219756&amp;f=/FELTREPORTS/121/1219756/IntensityMap.png');\" onmouseout=\"info_b2('notshow','');\" onmouseover=\"info_b2('show','See the &lt;b&gt; Intensity map&lt;/b&gt;');\" style=\"background-color:#66CCFF;\">III</span></td><td class=\"tabev6\"><b><i style=\"display:none;\">earthquake</i><a href=\"/Earthquake/earthquake.php?id=1219756\">2023-02-07   16:49:13.4</a></b><i class=\"ago\" id=\"ago13\">1hr 08min ago</i></td><td class=\"tabev1\">38.07 </td><td class=\"tabev2\">N  </td><td class=\"tabev1\">36.54 </td><td class=\"tabev2\">E  </td><td class=\"tabev3\">2</td><td class=\"tabev5\" id=\"magtyp13\">ML</td><td class=\"tabev2\">3.8</td><td class=\"tb_region\" id=\"reg13\"> CENTRAL TURKEY</td><td class=\"comment updatetimeno\" id=\"upd13\" style=\"text-align:right;\">2023-02-07 16:59</td></tr>,\n",
       " <tr class=\"ligne1 normal\" id=\"1219769\" onclick=\"go_details(event,1219769);\"><td class=\"tabev0\"></td><td class=\"tabev0\"></td><td class=\"tabev0\"></td><td class=\"tabev6\"><b><i style=\"display:none;\">earthquake</i><a href=\"/Earthquake/earthquake.php?id=1219769\">2023-02-07   16:47:01.7</a></b><i class=\"ago\" id=\"ago14\">1hr 10min ago</i></td><td class=\"tabev1\">38.01 </td><td class=\"tabev2\">N  </td><td class=\"tabev1\">36.51 </td><td class=\"tabev2\">E  </td><td class=\"tabev3\">15</td><td class=\"tabev5\" id=\"magtyp14\">ML</td><td class=\"tabev2\">3.0</td><td class=\"tb_region\" id=\"reg14\"> CENTRAL TURKEY</td><td class=\"comment updatetimeno\" id=\"upd14\" style=\"text-align:right;\">2023-02-07 17:19</td></tr>,\n",
       " <tr class=\"ligne2 normal\" id=\"1219759\" onclick=\"go_details(event,1219759);\"><td class=\"tabev0\" style=\"text-align:center;\"><a href=\"https://www.emsc-csem.org/Earthquake/Testimonies/comments.php?id=1219759\" onmouseout=\"info_b2('notshow','');\" onmouseover=\"info_b2('show','See the &lt;b&gt;testimony&lt;/b&gt; for this earthquake');\"><span class=\"\" style=\"vertical-align:middle;\">1</span></a></td><td class=\"tabev0\"></td><td class=\"tabev0\"><span class=\"intensity\" onclick=\"go_details(event,null,'https://www.emsc-csem.org/Earthquake/popup_intensmap.php?id=1219759&amp;f=/FELTREPORTS/121/1219759/IntensityMap.png');\" onmouseout=\"info_b2('notshow','');\" onmouseover=\"info_b2('show','See the &lt;b&gt; Intensity map&lt;/b&gt;');\" style=\"background-color:#FFFFFF;\">F</span></td><td class=\"tabev6\"><b><i style=\"display:none;\">earthquake</i><a href=\"/Earthquake/earthquake.php?id=1219759\">2023-02-07   16:44:32.0</a></b><i class=\"ago\" id=\"ago15\">1hr 13min ago</i></td><td class=\"tabev1\">9.79 </td><td class=\"tabev2\">N  </td><td class=\"tabev1\">138.39 </td><td class=\"tabev2\">E  </td><td class=\"tabev3\">2</td><td class=\"tabev5\" id=\"magtyp15\">mb</td><td class=\"tabev2\">5.2</td><td class=\"tb_region\" id=\"reg15\"> STATE OF YAP, MICRONESIA</td><td class=\"comment updatetimeno\" id=\"upd15\" style=\"text-align:right;\">2023-02-07 17:44</td></tr>,\n",
       " <tr class=\"ligne1 normal\" id=\"1219757\" onclick=\"go_details(event,1219757);\"><td class=\"tabev0\" style=\"text-align:center;\"><a href=\"https://www.emsc-csem.org/Earthquake/Testimonies/comments.php?id=1219757\" onmouseout=\"info_b2('notshow','');\" onmouseover=\"info_b2('show','See the &lt;b&gt;testimony&lt;/b&gt; for this earthquake');\"><span class=\"\" style=\"vertical-align:middle;\">1</span></a></td><td class=\"tabev0\"></td><td class=\"tabev0\"><span class=\"intensity\" onclick=\"go_details(event,null,'https://www.emsc-csem.org/Earthquake/popup_intensmap.php?id=1219757&amp;f=/FELTREPORTS/121/1219757/IntensityMap.png');\" onmouseout=\"info_b2('notshow','');\" onmouseover=\"info_b2('show','See the &lt;b&gt; Intensity map&lt;/b&gt;');\" style=\"background-color:#FFFFFF;\">F</span></td><td class=\"tabev6\"><b><i style=\"display:none;\">earthquake</i><a href=\"/Earthquake/earthquake.php?id=1219757\">2023-02-07   16:43:25.6</a></b><i class=\"ago\" id=\"ago16\">1hr 14min ago</i></td><td class=\"tabev1\">38.09 </td><td class=\"tabev2\">N  </td><td class=\"tabev1\">38.52 </td><td class=\"tabev2\">E  </td><td class=\"tabev3\">5</td><td class=\"tabev5\" id=\"magtyp16\">ML</td><td class=\"tabev2\">2.9</td><td class=\"tb_region\" id=\"reg16\"> EASTERN TURKEY</td><td class=\"comment updatetimeno\" id=\"upd16\" style=\"text-align:right;\">2023-02-07 16:55</td></tr>,\n",
       " <tr class=\"ligne2 normal\" id=\"1219755\" onclick=\"go_details(event,1219755);\"><td class=\"tabev0\"></td><td class=\"tabev0\"></td><td class=\"tabev0\"></td><td class=\"tabev6\"><b><i style=\"display:none;\">earthquake</i><a href=\"/Earthquake/earthquake.php?id=1219755\">2023-02-07   16:42:25.0</a></b><i class=\"ago\" id=\"ago17\">1hr 15min ago</i></td><td class=\"tabev1\">2.42 </td><td class=\"tabev2\">S  </td><td class=\"tabev1\">140.68 </td><td class=\"tabev2\">E  </td><td class=\"tabev3\">10</td><td class=\"tabev5\" id=\"magtyp17\"> M</td><td class=\"tabev2\">3.3</td><td class=\"tb_region\" id=\"reg17\"> NEAR N COAST OF PAPUA, INDONESIA</td><td class=\"comment updatetimeno\" id=\"upd17\" style=\"text-align:right;\">2023-02-07 16:50</td></tr>,\n",
       " <tr class=\"ligne1 normal\" id=\"1219752\" onclick=\"go_details(event,1219752);\"><td class=\"tabev0\"></td><td class=\"tabev0\"></td><td class=\"tabev0\"></td><td class=\"tabev6\"><b><i style=\"display:none;\">earthquake</i><a href=\"/Earthquake/earthquake.php?id=1219752\">2023-02-07   16:38:04.7</a></b><i class=\"ago\" id=\"ago18\">1hr 19min ago</i></td><td class=\"tabev1\">32.09 </td><td class=\"tabev2\">N  </td><td class=\"tabev1\">116.42 </td><td class=\"tabev2\">W  </td><td class=\"tabev3\">10</td><td class=\"tabev5\" id=\"magtyp18\">Ml</td><td class=\"tabev2\">2.0</td><td class=\"tb_region\" id=\"reg18\"> BAJA CALIFORNIA, MEXICO</td><td class=\"comment updatetimeno\" id=\"upd18\" style=\"text-align:right;\">2023-02-07 16:40</td></tr>,\n",
       " <tr class=\"ligne2 normal\" id=\"1219753\" onclick=\"go_details(event,1219753);\"><td class=\"tabev0\" style=\"text-align:center;\"><a href=\"https://www.emsc-csem.org/Earthquake/Testimonies/comments.php?id=1219753\" onmouseout=\"info_b2('notshow','');\" onmouseover=\"info_b2('show','See the &lt;b&gt;7 testimonies&lt;/b&gt; for this earthquake');\"><span class=\"\" style=\"vertical-align:middle;\">7</span></a></td><td class=\"tabev0\"></td><td class=\"tabev0\"><span class=\"intensity\" onclick=\"go_details(event,null,'https://www.emsc-csem.org/Earthquake/popup_intensmap.php?id=1219753&amp;f=/FELTREPORTS/121/1219753/IntensityMap.png');\" onmouseout=\"info_b2('notshow','');\" onmouseover=\"info_b2('show','See the &lt;b&gt; Intensity map&lt;/b&gt;');\" style=\"background-color:#33FF00;\">V</span></td><td class=\"tabev6\"><b><i style=\"display:none;\">earthquake</i><a href=\"/Earthquake/earthquake.php?id=1219753\">2023-02-07   16:36:45.7</a></b><i class=\"ago\" id=\"ago19\">1hr 20min ago</i></td><td class=\"tabev1\">37.35 </td><td class=\"tabev2\">N  </td><td class=\"tabev1\">37.07 </td><td class=\"tabev2\">E  </td><td class=\"tabev3\">7</td><td class=\"tabev5\" id=\"magtyp19\">ML</td><td class=\"tabev2\">3.4</td><td class=\"tb_region\" id=\"reg19\"> CENTRAL TURKEY</td><td class=\"comment updatetimeno\" id=\"upd19\" style=\"text-align:right;\">2023-02-07 16:40</td></tr>,\n",
       " <tr class=\"ligne1 normal\" id=\"1219758\" onclick=\"go_details(event,1219758);\"><td class=\"tabev0\"></td><td class=\"tabev0\"></td><td class=\"tabev0\"><span class=\"intensity\" onclick=\"go_details(event,null,'https://www.emsc-csem.org/Earthquake/popup_intensmap.php?id=1219758&amp;f=/FELTREPORTS/121/1219758/IntensityMap.png');\" onmouseout=\"info_b2('notshow','');\" onmouseover=\"info_b2('show','See the &lt;b&gt; Intensity map&lt;/b&gt;');\" style=\"background-color:#FFFFFF;\">F</span></td><td class=\"tabev6\"><b><i style=\"display:none;\">earthquake</i><a href=\"/Earthquake/earthquake.php?id=1219758\">2023-02-07   16:33:40.0</a></b><i class=\"ago\" id=\"ago20\">1hr 24min ago</i></td><td class=\"tabev1\">37.85 </td><td class=\"tabev2\">N  </td><td class=\"tabev1\">37.82 </td><td class=\"tabev2\">E  </td><td class=\"tabev3\">5</td><td class=\"tabev5\" id=\"magtyp20\">ML</td><td class=\"tabev2\">3.0</td><td class=\"tb_region\" id=\"reg20\"> CENTRAL TURKEY</td><td class=\"comment updatetimeno\" id=\"upd20\" style=\"text-align:right;\">2023-02-07 16:55</td></tr>,\n",
       " <tr class=\"ligne2 normal\" id=\"1219749\" onclick=\"go_details(event,1219749);\"><td class=\"tabev0\"></td><td class=\"tabev0\"></td><td class=\"tabev0\"></td><td class=\"tabev6\"><b><i style=\"display:none;\">earthquake</i><a href=\"/Earthquake/earthquake.php?id=1219749\">2023-02-07   16:30:21.9</a></b><i class=\"ago\" id=\"ago21\">1hr 27min ago</i></td><td class=\"tabev1\">39.63 </td><td class=\"tabev2\">N  </td><td class=\"tabev1\">25.87 </td><td class=\"tabev2\">E  </td><td class=\"tabev3\">10</td><td class=\"tabev5\" id=\"magtyp21\">ML</td><td class=\"tabev2\">2.3</td><td class=\"tb_region\" id=\"reg21\"> AEGEAN SEA</td><td class=\"comment updatetimeno\" id=\"upd21\" style=\"text-align:right;\">2023-02-07 16:35</td></tr>,\n",
       " <tr class=\"ligne1 normal\" id=\"1219751\" onclick=\"go_details(event,1219751);\"><td class=\"tabev0\"></td><td class=\"tabev0\"></td><td class=\"tabev0\"><span class=\"intensity\" onclick=\"go_details(event,null,'https://www.emsc-csem.org/Earthquake/popup_intensmap.php?id=1219751&amp;f=/FELTREPORTS/121/1219751/IntensityMap.png');\" onmouseout=\"info_b2('notshow','');\" onmouseover=\"info_b2('show','See the &lt;b&gt; Intensity map&lt;/b&gt;');\" style=\"background-color:#FFFFFF;\">F</span></td><td class=\"tabev6\"><b><i style=\"display:none;\">earthquake</i><a href=\"/Earthquake/earthquake.php?id=1219751\">2023-02-07   16:25:49.7</a></b><i class=\"ago\" id=\"ago22\">1hr 31min ago</i></td><td class=\"tabev1\">38.05 </td><td class=\"tabev2\">N  </td><td class=\"tabev1\">38.47 </td><td class=\"tabev2\">E  </td><td class=\"tabev3\">9</td><td class=\"tabev5\" id=\"magtyp22\">ML</td><td class=\"tabev2\">3.3</td><td class=\"tb_region\" id=\"reg22\"> EASTERN TURKEY</td><td class=\"comment updatetimeno\" id=\"upd22\" style=\"text-align:right;\">2023-02-07 16:36</td></tr>,\n",
       " <tr class=\"ligne2 normal\" id=\"1219750\" onclick=\"go_details(event,1219750);\"><td class=\"tabev0\" style=\"text-align:center;\"><a href=\"https://www.emsc-csem.org/Earthquake/Testimonies/comments.php?id=1219750\" onmouseout=\"info_b2('notshow','');\" onmouseover=\"info_b2('show','See the &lt;b&gt;4 testimonies&lt;/b&gt; for this earthquake');\"><span class=\"\" style=\"vertical-align:middle;\">4</span></a></td><td class=\"tabev0\"></td><td class=\"tabev0\"><span class=\"intensity\" onclick=\"go_details(event,null,'https://www.emsc-csem.org/Earthquake/popup_intensmap.php?id=1219750&amp;f=/FELTREPORTS/121/1219750/IntensityMap.png');\" onmouseout=\"info_b2('notshow','');\" onmouseover=\"info_b2('show','See the &lt;b&gt; Intensity map&lt;/b&gt;');\" style=\"background-color:#00FFFF;\">IV</span></td><td class=\"tabev6\"><b><i style=\"display:none;\">earthquake</i><a href=\"/Earthquake/earthquake.php?id=1219750\">2023-02-07   16:24:25.8</a></b><i class=\"ago\" id=\"ago23\">1hr 33min ago</i></td><td class=\"tabev1\">37.57 </td><td class=\"tabev2\">N  </td><td class=\"tabev1\">37.35 </td><td class=\"tabev2\">E  </td><td class=\"tabev3\">4</td><td class=\"tabev5\" id=\"magtyp23\">ML</td><td class=\"tabev2\">3.3</td><td class=\"tb_region\" id=\"reg23\"> CENTRAL TURKEY</td><td class=\"comment updatetimeno\" id=\"upd23\" style=\"text-align:right;\">2023-02-07 16:34</td></tr>,\n",
       " <tr class=\"ligne1 normal\" id=\"1219747\" onclick=\"go_details(event,1219747);\"><td class=\"tabev0\"></td><td class=\"tabev0\"></td><td class=\"tabev0\"></td><td class=\"tabev6\"><b><i style=\"display:none;\">earthquake</i><a href=\"/Earthquake/earthquake.php?id=1219747\">2023-02-07   16:19:21.1</a></b><i class=\"ago\" id=\"ago24\">1hr 38min ago</i></td><td class=\"tabev1\">38.18 </td><td class=\"tabev2\">N  </td><td class=\"tabev1\">37.96 </td><td class=\"tabev2\">E  </td><td class=\"tabev3\">6</td><td class=\"tabev5\" id=\"magtyp24\">ML</td><td class=\"tabev2\">2.7</td><td class=\"tb_region\" id=\"reg24\"> CENTRAL TURKEY</td><td class=\"comment updatetimeno\" id=\"upd24\" style=\"text-align:right;\">2023-02-07 16:31</td></tr>,\n",
       " <tr class=\"ligne2 normal\" id=\"1219743\" onclick=\"go_details(event,1219743);\"><td class=\"tabev0\"></td><td class=\"tabev0\"></td><td class=\"tabev0\"></td><td class=\"tabev6\"><b><i style=\"display:none;\">earthquake</i><a href=\"/Earthquake/earthquake.php?id=1219743\">2023-02-07   16:13:49.5</a></b><i class=\"ago\" id=\"ago25\">1hr 43min ago</i></td><td class=\"tabev1\">35.34 </td><td class=\"tabev2\">S  </td><td class=\"tabev1\">177.23 </td><td class=\"tabev2\">E  </td><td class=\"tabev3\">314</td><td class=\"tabev5\" id=\"magtyp25\">M </td><td class=\"tabev2\">3.1</td><td class=\"tb_region\" id=\"reg25\"> OFF E. COAST OF N. ISLAND, N.Z.</td><td class=\"comment updatetimeno\" id=\"upd25\" style=\"text-align:right;\">2023-02-07 16:20</td></tr>,\n",
       " <tr class=\"ligne1 normal\" id=\"1219745\" onclick=\"go_details(event,1219745);\"><td class=\"tabev0\"></td><td class=\"tabev0\"></td><td class=\"tabev0\"><span class=\"intensity\" onclick=\"go_details(event,null,'https://www.emsc-csem.org/Earthquake/popup_intensmap.php?id=1219745&amp;f=/FELTREPORTS/121/1219745/IntensityMap.png');\" onmouseout=\"info_b2('notshow','');\" onmouseover=\"info_b2('show','See the &lt;b&gt; Intensity map&lt;/b&gt;');\" style=\"background-color:#FFFFFF;\">F</span></td><td class=\"tabev6\"><b><i style=\"display:none;\">earthquake</i><a href=\"/Earthquake/earthquake.php?id=1219745\">2023-02-07   16:12:27.7</a></b><i class=\"ago\" id=\"ago26\">1hr 45min ago</i></td><td class=\"tabev1\">38.13 </td><td class=\"tabev2\">N  </td><td class=\"tabev1\">36.57 </td><td class=\"tabev2\">E  </td><td class=\"tabev3\">8</td><td class=\"tabev5\" id=\"magtyp26\">ML</td><td class=\"tabev2\">3.0</td><td class=\"tb_region\" id=\"reg26\"> CENTRAL TURKEY</td><td class=\"comment updatetimeno\" id=\"upd26\" style=\"text-align:right;\">2023-02-07 16:27</td></tr>,\n",
       " <tr class=\"ligne2 normal\" id=\"1219746\" onclick=\"go_details(event,1219746);\"><td class=\"tabev0\"></td><td class=\"tabev0\"></td><td class=\"tabev0\"></td><td class=\"tabev6\"><b><i style=\"display:none;\">earthquake</i><a href=\"/Earthquake/earthquake.php?id=1219746\">2023-02-07   16:11:17.7</a></b><i class=\"ago\" id=\"ago27\">1hr 46min ago</i></td><td class=\"tabev1\">21.17 </td><td class=\"tabev2\">S  </td><td class=\"tabev1\">178.91 </td><td class=\"tabev2\">W  </td><td class=\"tabev3\">630</td><td class=\"tabev5\" id=\"magtyp27\">mb</td><td class=\"tabev2\">4.8</td><td class=\"tb_region\" id=\"reg27\"> FIJI REGION</td><td class=\"comment updatetimeno\" id=\"upd27\" style=\"text-align:right;\">2023-02-07 17:52</td></tr>,\n",
       " <tr class=\"ligne1 normal\" id=\"1219760\" onclick=\"go_details(event,1219760);\"><td class=\"tabev0\"></td><td class=\"tabev0\"></td><td class=\"tabev0\"></td><td class=\"tabev6\"><b><i style=\"display:none;\">earthquake</i><a href=\"/Earthquake/earthquake.php?id=1219760\">2023-02-07   16:09:58.0</a></b><i class=\"ago\" id=\"ago28\">1hr 47min ago</i></td><td class=\"tabev1\">15.66 </td><td class=\"tabev2\">N  </td><td class=\"tabev1\">95.46 </td><td class=\"tabev2\">W  </td><td class=\"tabev3\">5</td><td class=\"tabev5\" id=\"magtyp28\"> M</td><td class=\"tabev2\">4.1</td><td class=\"tb_region\" id=\"reg28\"> OFFSHORE OAXACA, MEXICO</td><td class=\"comment updatetimeno\" id=\"upd28\" style=\"text-align:right;\">2023-02-07 17:05</td></tr>,\n",
       " <tr class=\"ligne2 normal\" id=\"1219742\" onclick=\"go_details(event,1219742);\"><td class=\"tabev0\" style=\"text-align:center;\"><a href=\"https://www.emsc-csem.org/Earthquake/Testimonies/comments.php?id=1219742\" onmouseout=\"info_b2('notshow','');\" onmouseover=\"info_b2('show','See the &lt;b&gt;4 testimonies&lt;/b&gt; for this earthquake');\"><span class=\"\" style=\"vertical-align:middle;\">4</span></a></td><td class=\"tabev0\"></td><td class=\"tabev0\"><span class=\"intensity\" onclick=\"go_details(event,null,'https://www.emsc-csem.org/Earthquake/popup_intensmap.php?id=1219742&amp;f=/FELTREPORTS/121/1219742/IntensityMap.png');\" onmouseout=\"info_b2('notshow','');\" onmouseover=\"info_b2('show','See the &lt;b&gt; Intensity map&lt;/b&gt;');\" style=\"background-color:#00FFFF;\">IV</span></td><td class=\"tabev6\"><b><i style=\"display:none;\">earthquake</i><a href=\"/Earthquake/earthquake.php?id=1219742\">2023-02-07   16:07:36.7</a></b><i class=\"ago\" id=\"ago29\">1hr 50min ago</i></td><td class=\"tabev1\">38.00 </td><td class=\"tabev2\">N  </td><td class=\"tabev1\">37.61 </td><td class=\"tabev2\">E  </td><td class=\"tabev3\">5</td><td class=\"tabev5\" id=\"magtyp29\">ML</td><td class=\"tabev2\">3.6</td><td class=\"tb_region\" id=\"reg29\"> CENTRAL TURKEY</td><td class=\"comment updatetimeno\" id=\"upd29\" style=\"text-align:right;\">2023-02-07 16:17</td></tr>,\n",
       " <tr class=\"ligne1 normal\" id=\"1219735\" onclick=\"go_details(event,1219735);\"><td class=\"tabev0\"></td><td class=\"tabev0\"></td><td class=\"tabev0\"><span class=\"intensity\" onclick=\"go_details(event,null,'https://www.emsc-csem.org/Earthquake/popup_intensmap.php?id=1219735&amp;f=/FELTREPORTS/121/1219735/IntensityMap.png');\" onmouseout=\"info_b2('notshow','');\" onmouseover=\"info_b2('show','See the &lt;b&gt; Intensity map&lt;/b&gt;');\" style=\"background-color:#FFFFFF;\">F</span></td><td class=\"tabev6\"><b><i style=\"display:none;\">earthquake</i><a href=\"/Earthquake/earthquake.php?id=1219735\">2023-02-07   16:02:58.6</a></b><i class=\"ago\" id=\"ago30\">1hr 54min ago</i></td><td class=\"tabev1\">35.77 </td><td class=\"tabev2\">N  </td><td class=\"tabev1\">25.50 </td><td class=\"tabev2\">E  </td><td class=\"tabev3\">14</td><td class=\"tabev5\" id=\"magtyp30\">ML</td><td class=\"tabev2\">3.0</td><td class=\"tb_region\" id=\"reg30\"> CRETE, GREECE</td><td class=\"comment updatetimeno\" id=\"upd30\" style=\"text-align:right;\">2023-02-07 16:18</td></tr>,\n",
       " <tr class=\"ligne2 normal\" id=\"1219734\" onclick=\"go_details(event,1219734);\"><td class=\"tabev0\"></td><td class=\"tabev0\"></td><td class=\"tabev0\"></td><td class=\"tabev6\"><b><i style=\"display:none;\">earthquake</i><a href=\"/Earthquake/earthquake.php?id=1219734\">2023-02-07   16:00:39.3</a></b><i class=\"ago\" id=\"ago31\">1hr 57min ago</i></td><td class=\"tabev1\">32.00 </td><td class=\"tabev2\">N  </td><td class=\"tabev1\">116.82 </td><td class=\"tabev2\">W  </td><td class=\"tabev3\">12</td><td class=\"tabev5\" id=\"magtyp31\">Ml</td><td class=\"tabev2\">2.3</td><td class=\"tb_region\" id=\"reg31\"> BAJA CALIFORNIA, MEXICO</td><td class=\"comment updatetimeno\" id=\"upd31\" style=\"text-align:right;\">2023-02-07 16:04</td></tr>,\n",
       " <tr class=\"ligne1 normal\" id=\"1219732\" onclick=\"go_details(event,1219732);\"><td class=\"tabev0\" style=\"text-align:center;\"><a href=\"https://www.emsc-csem.org/Earthquake/Testimonies/comments.php?id=1219732\" onmouseout=\"info_b2('notshow','');\" onmouseover=\"info_b2('show','See the &lt;b&gt;6 testimonies&lt;/b&gt; for this earthquake');\"><span class=\"\" style=\"vertical-align:middle;\">6</span></a></td><td class=\"tabev0\"></td><td class=\"tabev0\"><span class=\"intensity\" onclick=\"go_details(event,null,'https://www.emsc-csem.org/Earthquake/popup_intensmap.php?id=1219732&amp;f=/FELTREPORTS/121/1219732/IntensityMap.png');\" onmouseout=\"info_b2('notshow','');\" onmouseover=\"info_b2('show','See the &lt;b&gt; Intensity map&lt;/b&gt;');\" style=\"background-color:#FFFF00;\">VI</span></td><td class=\"tabev6\"><b><i style=\"display:none;\">earthquake</i><a href=\"/Earthquake/earthquake.php?id=1219732\">2023-02-07   15:59:48.9</a></b><i class=\"ago\" id=\"ago32\">1hr 57min ago</i></td><td class=\"tabev1\">38.06 </td><td class=\"tabev2\">N  </td><td class=\"tabev1\">37.38 </td><td class=\"tabev2\">E  </td><td class=\"tabev3\">2</td><td class=\"tabev5\" id=\"magtyp32\">ML</td><td class=\"tabev2\">3.8</td><td class=\"tb_region\" id=\"reg32\"> CENTRAL TURKEY</td><td class=\"comment updatetimeno\" id=\"upd32\" style=\"text-align:right;\">2023-02-07 16:12</td></tr>,\n",
       " <tr class=\"ligne2 normal\" id=\"1219736\" onclick=\"go_details(event,1219736);\"><td class=\"tabev0\"></td><td class=\"tabev0\"></td><td class=\"tabev0\"></td><td class=\"tabev6\"><b><i style=\"display:none;\">earthquake</i><a href=\"/Earthquake/earthquake.php?id=1219736\">2023-02-07   15:53:11.0</a></b><i class=\"ago\" id=\"ago33\">2hr 04min ago</i></td><td class=\"tabev1\">5.28 </td><td class=\"tabev2\">N  </td><td class=\"tabev1\">95.52 </td><td class=\"tabev2\">E  </td><td class=\"tabev3\">10</td><td class=\"tabev5\" id=\"magtyp33\"> M</td><td class=\"tabev2\">2.8</td><td class=\"tb_region\" id=\"reg33\"> NORTHERN SUMATRA, INDONESIA</td><td class=\"comment updatetimeno\" id=\"upd33\" style=\"text-align:right;\">2023-02-07 16:05</td></tr>,\n",
       " <tr class=\"ligne2 normal\" id=\"1219731\" onclick=\"go_details(event,1219731);\"><td class=\"tabev0\"></td><td class=\"tabev0\"></td><td class=\"tabev0\"></td><td class=\"tabev6\"><b><i style=\"display:none;\">earthquake</i><a href=\"/Earthquake/earthquake.php?id=1219731\">2023-02-07   15:42:09.5</a></b><i class=\"ago\" id=\"ago35\">2hr 15min ago</i></td><td class=\"tabev1\">38.25 </td><td class=\"tabev2\">N  </td><td class=\"tabev1\">38.66 </td><td class=\"tabev2\">E  </td><td class=\"tabev3\">5</td><td class=\"tabev5\" id=\"magtyp35\">ML</td><td class=\"tabev2\">2.8</td><td class=\"tb_region\" id=\"reg35\"> EASTERN TURKEY</td><td class=\"comment updatetimeno\" id=\"upd35\" style=\"text-align:right;\">2023-02-07 15:56</td></tr>,\n",
       " <tr class=\"ligne1 normal\" id=\"1219737\" onclick=\"go_details(event,1219737);\"><td class=\"tabev0\"></td><td class=\"tabev0\"></td><td class=\"tabev0\"></td><td class=\"tabev6\"><b><i style=\"display:none;\">earthquake</i><a href=\"/Earthquake/earthquake.php?id=1219737\">2023-02-07   15:39:35.0</a></b><i class=\"ago\" id=\"ago36\">2hr 18min ago</i></td><td class=\"tabev1\">2.44 </td><td class=\"tabev2\">S  </td><td class=\"tabev1\">140.68 </td><td class=\"tabev2\">E  </td><td class=\"tabev3\">10</td><td class=\"tabev5\" id=\"magtyp36\"> M</td><td class=\"tabev2\">3.0</td><td class=\"tb_region\" id=\"reg36\"> NEAR N COAST OF PAPUA, INDONESIA</td><td class=\"comment updatetimeno\" id=\"upd36\" style=\"text-align:right;\">2023-02-07 16:05</td></tr>,\n",
       " <tr class=\"ligne2 normal\" id=\"1219739\" onclick=\"go_details(event,1219739);\"><td class=\"tabev0\"></td><td class=\"tabev0\"></td><td class=\"tabev0\"></td><td class=\"tabev6\"><b><i style=\"display:none;\">earthquake</i><a href=\"/Earthquake/earthquake.php?id=1219739\">2023-02-07   15:37:52.7</a></b><i class=\"ago\" id=\"ago37\">2hr 19min ago</i></td><td class=\"tabev1\">38.03 </td><td class=\"tabev2\">N  </td><td class=\"tabev1\">37.72 </td><td class=\"tabev2\">E  </td><td class=\"tabev3\">4</td><td class=\"tabev5\" id=\"magtyp37\">ML</td><td class=\"tabev2\">3.3</td><td class=\"tb_region\" id=\"reg37\"> CENTRAL TURKEY</td><td class=\"comment updatetimeno\" id=\"upd37\" style=\"text-align:right;\">2023-02-07 16:10</td></tr>,\n",
       " <tr class=\"ligne1 normal\" id=\"1219733\" onclick=\"go_details(event,1219733);\"><td class=\"tabev0\"></td><td class=\"tabev0\"></td><td class=\"tabev0\"></td><td class=\"tabev6\"><b><i style=\"display:none;\">earthquake</i><a href=\"/Earthquake/earthquake.php?id=1219733\">2023-02-07   15:32:31.3</a></b><i class=\"ago\" id=\"ago38\">2hr 25min ago</i></td><td class=\"tabev1\">37.35 </td><td class=\"tabev2\">N  </td><td class=\"tabev1\">8.55 </td><td class=\"tabev2\">W  </td><td class=\"tabev3\">9</td><td class=\"tabev5\" id=\"magtyp38\">ML</td><td class=\"tabev2\">1.9</td><td class=\"tb_region\" id=\"reg38\"> PORTUGAL</td><td class=\"comment updatetimeno\" id=\"upd38\" style=\"text-align:right;\">2023-02-07 16:04</td></tr>,\n",
       " <tr class=\"ligne1 normal\" id=\"1219722\" onclick=\"go_details(event,1219722);\"><td class=\"tabev0\"></td><td class=\"tabev0\"></td><td class=\"tabev0\"></td><td class=\"tabev6\"><b><i style=\"display:none;\">earthquake</i><a href=\"/Earthquake/earthquake.php?id=1219722\">2023-02-07   15:28:45.0</a></b><i class=\"ago\" id=\"ago40\">2hr 28min ago</i></td><td class=\"tabev1\">2.42 </td><td class=\"tabev2\">S  </td><td class=\"tabev1\">140.68 </td><td class=\"tabev2\">E  </td><td class=\"tabev3\">10</td><td class=\"tabev5\" id=\"magtyp40\"> M</td><td class=\"tabev2\">3.3</td><td class=\"tb_region\" id=\"reg40\"> NEAR N COAST OF PAPUA, INDONESIA</td><td class=\"comment updatetimeno\" id=\"upd40\" style=\"text-align:right;\">2023-02-07 15:35</td></tr>,\n",
       " <tr class=\"ligne2 normal\" id=\"1219728\" onclick=\"go_details(event,1219728);\"><td class=\"tabev0\"></td><td class=\"tabev0\"></td><td class=\"tabev0\"><span class=\"intensity\" onclick=\"go_details(event,null,'https://www.emsc-csem.org/Earthquake/popup_intensmap.php?id=1219728&amp;f=/FELTREPORTS/121/1219728/IntensityMap.png');\" onmouseout=\"info_b2('notshow','');\" onmouseover=\"info_b2('show','See the &lt;b&gt; Intensity map&lt;/b&gt;');\" style=\"background-color:#00FFFF;\">IV</span></td><td class=\"tabev6\"><b><i style=\"display:none;\">earthquake</i><a href=\"/Earthquake/earthquake.php?id=1219728\">2023-02-07   15:26:09.9</a></b><i class=\"ago\" id=\"ago41\">2hr 31min ago</i></td><td class=\"tabev1\">38.04 </td><td class=\"tabev2\">N  </td><td class=\"tabev1\">37.05 </td><td class=\"tabev2\">E  </td><td class=\"tabev3\">5</td><td class=\"tabev5\" id=\"magtyp41\">ML</td><td class=\"tabev2\">3.2</td><td class=\"tb_region\" id=\"reg41\"> CENTRAL TURKEY</td><td class=\"comment updatetimeno\" id=\"upd41\" style=\"text-align:right;\">2023-02-07 15:50</td></tr>,\n",
       " <tr class=\"ligne1 normal\" id=\"1219719\" onclick=\"go_details(event,1219719);\"><td class=\"tabev0\" style=\"text-align:center;\"><a href=\"https://www.emsc-csem.org/Earthquake/Testimonies/comments.php?id=1219719\" onmouseout=\"info_b2('notshow','');\" onmouseover=\"info_b2('show','See the &lt;b&gt;testimony&lt;/b&gt; for this earthquake');\"><span class=\"\" style=\"vertical-align:middle;\">1</span></a></td><td class=\"tabev0\"></td><td class=\"tabev0\"><span class=\"intensity\" onclick=\"go_details(event,null,'https://www.emsc-csem.org/Earthquake/popup_intensmap.php?id=1219719&amp;f=/FELTREPORTS/121/1219719/IntensityMap.png');\" onmouseout=\"info_b2('notshow','');\" onmouseover=\"info_b2('show','See the &lt;b&gt; Intensity map&lt;/b&gt;');\" style=\"background-color:#FFFFFF;\">F</span></td><td class=\"tabev6\"><b><i style=\"display:none;\">earthquake</i><a href=\"/Earthquake/earthquake.php?id=1219719\">2023-02-07   15:23:50.7</a></b><i class=\"ago\" id=\"ago42\">2hr 33min ago</i></td><td class=\"tabev1\">38.52 </td><td class=\"tabev2\">N  </td><td class=\"tabev1\">40.42 </td><td class=\"tabev2\">E  </td><td class=\"tabev3\">8</td><td class=\"tabev5\" id=\"magtyp42\">ML</td><td class=\"tabev2\">3.9</td><td class=\"tb_region\" id=\"reg42\"> EASTERN TURKEY</td><td class=\"comment updatetimeno\" id=\"upd42\" style=\"text-align:right;\">2023-02-07 16:00</td></tr>,\n",
       " <tr class=\"ligne2 normal\" id=\"1219726\" onclick=\"go_details(event,1219726);\"><td class=\"tabev0\"></td><td class=\"tabev0\"></td><td class=\"tabev0\"><span class=\"intensity\" onclick=\"go_details(event,null,'https://www.emsc-csem.org/Earthquake/popup_intensmap.php?id=1219726&amp;f=/FELTREPORTS/121/1219726/IntensityMap.png');\" onmouseout=\"info_b2('notshow','');\" onmouseover=\"info_b2('show','See the &lt;b&gt; Intensity map&lt;/b&gt;');\" style=\"background-color:#FFFFFF;\">F</span></td><td class=\"tabev6\"><b><i style=\"display:none;\">earthquake</i><a href=\"/Earthquake/earthquake.php?id=1219726\">2023-02-07   15:21:54.9</a></b><i class=\"ago\" id=\"ago43\">2hr 35min ago</i></td><td class=\"tabev1\">37.82 </td><td class=\"tabev2\">N  </td><td class=\"tabev1\">36.41 </td><td class=\"tabev2\">E  </td><td class=\"tabev3\">8</td><td class=\"tabev5\" id=\"magtyp43\">ML</td><td class=\"tabev2\">2.9</td><td class=\"tb_region\" id=\"reg43\"> CENTRAL TURKEY</td><td class=\"comment updatetimeno\" id=\"upd43\" style=\"text-align:right;\">2023-02-07 15:48</td></tr>,\n",
       " <tr class=\"ligne1 normal\" id=\"1219723\" onclick=\"go_details(event,1219723);\"><td class=\"tabev0\"></td><td class=\"tabev0\"></td><td class=\"tabev0\"></td><td class=\"tabev6\"><b><i style=\"display:none;\">earthquake</i><a href=\"/Earthquake/earthquake.php?id=1219723\">2023-02-07   15:12:50.7</a></b><i class=\"ago\" id=\"ago44\">2hr 44min ago</i></td><td class=\"tabev1\">38.01 </td><td class=\"tabev2\">N  </td><td class=\"tabev1\">37.68 </td><td class=\"tabev2\">E  </td><td class=\"tabev3\">6</td><td class=\"tabev5\" id=\"magtyp44\">ML</td><td class=\"tabev2\">2.7</td><td class=\"tb_region\" id=\"reg44\"> CENTRAL TURKEY</td><td class=\"comment updatetimeno\" id=\"upd44\" style=\"text-align:right;\">2023-02-07 15:36</td></tr>,\n",
       " <tr class=\"ligne2 normal\" id=\"1219713\" onclick=\"go_details(event,1219713);\"><td class=\"tabev0\" style=\"text-align:center;\"><a href=\"https://www.emsc-csem.org/Earthquake/Testimonies/comments.php?id=1219713\" onmouseout=\"info_b2('notshow','');\" onmouseover=\"info_b2('show','See the &lt;b&gt;2 testimonies&lt;/b&gt; for this earthquake');\"><span class=\"\" style=\"vertical-align:middle;\">2</span></a></td><td class=\"tabev0\"></td><td class=\"tabev0\"><span class=\"intensity\" onclick=\"go_details(event,null,'https://www.emsc-csem.org/Earthquake/popup_intensmap.php?id=1219713&amp;f=/FELTREPORTS/121/1219713/IntensityMap.png');\" onmouseout=\"info_b2('notshow','');\" onmouseover=\"info_b2('show','See the &lt;b&gt; Intensity map&lt;/b&gt;');\" style=\"background-color:#FFFFFF;\">F</span></td><td class=\"tabev6\"><b><i style=\"display:none;\">earthquake</i><a href=\"/Earthquake/earthquake.php?id=1219713\">2023-02-07   15:06:53.2</a></b><i class=\"ago\" id=\"ago45\">2hr 50min ago</i></td><td class=\"tabev1\">38.09 </td><td class=\"tabev2\">N  </td><td class=\"tabev1\">37.10 </td><td class=\"tabev2\">E  </td><td class=\"tabev3\">5</td><td class=\"tabev5\" id=\"magtyp45\">ML</td><td class=\"tabev2\">3.3</td><td class=\"tb_region\" id=\"reg45\"> CENTRAL TURKEY</td><td class=\"comment updatetimeno\" id=\"upd45\" style=\"text-align:right;\">2023-02-07 15:54</td></tr>,\n",
       " <tr class=\"ligne1 normal\" id=\"1219714\" onclick=\"go_details(event,1219714);\"><td class=\"tabev0\"></td><td class=\"tabev0\"></td><td class=\"tabev0\"></td><td class=\"tabev6\"><b><i style=\"display:none;\">earthquake</i><a href=\"/Earthquake/earthquake.php?id=1219714\">2023-02-07   15:02:20.0</a></b><i class=\"ago\" id=\"ago46\">2hr 55min ago</i></td><td class=\"tabev1\">2.43 </td><td class=\"tabev2\">S  </td><td class=\"tabev1\">140.68 </td><td class=\"tabev2\">E  </td><td class=\"tabev3\">10</td><td class=\"tabev5\" id=\"magtyp46\"> M</td><td class=\"tabev2\">3.6</td><td class=\"tb_region\" id=\"reg46\"> NEAR N COAST OF PAPUA, INDONESIA</td><td class=\"comment updatetimeno\" id=\"upd46\" style=\"text-align:right;\">2023-02-07 15:10</td></tr>,\n",
       " <tr class=\"ligne2 normal\" id=\"1219718\" onclick=\"go_details(event,1219718);\"><td class=\"tabev0\"></td><td class=\"tabev0\"></td><td class=\"tabev0\"></td><td class=\"tabev6\"><b><i style=\"display:none;\">earthquake</i><a href=\"/Earthquake/earthquake.php?id=1219718\">2023-02-07   15:00:35.0</a></b><i class=\"ago\" id=\"ago47\">2hr 57min ago</i></td><td class=\"tabev1\">38.02 </td><td class=\"tabev2\">N  </td><td class=\"tabev1\">36.52 </td><td class=\"tabev2\">E  </td><td class=\"tabev3\">5</td><td class=\"tabev5\" id=\"magtyp47\">ML</td><td class=\"tabev2\">2.6</td><td class=\"tb_region\" id=\"reg47\"> CENTRAL TURKEY</td><td class=\"comment updatetimeno\" id=\"upd47\" style=\"text-align:right;\">2023-02-07 15:20</td></tr>,\n",
       " <tr class=\"ligne1 normal\" id=\"1219712\" onclick=\"go_details(event,1219712);\"><td class=\"tabev0\" style=\"text-align:center;\"><a href=\"https://www.emsc-csem.org/Earthquake/Testimonies/comments.php?id=1219712\" onmouseout=\"info_b2('notshow','');\" onmouseover=\"info_b2('show','See the &lt;b&gt;testimony&lt;/b&gt; for this earthquake');\"><span class=\"\" style=\"vertical-align:middle;\">1</span></a></td><td class=\"tabev0\"></td><td class=\"tabev0\"><span class=\"intensity\" onclick=\"go_details(event,null,'https://www.emsc-csem.org/Earthquake/popup_intensmap.php?id=1219712&amp;f=/FELTREPORTS/121/1219712/IntensityMap.png');\" onmouseout=\"info_b2('notshow','');\" onmouseover=\"info_b2('show','See the &lt;b&gt; Intensity map&lt;/b&gt;');\" style=\"background-color:#FFFFFF;\">F</span></td><td class=\"tabev6\"><b><i style=\"display:none;\">earthquake</i><a href=\"/Earthquake/earthquake.php?id=1219712\">2023-02-07   14:51:34.4</a></b><i class=\"ago\" id=\"ago48\">3hr 06min ago</i></td><td class=\"tabev1\">37.40 </td><td class=\"tabev2\">N  </td><td class=\"tabev1\">36.96 </td><td class=\"tabev2\">E  </td><td class=\"tabev3\">6</td><td class=\"tabev5\" id=\"magtyp48\">ML</td><td class=\"tabev2\">2.6</td><td class=\"tb_region\" id=\"reg48\"> CENTRAL TURKEY</td><td class=\"comment updatetimeno\" id=\"upd48\" style=\"text-align:right;\">2023-02-07 15:01</td></tr>,\n",
       " <tr class=\"ligne2 normal\" id=\"1219711\" onclick=\"go_details(event,1219711);\"><td class=\"tabev0\"></td><td class=\"tabev0\"></td><td class=\"tabev0\"></td><td class=\"tabev6\"><b><i style=\"display:none;\">earthquake</i><a href=\"/Earthquake/earthquake.php?id=1219711\">2023-02-07   14:47:40.6</a></b><i class=\"ago\" id=\"ago49\">3hr 10min ago</i></td><td class=\"tabev1\">38.08 </td><td class=\"tabev2\">N  </td><td class=\"tabev1\">37.23 </td><td class=\"tabev2\">E  </td><td class=\"tabev3\">28</td><td class=\"tabev5\" id=\"magtyp49\">ML</td><td class=\"tabev2\">2.5</td><td class=\"tb_region\" id=\"reg49\"> CENTRAL TURKEY</td><td class=\"comment updatetimeno\" id=\"upd49\" style=\"text-align:right;\">2023-02-07 14:58</td></tr>]"
      ]
     },
     "execution_count": 185,
     "metadata": {},
     "output_type": "execute_result"
    }
   ],
   "source": [
    "table= soup.find_all('tr', class_=\"normal\")\n",
    "table"
   ]
  },
  {
   "cell_type": "code",
   "execution_count": 181,
   "metadata": {},
   "outputs": [],
   "source": [
    "rows = table\n"
   ]
  },
  {
   "cell_type": "code",
   "execution_count": 182,
   "metadata": {},
   "outputs": [
    {
     "data": {
      "text/plain": [
       "[['3VIearthquake2023-02-07\\xa0\\xa0\\xa017:46:56.610min ago38.11\\xa0N\\xa0\\xa036.88\\xa0E\\xa0\\xa05ML3.9\\xa0CENTRAL TURKEY2023-02-07 17:56'],\n",
       " ['Fearthquake2023-02-07\\xa0\\xa0\\xa017:42:39.315min ago37.78\\xa0N\\xa0\\xa038.62\\xa0E\\xa0\\xa08ML3.6\\xa0EASTERN TURKEY2023-02-07 17:49'],\n",
       " ['Fearthquake2023-02-07\\xa0\\xa0\\xa017:40:41.017min ago38.38\\xa0N\\xa0\\xa039.22\\xa0E\\xa0\\xa018ML3.7\\xa0EASTERN TURKEY2023-02-07 17:52'],\n",
       " ['6IIIearthquake2023-02-07\\xa0\\xa0\\xa017:37:58.819min ago38.02\\xa0N\\xa0\\xa037.69\\xa0E\\xa0\\xa02ML4.0\\xa0CENTRAL TURKEY2023-02-07 17:48'],\n",
       " ['earthquake2023-02-07\\xa0\\xa0\\xa017:28:44.028min ago0.75\\xa0N\\xa0\\xa0126.01\\xa0E\\xa0\\xa013 M3.4\\xa0MOLUCCA SEA2023-02-07 17:35'],\n",
       " ['Fearthquake2023-02-07\\xa0\\xa0\\xa017:25:07.032min ago37.71\\xa0N\\xa0\\xa036.97\\xa0E\\xa0\\xa010ML3.1\\xa0CENTRAL TURKEY2023-02-07 17:44'],\n",
       " ['earthquake2023-02-07\\xa0\\xa0\\xa017:22:07.035min ago38.13\\xa0N\\xa0\\xa037.06\\xa0E\\xa0\\xa05ML2.6\\xa0CENTRAL TURKEY2023-02-07 17:26'],\n",
       " ['Fearthquake2023-02-07\\xa0\\xa0\\xa017:17:12.340min ago38.00\\xa0N\\xa0\\xa038.44\\xa0E\\xa0\\xa00ML3.5\\xa0EASTERN TURKEY2023-02-07 17:23'],\n",
       " ['earthquake2023-02-07\\xa0\\xa0\\xa017:08:29.049min ago10.71\\xa0N\\xa0\\xa084.96\\xa0W\\xa0\\xa0135 M3.2\\xa0COSTA RICA2023-02-07 17:15'],\n",
       " ['Fearthquake2023-02-07\\xa0\\xa0\\xa017:03:50.553min ago38.11\\xa0N\\xa0\\xa036.66\\xa0E\\xa0\\xa019ML3.1\\xa0CENTRAL TURKEY2023-02-07 17:11'],\n",
       " ['earthquake2023-02-07\\xa0\\xa0\\xa017:02:49.054min ago19.20\\xa0N\\xa0\\xa0155.42\\xa0W\\xa0\\xa033Md2.1\\xa0ISLAND OF HAWAII, HAWAII2023-02-07 17:06'],\n",
       " ['20Vearthquake2023-02-07\\xa0\\xa0\\xa016:54:30.01hr 03min ago38.02\\xa0N\\xa0\\xa037.51\\xa0E\\xa0\\xa05ML3.6\\xa0CENTRAL TURKEY2023-02-07 17:05'],\n",
       " ['earthquake2023-02-07\\xa0\\xa0\\xa016:50:12.61hr 07min ago47.76\\xa0N\\xa0\\xa0122.82\\xa0W\\xa0\\xa014ML2.0\\xa0PUGET SOUND REGION, WASHINGTON2023-02-07 17:12'],\n",
       " ['14IIIearthquake2023-02-07\\xa0\\xa0\\xa016:49:13.41hr 08min ago38.07\\xa0N\\xa0\\xa036.54\\xa0E\\xa0\\xa02ML3.8\\xa0CENTRAL TURKEY2023-02-07 16:59'],\n",
       " ['earthquake2023-02-07\\xa0\\xa0\\xa016:47:01.71hr 10min ago38.01\\xa0N\\xa0\\xa036.51\\xa0E\\xa0\\xa015ML3.0\\xa0CENTRAL TURKEY2023-02-07 17:19'],\n",
       " ['1Fearthquake2023-02-07\\xa0\\xa0\\xa016:44:32.01hr 13min ago9.79\\xa0N\\xa0\\xa0138.39\\xa0E\\xa0\\xa02mb5.2\\xa0STATE OF YAP, MICRONESIA2023-02-07 17:44'],\n",
       " ['1Fearthquake2023-02-07\\xa0\\xa0\\xa016:43:25.61hr 14min ago38.09\\xa0N\\xa0\\xa038.52\\xa0E\\xa0\\xa05ML2.9\\xa0EASTERN TURKEY2023-02-07 16:55'],\n",
       " ['earthquake2023-02-07\\xa0\\xa0\\xa016:42:25.01hr 15min ago2.42\\xa0S\\xa0\\xa0140.68\\xa0E\\xa0\\xa010 M3.3\\xa0NEAR N COAST OF PAPUA, INDONESIA2023-02-07 16:50'],\n",
       " ['earthquake2023-02-07\\xa0\\xa0\\xa016:38:04.71hr 19min ago32.09\\xa0N\\xa0\\xa0116.42\\xa0W\\xa0\\xa010Ml2.0\\xa0BAJA CALIFORNIA, MEXICO2023-02-07 16:40'],\n",
       " ['7Vearthquake2023-02-07\\xa0\\xa0\\xa016:36:45.71hr 20min ago37.35\\xa0N\\xa0\\xa037.07\\xa0E\\xa0\\xa07ML3.4\\xa0CENTRAL TURKEY2023-02-07 16:40'],\n",
       " ['Fearthquake2023-02-07\\xa0\\xa0\\xa016:33:40.01hr 24min ago37.85\\xa0N\\xa0\\xa037.82\\xa0E\\xa0\\xa05ML3.0\\xa0CENTRAL TURKEY2023-02-07 16:55'],\n",
       " ['earthquake2023-02-07\\xa0\\xa0\\xa016:30:21.91hr 27min ago39.63\\xa0N\\xa0\\xa025.87\\xa0E\\xa0\\xa010ML2.3\\xa0AEGEAN SEA2023-02-07 16:35'],\n",
       " ['Fearthquake2023-02-07\\xa0\\xa0\\xa016:25:49.71hr 31min ago38.05\\xa0N\\xa0\\xa038.47\\xa0E\\xa0\\xa09ML3.3\\xa0EASTERN TURKEY2023-02-07 16:36'],\n",
       " ['4IVearthquake2023-02-07\\xa0\\xa0\\xa016:24:25.81hr 33min ago37.57\\xa0N\\xa0\\xa037.35\\xa0E\\xa0\\xa04ML3.3\\xa0CENTRAL TURKEY2023-02-07 16:34'],\n",
       " ['earthquake2023-02-07\\xa0\\xa0\\xa016:19:21.11hr 38min ago38.18\\xa0N\\xa0\\xa037.96\\xa0E\\xa0\\xa06ML2.7\\xa0CENTRAL TURKEY2023-02-07 16:31'],\n",
       " ['earthquake2023-02-07\\xa0\\xa0\\xa016:13:49.51hr 43min ago35.34\\xa0S\\xa0\\xa0177.23\\xa0E\\xa0\\xa0314M 3.1\\xa0OFF E. COAST OF N. ISLAND, N.Z.2023-02-07 16:20'],\n",
       " ['Fearthquake2023-02-07\\xa0\\xa0\\xa016:12:27.71hr 45min ago38.13\\xa0N\\xa0\\xa036.57\\xa0E\\xa0\\xa08ML3.0\\xa0CENTRAL TURKEY2023-02-07 16:27'],\n",
       " ['earthquake2023-02-07\\xa0\\xa0\\xa016:11:17.71hr 46min ago21.17\\xa0S\\xa0\\xa0178.91\\xa0W\\xa0\\xa0630mb4.8\\xa0FIJI REGION2023-02-07 17:52'],\n",
       " ['earthquake2023-02-07\\xa0\\xa0\\xa016:09:58.01hr 47min ago15.66\\xa0N\\xa0\\xa095.46\\xa0W\\xa0\\xa05 M4.1\\xa0OFFSHORE OAXACA, MEXICO2023-02-07 17:05'],\n",
       " ['4IVearthquake2023-02-07\\xa0\\xa0\\xa016:07:36.71hr 50min ago38.00\\xa0N\\xa0\\xa037.61\\xa0E\\xa0\\xa05ML3.6\\xa0CENTRAL TURKEY2023-02-07 16:17'],\n",
       " ['Fearthquake2023-02-07\\xa0\\xa0\\xa016:02:58.61hr 54min ago35.77\\xa0N\\xa0\\xa025.50\\xa0E\\xa0\\xa014ML3.0\\xa0CRETE, GREECE2023-02-07 16:18'],\n",
       " ['earthquake2023-02-07\\xa0\\xa0\\xa016:00:39.31hr 57min ago32.00\\xa0N\\xa0\\xa0116.82\\xa0W\\xa0\\xa012Ml2.3\\xa0BAJA CALIFORNIA, MEXICO2023-02-07 16:04'],\n",
       " ['6VIearthquake2023-02-07\\xa0\\xa0\\xa015:59:48.91hr 57min ago38.06\\xa0N\\xa0\\xa037.38\\xa0E\\xa0\\xa02ML3.8\\xa0CENTRAL TURKEY2023-02-07 16:12'],\n",
       " ['earthquake2023-02-07\\xa0\\xa0\\xa015:53:11.02hr 04min ago5.28\\xa0N\\xa0\\xa095.52\\xa0E\\xa0\\xa010 M2.8\\xa0NORTHERN SUMATRA, INDONESIA2023-02-07 16:05'],\n",
       " ['earthquake2023-02-07\\xa0\\xa0\\xa015:42:09.52hr 15min ago38.25\\xa0N\\xa0\\xa038.66\\xa0E\\xa0\\xa05ML2.8\\xa0EASTERN TURKEY2023-02-07 15:56'],\n",
       " ['earthquake2023-02-07\\xa0\\xa0\\xa015:39:35.02hr 18min ago2.44\\xa0S\\xa0\\xa0140.68\\xa0E\\xa0\\xa010 M3.0\\xa0NEAR N COAST OF PAPUA, INDONESIA2023-02-07 16:05'],\n",
       " ['earthquake2023-02-07\\xa0\\xa0\\xa015:37:52.72hr 19min ago38.03\\xa0N\\xa0\\xa037.72\\xa0E\\xa0\\xa04ML3.3\\xa0CENTRAL TURKEY2023-02-07 16:10'],\n",
       " ['earthquake2023-02-07\\xa0\\xa0\\xa015:32:31.32hr 25min ago37.35\\xa0N\\xa0\\xa08.55\\xa0W\\xa0\\xa09ML1.9\\xa0PORTUGAL2023-02-07 16:04'],\n",
       " ['earthquake2023-02-07\\xa0\\xa0\\xa015:28:45.02hr 28min ago2.42\\xa0S\\xa0\\xa0140.68\\xa0E\\xa0\\xa010 M3.3\\xa0NEAR N COAST OF PAPUA, INDONESIA2023-02-07 15:35'],\n",
       " ['IVearthquake2023-02-07\\xa0\\xa0\\xa015:26:09.92hr 31min ago38.04\\xa0N\\xa0\\xa037.05\\xa0E\\xa0\\xa05ML3.2\\xa0CENTRAL TURKEY2023-02-07 15:50'],\n",
       " ['1Fearthquake2023-02-07\\xa0\\xa0\\xa015:23:50.72hr 33min ago38.52\\xa0N\\xa0\\xa040.42\\xa0E\\xa0\\xa08ML3.9\\xa0EASTERN TURKEY2023-02-07 16:00'],\n",
       " ['Fearthquake2023-02-07\\xa0\\xa0\\xa015:21:54.92hr 35min ago37.82\\xa0N\\xa0\\xa036.41\\xa0E\\xa0\\xa08ML2.9\\xa0CENTRAL TURKEY2023-02-07 15:48'],\n",
       " ['earthquake2023-02-07\\xa0\\xa0\\xa015:12:50.72hr 44min ago38.01\\xa0N\\xa0\\xa037.68\\xa0E\\xa0\\xa06ML2.7\\xa0CENTRAL TURKEY2023-02-07 15:36'],\n",
       " ['2Fearthquake2023-02-07\\xa0\\xa0\\xa015:06:53.22hr 50min ago38.09\\xa0N\\xa0\\xa037.10\\xa0E\\xa0\\xa05ML3.3\\xa0CENTRAL TURKEY2023-02-07 15:54'],\n",
       " ['earthquake2023-02-07\\xa0\\xa0\\xa015:02:20.02hr 55min ago2.43\\xa0S\\xa0\\xa0140.68\\xa0E\\xa0\\xa010 M3.6\\xa0NEAR N COAST OF PAPUA, INDONESIA2023-02-07 15:10'],\n",
       " ['earthquake2023-02-07\\xa0\\xa0\\xa015:00:35.02hr 57min ago38.02\\xa0N\\xa0\\xa036.52\\xa0E\\xa0\\xa05ML2.6\\xa0CENTRAL TURKEY2023-02-07 15:20'],\n",
       " ['1Fearthquake2023-02-07\\xa0\\xa0\\xa014:51:34.43hr 06min ago37.40\\xa0N\\xa0\\xa036.96\\xa0E\\xa0\\xa06ML2.6\\xa0CENTRAL TURKEY2023-02-07 15:01'],\n",
       " ['earthquake2023-02-07\\xa0\\xa0\\xa014:47:40.63hr 10min ago38.08\\xa0N\\xa0\\xa037.23\\xa0E\\xa0\\xa028ML2.5\\xa0CENTRAL TURKEY2023-02-07 14:58']]"
      ]
     },
     "execution_count": 182,
     "metadata": {},
     "output_type": "execute_result"
    }
   ],
   "source": [
    "rows = [row.text.strip().split(\"\\n\") for row in rows]\n",
    "rows"
   ]
  },
  {
   "cell_type": "code",
   "execution_count": 183,
   "metadata": {},
   "outputs": [
    {
     "data": {
      "text/html": [
       "<div>\n",
       "<style scoped>\n",
       "    .dataframe tbody tr th:only-of-type {\n",
       "        vertical-align: middle;\n",
       "    }\n",
       "\n",
       "    .dataframe tbody tr th {\n",
       "        vertical-align: top;\n",
       "    }\n",
       "\n",
       "    .dataframe thead th {\n",
       "        text-align: right;\n",
       "    }\n",
       "</style>\n",
       "<table border=\"1\" class=\"dataframe\">\n",
       "  <thead>\n",
       "    <tr style=\"text-align: right;\">\n",
       "      <th></th>\n",
       "      <th>3VIearthquake2023-02-07   17:46:56.610min ago38.11 N  36.88 E  5ML3.9 CENTRAL TURKEY2023-02-07 17:56</th>\n",
       "    </tr>\n",
       "  </thead>\n",
       "  <tbody>\n",
       "    <tr>\n",
       "      <th>0</th>\n",
       "      <td>Fearthquake2023-02-07   17:42:39.315min ago37....</td>\n",
       "    </tr>\n",
       "    <tr>\n",
       "      <th>1</th>\n",
       "      <td>Fearthquake2023-02-07   17:40:41.017min ago38....</td>\n",
       "    </tr>\n",
       "    <tr>\n",
       "      <th>2</th>\n",
       "      <td>6IIIearthquake2023-02-07   17:37:58.819min ago...</td>\n",
       "    </tr>\n",
       "    <tr>\n",
       "      <th>3</th>\n",
       "      <td>earthquake2023-02-07   17:28:44.028min ago0.75...</td>\n",
       "    </tr>\n",
       "    <tr>\n",
       "      <th>4</th>\n",
       "      <td>Fearthquake2023-02-07   17:25:07.032min ago37....</td>\n",
       "    </tr>\n",
       "  </tbody>\n",
       "</table>\n",
       "</div>"
      ],
      "text/plain": [
       "  3VIearthquake2023-02-07   17:46:56.610min ago38.11 N  36.88 E  5ML3.9 CENTRAL TURKEY2023-02-07 17:56\n",
       "0  Fearthquake2023-02-07   17:42:39.315min ago37....                                                  \n",
       "1  Fearthquake2023-02-07   17:40:41.017min ago38....                                                  \n",
       "2  6IIIearthquake2023-02-07   17:37:58.819min ago...                                                  \n",
       "3  earthquake2023-02-07   17:28:44.028min ago0.75...                                                  \n",
       "4  Fearthquake2023-02-07   17:25:07.032min ago37....                                                  "
      ]
     },
     "execution_count": 183,
     "metadata": {},
     "output_type": "execute_result"
    }
   ],
   "source": [
    "import pandas as pd\n",
    "\n",
    "colnames = rows[0]\n",
    "data = rows[1:]\n",
    "\n",
    "df = pd.DataFrame(data[:], columns=colnames)\n",
    "df.head()"
   ]
  },
  {
   "cell_type": "markdown",
   "metadata": {},
   "source": [
    "#### Display the date, days, title, city, country of next 25 hackathon events as a Pandas dataframe table"
   ]
  },
  {
   "cell_type": "code",
   "execution_count": null,
   "metadata": {},
   "outputs": [],
   "source": [
    "# This is the url you will scrape in this exercise\n",
    "url ='https://hackevents.co/hackathons'"
   ]
  },
  {
   "cell_type": "code",
   "execution_count": null,
   "metadata": {},
   "outputs": [],
   "source": [
    "#your code"
   ]
  },
  {
   "cell_type": "markdown",
   "metadata": {},
   "source": [
    "#### Count number of tweets by a given Twitter account."
   ]
  },
  {
   "cell_type": "markdown",
   "metadata": {},
   "source": [
    "You will need to include a ***try/except block*** for account names not found. \n",
    "<br>***Hint:*** the program should count the number of tweets for any provided account"
   ]
  },
  {
   "cell_type": "code",
   "execution_count": null,
   "metadata": {},
   "outputs": [],
   "source": [
    "# This is the url you will scrape in this exercise \n",
    "# You will need to add the account credentials to this url\n",
    "url = 'https://twitter.com/'"
   ]
  },
  {
   "cell_type": "code",
   "execution_count": null,
   "metadata": {},
   "outputs": [],
   "source": [
    "#your code"
   ]
  },
  {
   "cell_type": "markdown",
   "metadata": {},
   "source": [
    "#### Number of followers of a given twitter account"
   ]
  },
  {
   "cell_type": "markdown",
   "metadata": {},
   "source": [
    "You will need to include a ***try/except block*** in case account/s name not found. \n",
    "<br>***Hint:*** the program should count the followers for any provided account"
   ]
  },
  {
   "cell_type": "code",
   "execution_count": null,
   "metadata": {},
   "outputs": [],
   "source": [
    "# This is the url you will scrape in this exercise \n",
    "# You will need to add the account credentials to this url\n",
    "url = 'https://twitter.com/'"
   ]
  },
  {
   "cell_type": "code",
   "execution_count": null,
   "metadata": {},
   "outputs": [],
   "source": [
    "#your code"
   ]
  },
  {
   "cell_type": "markdown",
   "metadata": {},
   "source": [
    "#### List all language names and number of related articles in the order they appear in wikipedia.org"
   ]
  },
  {
   "cell_type": "code",
   "execution_count": 193,
   "metadata": {},
   "outputs": [],
   "source": [
    "# This is the url you will scrape in this exercise\n",
    "url = 'https://www.wikipedia.org/'"
   ]
  },
  {
   "cell_type": "code",
   "execution_count": 200,
   "metadata": {},
   "outputs": [],
   "source": [
    "html=req.get(url).content \n",
    "soup=bs(html, 'html.parser')\n",
    "\n"
   ]
  },
  {
   "cell_type": "code",
   "execution_count": 201,
   "metadata": {},
   "outputs": [
    {
     "data": {
      "text/plain": [
       "['English',\n",
       " 'Русский',\n",
       " '日本語',\n",
       " 'Deutsch',\n",
       " 'Français',\n",
       " 'Español',\n",
       " 'Italiano',\n",
       " '中文',\n",
       " 'فارسی',\n",
       " 'Polski']"
      ]
     },
     "execution_count": 201,
     "metadata": {},
     "output_type": "execute_result"
    }
   ],
   "source": [
    "lista =[soup.find_all('div',class_='central-featured-lang')[x].find('strong').text for x in range(len(soup.find_all('div',class_='central-featured-lang')))]\n",
    "lista"
   ]
  },
  {
   "cell_type": "markdown",
   "metadata": {},
   "source": [
    "#### A list with the different kind of datasets available in data.gov.uk "
   ]
  },
  {
   "cell_type": "code",
   "execution_count": 202,
   "metadata": {},
   "outputs": [],
   "source": [
    "# This is the url you will scrape in this exercise\n",
    "url = 'https://data.gov.uk/'"
   ]
  },
  {
   "cell_type": "code",
   "execution_count": 203,
   "metadata": {},
   "outputs": [],
   "source": [
    "html=req.get(url).content \n",
    "soup=bs(html, 'html.parser')\n"
   ]
  },
  {
   "cell_type": "code",
   "execution_count": 208,
   "metadata": {},
   "outputs": [
    {
     "data": {
      "text/plain": [
       "['Business and economy',\n",
       " 'Crime and justice',\n",
       " 'Defence',\n",
       " 'Education',\n",
       " 'Environment',\n",
       " 'Government',\n",
       " 'Government spending',\n",
       " 'Health',\n",
       " 'Mapping',\n",
       " 'Society',\n",
       " 'Towns and cities',\n",
       " 'Transport',\n",
       " 'Digital service performance',\n",
       " 'Government reference data']"
      ]
     },
     "execution_count": 208,
     "metadata": {},
     "output_type": "execute_result"
    }
   ],
   "source": [
    "lista =[soup.find_all('h3',class_='govuk-heading-s dgu-topics__heading')[x].text for x in range(len(soup.find_all('h3',class_='govuk-heading-s dgu-topics__heading')))]\n",
    "lista"
   ]
  },
  {
   "cell_type": "markdown",
   "metadata": {},
   "source": [
    "#### Top 10 languages by number of native speakers stored in a Pandas Dataframe"
   ]
  },
  {
   "cell_type": "code",
   "execution_count": 209,
   "metadata": {},
   "outputs": [],
   "source": [
    "# This is the url you will scrape in this exercise\n",
    "url = 'https://en.wikipedia.org/wiki/List_of_languages_by_number_of_native_speakers'"
   ]
  },
  {
   "cell_type": "code",
   "execution_count": 210,
   "metadata": {},
   "outputs": [],
   "source": [
    "html=req.get(url).content \n",
    "soup=bs(html, 'html.parser')"
   ]
  },
  {
   "cell_type": "markdown",
   "metadata": {},
   "source": [
    "### BONUS QUESTIONS"
   ]
  },
  {
   "cell_type": "markdown",
   "metadata": {},
   "source": [
    "#### Scrape a certain number of tweets of a given Twitter account."
   ]
  },
  {
   "cell_type": "code",
   "execution_count": null,
   "metadata": {},
   "outputs": [],
   "source": [
    "# This is the url you will scrape in this exercise \n",
    "# You will need to add the account credentials to this url\n",
    "url = 'https://twitter.com/'"
   ]
  },
  {
   "cell_type": "code",
   "execution_count": null,
   "metadata": {},
   "outputs": [],
   "source": [
    "# your code"
   ]
  },
  {
   "cell_type": "markdown",
   "metadata": {},
   "source": [
    "#### IMDB's Top 250 data (movie name, Initial release, director name and stars) as a pandas dataframe"
   ]
  },
  {
   "cell_type": "code",
   "execution_count": null,
   "metadata": {},
   "outputs": [],
   "source": [
    "# This is the url you will scrape in this exercise \n",
    "url = 'https://www.imdb.com/chart/top'"
   ]
  },
  {
   "cell_type": "code",
   "execution_count": null,
   "metadata": {},
   "outputs": [],
   "source": [
    "# your code"
   ]
  },
  {
   "cell_type": "markdown",
   "metadata": {},
   "source": [
    "#### Movie name, year and a brief summary of the top 10 random movies (IMDB) as a pandas dataframe."
   ]
  },
  {
   "cell_type": "code",
   "execution_count": null,
   "metadata": {},
   "outputs": [],
   "source": [
    "#This is the url you will scrape in this exercise\n",
    "url = 'http://www.imdb.com/chart/top'"
   ]
  },
  {
   "cell_type": "code",
   "execution_count": null,
   "metadata": {},
   "outputs": [],
   "source": [
    "#your code"
   ]
  },
  {
   "cell_type": "markdown",
   "metadata": {},
   "source": [
    "#### Find the live weather report (temperature, wind speed, description and weather) of a given city."
   ]
  },
  {
   "cell_type": "code",
   "execution_count": null,
   "metadata": {},
   "outputs": [],
   "source": [
    "#https://openweathermap.org/current\n",
    "city = city=input('Enter the city:')\n",
    "url = 'http://api.openweathermap.org/data/2.5/weather?'+'q='+city+'&APPID=b35975e18dc93725acb092f7272cc6b8&units=metric'"
   ]
  },
  {
   "cell_type": "code",
   "execution_count": null,
   "metadata": {},
   "outputs": [],
   "source": [
    "# your code"
   ]
  },
  {
   "cell_type": "markdown",
   "metadata": {},
   "source": [
    "#### Book name,price and stock availability as a pandas dataframe."
   ]
  },
  {
   "cell_type": "code",
   "execution_count": null,
   "metadata": {},
   "outputs": [],
   "source": [
    "# This is the url you will scrape in this exercise. \n",
    "# It is a fictional bookstore created to be scraped. \n",
    "url = 'http://books.toscrape.com/'"
   ]
  },
  {
   "cell_type": "code",
   "execution_count": null,
   "metadata": {},
   "outputs": [],
   "source": [
    "#your code"
   ]
  }
 ],
 "metadata": {
  "kernelspec": {
   "display_name": "Python 3 (ipykernel)",
   "language": "python",
   "name": "python3"
  },
  "language_info": {
   "codemirror_mode": {
    "name": "ipython",
    "version": 3
   },
   "file_extension": ".py",
   "mimetype": "text/x-python",
   "name": "python",
   "nbconvert_exporter": "python",
   "pygments_lexer": "ipython3",
   "version": "3.9.13"
  }
 },
 "nbformat": 4,
 "nbformat_minor": 2
}
