{
 "cells": [
  {
   "cell_type": "markdown",
   "metadata": {},
   "source": [
    "# Web Scraping Lab\n",
    "\n",
    "You will find in this notebook some scrapy exercises to practise your scraping skills.\n",
    "\n",
    "**Tips:**\n",
    "\n",
    "- Check the response status code for each request to ensure you have obtained the intended contennt.\n",
    "- Print the response text in each request to understand the kind of info you are getting and its format.\n",
    "- Check for patterns in the response text to extract the data/info requested in each question.\n",
    "- Visit each url and take a look at its source through Chrome DevTools. You'll need to identify the html tags, special class names etc. used for the html content you are expected to extract."
   ]
  },
  {
   "cell_type": "markdown",
   "metadata": {},
   "source": [
    "- [Requests library](http://docs.python-requests.org/en/master/#the-user-guide) documentation \n",
    "- [Beautiful Soup Doc](https://www.crummy.com/software/BeautifulSoup/bs4/doc/)\n",
    "- [Urllib](https://docs.python.org/3/library/urllib.html#module-urllib)\n",
    "- [re lib](https://docs.python.org/3/library/re.html)\n",
    "- [lxml lib](https://lxml.de/)\n",
    "- [Scrapy](https://scrapy.org/)\n",
    "- [List of HTTP status codes](https://en.wikipedia.org/wiki/List_of_HTTP_status_codes)\n",
    "- [HTML basics](http://www.simplehtmlguide.com/cheatsheet.php)\n",
    "- [CSS basics](https://www.cssbasics.com/#page_start)"
   ]
  },
  {
   "cell_type": "markdown",
   "metadata": {},
   "source": [
    "#### Below are the libraries and modules you may need. `requests`,  `BeautifulSoup` and `pandas` are imported for you. If you prefer to use additional libraries feel free to uncomment them."
   ]
  },
  {
   "cell_type": "code",
   "execution_count": 1,
   "metadata": {},
   "outputs": [],
   "source": [
    "import requests\n",
    "from bs4 import BeautifulSoup\n",
    "import pandas as pd"
   ]
  },
  {
   "cell_type": "markdown",
   "metadata": {},
   "source": [
    "#### Download, parse (using BeautifulSoup), and print the content from the Trending Developers page from GitHub:"
   ]
  },
  {
   "cell_type": "code",
   "execution_count": 2,
   "metadata": {},
   "outputs": [],
   "source": [
    "url = 'https://github.com/trending/developers'"
   ]
  },
  {
   "cell_type": "code",
   "execution_count": 3,
   "metadata": {},
   "outputs": [],
   "source": [
    "response = requests.get(url)\n",
    "soup = BeautifulSoup(response.content, \"html.parser\")"
   ]
  },
  {
   "cell_type": "markdown",
   "metadata": {},
   "source": [
    "#### Display the names of the trending developers retrieved in the previous step.\n",
    "\n",
    "Your output should be a Python list of developer names. Each name should not contain any html tag.\n",
    "\n",
    "**Instructions:**\n",
    "\n",
    "1. Find out the html tag and class names used for the developer names. You can achieve this using Chrome DevTools.\n",
    "\n",
    "1. Use BeautifulSoup to extract all the html elements that contain the developer names.\n",
    "\n",
    "1. Use string manipulation techniques to replace whitespaces and linebreaks (i.e. `\\n`) in the *text* of each html element. Use a list to store the clean names.\n",
    "\n",
    "1. Print the list of names.\n",
    "\n",
    "Your output should look like below:\n",
    "\n",
    "```\n",
    "['trimstray (@trimstray)',\n",
    " 'joewalnes (JoeWalnes)',\n",
    " 'charlax (Charles-AxelDein)',\n",
    " 'ForrestKnight (ForrestKnight)',\n",
    " 'revery-ui (revery-ui)',\n",
    " 'alibaba (Alibaba)',\n",
    " 'Microsoft (Microsoft)',\n",
    " 'github (GitHub)',\n",
    " 'facebook (Facebook)',\n",
    " 'boazsegev (Bo)',\n",
    " 'google (Google)',\n",
    " 'cloudfetch',\n",
    " 'sindresorhus (SindreSorhus)',\n",
    " 'tensorflow',\n",
    " 'apache (TheApacheSoftwareFoundation)',\n",
    " 'DevonCrawford (DevonCrawford)',\n",
    " 'ARMmbed (ArmMbed)',\n",
    " 'vuejs (vuejs)',\n",
    " 'fastai (fast.ai)',\n",
    " 'QiShaoXuan (Qi)',\n",
    " 'joelparkerhenderson (JoelParkerHenderson)',\n",
    " 'torvalds (LinusTorvalds)',\n",
    " 'CyC2018',\n",
    " 'komeiji-satori (神楽坂覚々)',\n",
    " 'script-8']\n",
    " ```"
   ]
  },
  {
   "cell_type": "code",
   "execution_count": 4,
   "metadata": {},
   "outputs": [
    {
     "data": {
      "text/plain": [
       "['Ariel Mashraki',\n",
       " 'Mattias Wadman',\n",
       " 'Henrik Rydgård',\n",
       " 'Mark Tyneway',\n",
       " 'Lincoln Stein',\n",
       " 'jxxghp',\n",
       " 'Paul Razvan Berg',\n",
       " 'Florian Roth',\n",
       " 'MichaIng',\n",
       " 'Vectorized',\n",
       " 'Lianmin Zheng',\n",
       " 'X.',\n",
       " 'Norbert de Langen',\n",
       " 'Stefan Prodan',\n",
       " 'Jaco',\n",
       " 'François Chollet',\n",
       " 'Michał Lytek',\n",
       " 'Lukas Taegert-Atkinson',\n",
       " 'Ben McCann',\n",
       " 'Antonio Cheong',\n",
       " 'Maarten Grootendorst',\n",
       " 'Leon',\n",
       " 'syuilo',\n",
       " 'Abhinav Gupta',\n",
       " 'Yair Morgenstern']"
      ]
     },
     "execution_count": 4,
     "metadata": {},
     "output_type": "execute_result"
    }
   ],
   "source": [
    "people_tags = soup.find_all('h1', {\"class\": \"h3 lh-condensed\"})\n",
    "\n",
    "people = [tag.a.text.strip() for tag in people_tags]\n",
    "\n",
    "people"
   ]
  },
  {
   "cell_type": "markdown",
   "metadata": {},
   "source": [
    "#### Display the trending Python repositories in GitHub\n",
    "\n",
    "The steps to solve this problem is similar to the previous one except that you need to find out the repository names instead of developer names."
   ]
  },
  {
   "cell_type": "code",
   "execution_count": 5,
   "metadata": {},
   "outputs": [],
   "source": [
    "url = 'https://github.com/trending/python?since=daily'\n",
    "\n",
    "response = requests.get(url)\n",
    "soup = BeautifulSoup(response.content, \"html.parser\")"
   ]
  },
  {
   "cell_type": "code",
   "execution_count": 6,
   "metadata": {},
   "outputs": [
    {
     "data": {
      "text/plain": [
       "[('acheong08', 'ChatGPT'),\n",
       " ('Zero6992', 'chatGPT-discord-bot'),\n",
       " ('TheAlgorithms', 'Python'),\n",
       " ('LAION-AI', 'Open-Assistant'),\n",
       " ('ddPn08', 'Lsmith'),\n",
       " ('zhayujie', 'chatgpt-on-wechat'),\n",
       " ('LeagueOfPoro', 'CapsuleFarmerEvolved'),\n",
       " ('microsoft', 'BioGPT'),\n",
       " ('BlinkDL', 'ChatRWKV'),\n",
       " ('AIGCT', 'EASYChatGPT'),\n",
       " ('mmz-001', 'knowledge_gpt'),\n",
       " ('jxxghp', 'nas-tools'),\n",
       " ('tiangolo', 'fastapi'),\n",
       " ('TomSchimansky', 'CustomTkinter'),\n",
       " ('Rudrabha', 'Wav2Lip'),\n",
       " ('public-apis', 'public-apis'),\n",
       " ('biancangming', 'wtv'),\n",
       " ('chidiwilliams', 'buzz'),\n",
       " ('bellingcat', 'octosuite'),\n",
       " ('approximatelabs', 'sketch'),\n",
       " ('yerfor', 'GeneFace'),\n",
       " ('uptrain-ai', 'uptrain'),\n",
       " ('facebookresearch', 'metaseq'),\n",
       " ('lss233', 'chatgpt-mirai-qq-bot'),\n",
       " ('ansible', 'ansible')]"
      ]
     },
     "execution_count": 6,
     "metadata": {},
     "output_type": "execute_result"
    }
   ],
   "source": [
    "repos_tags = soup.find_all('h1', {\"class\": \"h3 lh-condensed\"})\n",
    "\n",
    "repos_users = [tag.span.text.strip()[:-2] for tag in repos_tags]\n",
    "repos_names = [tag.a.text.replace('\\n', '').split('/')[-1].strip() for tag in repos_tags]\n",
    "\n",
    "repos = list(zip(repos_users, repos_names))\n",
    "repos"
   ]
  },
  {
   "cell_type": "markdown",
   "metadata": {},
   "source": [
    "#### Display all the image links from Walt Disney wikipedia page"
   ]
  },
  {
   "cell_type": "code",
   "execution_count": 7,
   "metadata": {},
   "outputs": [],
   "source": [
    "url = 'https://en.wikipedia.org/wiki/Walt_Disney'\n",
    "response = requests.get(url)\n",
    "soup = BeautifulSoup(response.content, \"html.parser\")"
   ]
  },
  {
   "cell_type": "code",
   "execution_count": 8,
   "metadata": {},
   "outputs": [
    {
     "data": {
      "text/plain": [
       "['/static/images/icons/wikipedia.png',\n",
       " '/static/images/mobile/copyright/wikipedia-wordmark-en.svg',\n",
       " '/static/images/mobile/copyright/wikipedia-tagline-en.svg',\n",
       " '//upload.wikimedia.org/wikipedia/en/thumb/e/e7/Cscr-featured.svg/20px-Cscr-featured.svg.png',\n",
       " '//upload.wikimedia.org/wikipedia/en/thumb/8/8c/Extended-protection-shackle.svg/20px-Extended-protection-shackle.svg.png',\n",
       " '//upload.wikimedia.org/wikipedia/commons/thumb/d/df/Walt_Disney_1946.JPG/220px-Walt_Disney_1946.JPG',\n",
       " '//upload.wikimedia.org/wikipedia/commons/thumb/8/87/Walt_Disney_1942_signature.svg/150px-Walt_Disney_1942_signature.svg.png',\n",
       " '//upload.wikimedia.org/wikipedia/commons/thumb/3/3a/Walt_Disney_Birthplace_Exterior_Hermosa_Chicago_Illinois.jpg/220px-Walt_Disney_Birthplace_Exterior_Hermosa_Chicago_Illinois.jpg',\n",
       " '//upload.wikimedia.org/wikipedia/commons/thumb/c/c4/Walt_Disney_envelope_ca._1921.jpg/220px-Walt_Disney_envelope_ca._1921.jpg',\n",
       " '//upload.wikimedia.org/wikipedia/commons/thumb/0/0d/Trolley_Troubles_poster.jpg/170px-Trolley_Troubles_poster.jpg',\n",
       " '//upload.wikimedia.org/wikipedia/en/thumb/4/4e/Steamboat-willie.jpg/170px-Steamboat-willie.jpg',\n",
       " '//upload.wikimedia.org/wikipedia/commons/thumb/5/57/Walt_Disney_1935.jpg/170px-Walt_Disney_1935.jpg',\n",
       " '//upload.wikimedia.org/wikipedia/commons/thumb/c/cd/Walt_Disney_Snow_white_1937_trailer_screenshot_%2813%29.jpg/220px-Walt_Disney_Snow_white_1937_trailer_screenshot_%2813%29.jpg',\n",
       " '//upload.wikimedia.org/wikipedia/commons/thumb/1/15/Disney_drawing_goofy.jpg/170px-Disney_drawing_goofy.jpg',\n",
       " '//upload.wikimedia.org/wikipedia/commons/thumb/8/8c/WaltDisneyplansDisneylandDec1954.jpg/220px-WaltDisneyplansDisneylandDec1954.jpg',\n",
       " '//upload.wikimedia.org/wikipedia/commons/thumb/f/ff/Walt_disney_portrait_right.jpg/170px-Walt_disney_portrait_right.jpg',\n",
       " '//upload.wikimedia.org/wikipedia/commons/thumb/1/1a/Walt_Disney_Grave.JPG/170px-Walt_Disney_Grave.JPG',\n",
       " '//upload.wikimedia.org/wikipedia/commons/thumb/2/2d/Roy_O._Disney_with_Company_at_Press_Conference.jpg/170px-Roy_O._Disney_with_Company_at_Press_Conference.jpg',\n",
       " '//upload.wikimedia.org/wikipedia/commons/thumb/1/13/DisneySchiphol1951.jpg/220px-DisneySchiphol1951.jpg',\n",
       " '//upload.wikimedia.org/wikipedia/commons/thumb/6/6c/Disney1968.jpg/170px-Disney1968.jpg',\n",
       " '//upload.wikimedia.org/wikipedia/commons/thumb/b/b0/Disney_Oscar_1953_%28cropped%29.jpg/170px-Disney_Oscar_1953_%28cropped%29.jpg',\n",
       " '//upload.wikimedia.org/wikipedia/en/thumb/4/4a/Commons-logo.svg/30px-Commons-logo.svg.png',\n",
       " '//upload.wikimedia.org/wikipedia/commons/thumb/4/4c/Wikisource-logo.svg/38px-Wikisource-logo.svg.png',\n",
       " '//upload.wikimedia.org/wikipedia/commons/thumb/f/fa/Wikiquote-logo.svg/34px-Wikiquote-logo.svg.png',\n",
       " '//upload.wikimedia.org/wikipedia/en/thumb/8/8a/OOjs_UI_icon_edit-ltr-progressive.svg/10px-OOjs_UI_icon_edit-ltr-progressive.svg.png',\n",
       " '//upload.wikimedia.org/wikipedia/en/thumb/8/8a/OOjs_UI_icon_edit-ltr-progressive.svg/10px-OOjs_UI_icon_edit-ltr-progressive.svg.png',\n",
       " '//upload.wikimedia.org/wikipedia/commons/thumb/e/e3/Disneyland_Resort_logo.svg/135px-Disneyland_Resort_logo.svg.png',\n",
       " '//upload.wikimedia.org/wikipedia/commons/thumb/d/da/Animation_disc.svg/20px-Animation_disc.svg.png',\n",
       " '//upload.wikimedia.org/wikipedia/en/thumb/6/69/P_vip.svg/19px-P_vip.svg.png',\n",
       " '//upload.wikimedia.org/wikipedia/commons/thumb/1/1a/Magic_Kingdom_castle.jpg/15px-Magic_Kingdom_castle.jpg',\n",
       " '//upload.wikimedia.org/wikipedia/en/thumb/e/e7/Video-x-generic.svg/19px-Video-x-generic.svg.png',\n",
       " '//upload.wikimedia.org/wikipedia/commons/thumb/a/a3/Flag_of_Los_Angeles_County%2C_California.svg/21px-Flag_of_Los_Angeles_County%2C_California.svg.png',\n",
       " '//upload.wikimedia.org/wikipedia/commons/thumb/8/8c/Blank_television_set.svg/21px-Blank_television_set.svg.png',\n",
       " '//upload.wikimedia.org/wikipedia/en/thumb/a/a4/Flag_of_the_United_States.svg/21px-Flag_of_the_United_States.svg.png',\n",
       " '//upload.wikimedia.org/wikipedia/en/thumb/4/4a/Commons-logo.svg/14px-Commons-logo.svg.png',\n",
       " '//upload.wikimedia.org/wikipedia/commons/thumb/f/fa/Wikiquote-logo.svg/16px-Wikiquote-logo.svg.png',\n",
       " '//upload.wikimedia.org/wikipedia/commons/thumb/4/4c/Wikisource-logo.svg/18px-Wikisource-logo.svg.png',\n",
       " '//upload.wikimedia.org/wikipedia/commons/thumb/f/ff/Wikidata-logo.svg/21px-Wikidata-logo.svg.png',\n",
       " '//upload.wikimedia.org/wikipedia/en/thumb/8/8a/OOjs_UI_icon_edit-ltr-progressive.svg/10px-OOjs_UI_icon_edit-ltr-progressive.svg.png',\n",
       " '//en.wikipedia.org/wiki/Special:CentralAutoLogin/start?type=1x1',\n",
       " '/static/images/footer/wikimedia-button.png',\n",
       " '/static/images/footer/poweredby_mediawiki_88x31.png']"
      ]
     },
     "execution_count": 8,
     "metadata": {},
     "output_type": "execute_result"
    }
   ],
   "source": [
    "find_main_page = soup.find_all('img')\n",
    "images = [tag.get('src') for tag in find_main_page]\n",
    "images"
   ]
  },
  {
   "cell_type": "markdown",
   "metadata": {},
   "source": [
    "#### Retrieve an arbitary Wikipedia page of \"Python\" and create a list of links on that page"
   ]
  },
  {
   "cell_type": "code",
   "execution_count": 9,
   "metadata": {},
   "outputs": [],
   "source": [
    "url ='https://en.wikipedia.org/wiki/Python'\n",
    "\n",
    "response = requests.get(url)\n",
    "soup = BeautifulSoup(response.content, \"html.parser\")"
   ]
  },
  {
   "cell_type": "code",
   "execution_count": 10,
   "metadata": {},
   "outputs": [
    {
     "name": "stdout",
     "output_type": "stream",
     "text": [
      "['#bodyContent', '/wiki/Main_Page', '/wiki/Special:Search', '/w/index.php?title=Special:CreateAccount&returnto=Python', '/w/index.php?title=Special:CreateAccount&returnto=Python', '/w/index.php?title=Special:UserLogin&returnto=Python', '/wiki/Help:Introduction', '/wiki/Special:MyTalk', '/wiki/Special:MyContributions', '/wiki/Main_Page', '/wiki/Wikipedia:Contents', '/wiki/Portal:Current_events', '/wiki/Special:Random', '/wiki/Wikipedia:About', '//en.wikipedia.org/wiki/Wikipedia:Contact_us', 'https://donate.wikimedia.org/wiki/Special:FundraiserRedirector?utm_source=donate&utm_medium=sidebar&utm_campaign=C13_en.wikipedia.org&uselang=en', '/wiki/Help:Contents', '/wiki/Help:Introduction', '/wiki/Wikipedia:Community_portal', '/wiki/Special:RecentChanges', '/wiki/Wikipedia:File_upload_wizard', '/wiki/Special:WhatLinksHere/Python', '/wiki/Special:RecentChangesLinked/Python', '/wiki/Wikipedia:File_Upload_Wizard', '/wiki/Special:SpecialPages', '/w/index.php?title=Python&oldid=1134693155', '/w/index.php?title=Python&action=info', '/w/index.php?title=Special:CiteThisPage&page=Python&id=1134693155&wpFormIdentifier=titleform', 'https://www.wikidata.org/wiki/Special:EntityPage/Q747452', '/w/index.php?title=Special:DownloadAsPdf&page=Python&action=show-download-screen', '/w/index.php?title=Python&printable=yes', 'https://commons.wikimedia.org/wiki/Category:Python', '#p-lang-btn', '#', '#Snakes', '#Computing', '#People', '#Roller_coasters', '#Vehicles', '#Weaponry', '#Other_uses', '#See_also', 'https://af.wikipedia.org/wiki/Python', 'https://als.wikipedia.org/wiki/Python', 'https://ar.wikipedia.org/wiki/%D8%A8%D8%A7%D9%8A%D8%AB%D9%88%D9%86_(%D8%AA%D9%88%D8%B6%D9%8A%D8%AD)', 'https://az.wikipedia.org/wiki/Python_(d%C9%99qiql%C9%99%C5%9Fdirm%C9%99)', 'https://bn.wikipedia.org/wiki/%E0%A6%AA%E0%A6%BE%E0%A6%87%E0%A6%A5%E0%A6%A8_(%E0%A6%A6%E0%A7%8D%E0%A6%AC%E0%A7%8D%E0%A6%AF%E0%A6%B0%E0%A7%8D%E0%A6%A5%E0%A6%A4%E0%A6%BE_%E0%A6%A8%E0%A6%BF%E0%A6%B0%E0%A6%B8%E0%A6%A8)', 'https://be.wikipedia.org/wiki/Python', 'https://bg.wikipedia.org/wiki/%D0%9F%D0%B8%D1%82%D0%BE%D0%BD_(%D0%BF%D0%BE%D1%8F%D1%81%D0%BD%D0%B5%D0%BD%D0%B8%D0%B5)', 'https://cs.wikipedia.org/wiki/Python_(rozcestn%C3%ADk)', 'https://da.wikipedia.org/wiki/Python', 'https://de.wikipedia.org/wiki/Python', 'https://eo.wikipedia.org/wiki/Pitono_(apartigilo)', 'https://eu.wikipedia.org/wiki/Python_(argipena)', 'https://fa.wikipedia.org/wiki/%D9%BE%D8%A7%DB%8C%D8%AA%D9%88%D9%86', 'https://fr.wikipedia.org/wiki/Python', 'https://ko.wikipedia.org/wiki/%ED%8C%8C%EC%9D%B4%EC%84%A0', 'https://hr.wikipedia.org/wiki/Python_(razdvojba)', 'https://io.wikipedia.org/wiki/Pitono', 'https://id.wikipedia.org/wiki/Python', 'https://ia.wikipedia.org/wiki/Python_(disambiguation)', 'https://is.wikipedia.org/wiki/Python_(a%C3%B0greining)', 'https://it.wikipedia.org/wiki/Python_(disambigua)', 'https://he.wikipedia.org/wiki/%D7%A4%D7%99%D7%AA%D7%95%D7%9F', 'https://ka.wikipedia.org/wiki/%E1%83%9E%E1%83%98%E1%83%97%E1%83%9D%E1%83%9C%E1%83%98_(%E1%83%9B%E1%83%A0%E1%83%90%E1%83%95%E1%83%90%E1%83%9A%E1%83%9B%E1%83%9C%E1%83%98%E1%83%A8%E1%83%95%E1%83%9C%E1%83%94%E1%83%9A%E1%83%9D%E1%83%95%E1%83%90%E1%83%9C%E1%83%98)', 'https://kg.wikipedia.org/wiki/Mboma_(nyoka)', 'https://la.wikipedia.org/wiki/Python_(discretiva)', 'https://lb.wikipedia.org/wiki/Python', 'https://hu.wikipedia.org/wiki/Python_(egy%C3%A9rtelm%C5%B1s%C3%ADt%C5%91_lap)', 'https://mr.wikipedia.org/wiki/%E0%A4%AA%E0%A4%BE%E0%A4%AF%E0%A4%A5%E0%A5%89%E0%A4%A8_(%E0%A4%86%E0%A4%9C%E0%A5%8D%E0%A4%9E%E0%A4%BE%E0%A4%B5%E0%A4%B2%E0%A5%80_%E0%A4%AD%E0%A4%BE%E0%A4%B7%E0%A4%BE)', 'https://nl.wikipedia.org/wiki/Python', 'https://ja.wikipedia.org/wiki/%E3%83%91%E3%82%A4%E3%82%BD%E3%83%B3', 'https://no.wikipedia.org/wiki/Pyton', 'https://pl.wikipedia.org/wiki/Pyton', 'https://pt.wikipedia.org/wiki/Python_(desambigua%C3%A7%C3%A3o)', 'https://ru.wikipedia.org/wiki/Python_(%D0%B7%D0%BD%D0%B0%D1%87%D0%B5%D0%BD%D0%B8%D1%8F)', 'https://sk.wikipedia.org/wiki/Python', 'https://sr.wikipedia.org/wiki/%D0%9F%D0%B8%D1%82%D0%BE%D0%BD_(%D0%B2%D0%B8%D1%88%D0%B5%D0%B7%D0%BD%D0%B0%D1%87%D0%BD%D0%B0_%D0%BE%D0%B4%D1%80%D0%B5%D0%B4%D0%BD%D0%B8%D1%86%D0%B0)', 'https://sh.wikipedia.org/wiki/Python', 'https://fi.wikipedia.org/wiki/Python', 'https://sv.wikipedia.org/wiki/Pyton', 'https://th.wikipedia.org/wiki/%E0%B9%84%E0%B8%9E%E0%B8%97%E0%B8%AD%E0%B8%99', 'https://tr.wikipedia.org/wiki/Python_(anlam_ayr%C4%B1m%C4%B1)', 'https://uk.wikipedia.org/wiki/%D0%9F%D1%96%D1%84%D0%BE%D0%BD', 'https://ur.wikipedia.org/wiki/%D9%BE%D8%A7%D8%A6%DB%8C%D8%AA%DA%BE%D9%88%D9%86', 'https://vi.wikipedia.org/wiki/Python', 'https://zh.wikipedia.org/wiki/Python_(%E6%B6%88%E6%AD%A7%E4%B9%89)', 'https://www.wikidata.org/wiki/Special:EntityPage/Q747452#sitelinks-wikipedia', '/wiki/Python', '/wiki/Talk:Python', '/wiki/Python', '/w/index.php?title=Python&action=edit', '/w/index.php?title=Python&action=history', '/wiki/Python', '/w/index.php?title=Python&action=edit', '/w/index.php?title=Python&action=history', 'https://en.wiktionary.org/wiki/Python', 'https://en.wiktionary.org/wiki/python', '/w/index.php?title=Python&action=edit&section=1', '/wiki/Pythonidae', '/wiki/Python_(genus)', '/wiki/Python_(mythology)', '/w/index.php?title=Python&action=edit&section=2', '/wiki/Python_(programming_language)', '/wiki/CMU_Common_Lisp', '/wiki/PERQ#PERQ_3', '/w/index.php?title=Python&action=edit&section=3', '/wiki/Python_of_Aenus', '/wiki/Python_(painter)', '/wiki/Python_of_Byzantium', '/wiki/Python_of_Catana', '/wiki/Python_Anghelo', '/w/index.php?title=Python&action=edit&section=4', '/wiki/Python_(Efteling)', '/wiki/Python_(Busch_Gardens_Tampa_Bay)', '/wiki/Python_(Coney_Island,_Cincinnati,_Ohio)', '/w/index.php?title=Python&action=edit&section=5', '/wiki/Python_(automobile_maker)', '/wiki/Python_(Ford_prototype)', '/w/index.php?title=Python&action=edit&section=6', '/wiki/Python_(missile)', '/wiki/Python_(nuclear_primary)', '/wiki/Colt_Python', '/w/index.php?title=Python&action=edit&section=7', '/wiki/Python_(codename)', '/wiki/Python_(film)', '/wiki/Monty_Python', '/wiki/Python_(Monty)_Pictures', '/wiki/Timon_of_Phlius', '/w/index.php?title=Python&action=edit&section=8', '/wiki/Cython', '/wiki/Pyton', '/wiki/Pithon', '/wiki/File:Disambig_gray.svg', '/wiki/Help:Disambiguation', 'https://en.wikipedia.org/w/index.php?title=Special:WhatLinksHere/Python&namespace=0', 'https://en.wikipedia.org/w/index.php?title=Python&oldid=1134693155', '/wiki/Help:Category', '/wiki/Category:Disambiguation_pages', '/wiki/Category:Human_name_disambiguation_pages', '/wiki/Category:Disambiguation_pages_with_given-name-holder_lists', '/wiki/Category:Short_description_is_different_from_Wikidata', '/wiki/Category:All_article_disambiguation_pages', '/wiki/Category:All_disambiguation_pages', '/wiki/Category:Animal_common_name_disambiguation_pages', '//en.wikipedia.org/wiki/Wikipedia:Text_of_the_Creative_Commons_Attribution-ShareAlike_3.0_Unported_License', '//creativecommons.org/licenses/by-sa/3.0/', '//foundation.wikimedia.org/wiki/Terms_of_Use', '//foundation.wikimedia.org/wiki/Privacy_policy', '//www.wikimediafoundation.org/', 'https://foundation.wikimedia.org/wiki/Privacy_policy', '/wiki/Wikipedia:About', '/wiki/Wikipedia:General_disclaimer', '//en.wikipedia.org/wiki/Wikipedia:Contact_us', '//en.m.wikipedia.org/w/index.php?title=Python&mobileaction=toggle_view_mobile', 'https://developer.wikimedia.org', 'https://stats.wikimedia.org/#/en.wikipedia.org', 'https://foundation.wikimedia.org/wiki/Cookie_statement', 'https://wikimediafoundation.org/', 'https://www.mediawiki.org/']\n"
     ]
    }
   ],
   "source": [
    "links = [a['href'] for a in soup.find_all('a', href=True)]\n",
    "print(links)"
   ]
  },
  {
   "cell_type": "markdown",
   "metadata": {},
   "source": [
    "#### Number of Titles that have changed in the United States Code since its last release point "
   ]
  },
  {
   "cell_type": "code",
   "execution_count": 11,
   "metadata": {},
   "outputs": [],
   "source": [
    "url = 'http://uscode.house.gov/download/download.shtml'\n",
    "response = requests.get(url)\n",
    "soup = BeautifulSoup(response.content, \"html.parser\")"
   ]
  },
  {
   "cell_type": "code",
   "execution_count": 12,
   "metadata": {},
   "outputs": [
    {
     "data": {
      "text/plain": [
       "['Title 1 - General Provisions',\n",
       " 'Title 3 - The President',\n",
       " 'Title 4 - Flag and Seal, Seat of Government, and the States',\n",
       " 'Title 5 - Government Organization and Employees',\n",
       " 'Title 7 - Agriculture',\n",
       " 'Title 8 - Aliens and Nationality',\n",
       " 'Title 9 - Arbitration',\n",
       " 'Title 10 - Armed Forces',\n",
       " 'Title 11 - Bankruptcy',\n",
       " 'Title 12 - Banks and Banking',\n",
       " 'Title 13 - Census',\n",
       " 'Title 14 - Coast Guard',\n",
       " 'Title 17 - Copyrights',\n",
       " 'Title 19 - Customs Duties',\n",
       " 'Title 20 - Education',\n",
       " 'Title 21 - Food and Drugs',\n",
       " 'Title 24 - Hospitals and Asylums',\n",
       " 'Title 26 - Internal Revenue Code',\n",
       " 'Title 27 - Intoxicating Liquors',\n",
       " 'Title 28 - Judiciary and Judicial Procedure',\n",
       " 'Title 30 - Mineral Lands and Mining',\n",
       " 'Title 32 - National Guard',\n",
       " 'Title 33 - Navigation and Navigable Waters',\n",
       " 'Title 35 - Patents',\n",
       " 'Title 36 - Patriotic and National Observances, Ceremonies, and Organizations',\n",
       " 'Title 37 - Pay and Allowances of the Uniformed Services',\n",
       " 'Title 39 - Postal Service',\n",
       " 'Title 40 - Public Buildings, Property, and Works',\n",
       " 'Title 43 - Public Lands',\n",
       " 'Title 44 - Public Printing and Documents',\n",
       " 'Title 45 - Railroads',\n",
       " 'Title 46 - Shipping',\n",
       " 'Title 47 - Telecommunications',\n",
       " 'Title 48 - Territories and Insular Possessions',\n",
       " 'Title 49 - Transportation',\n",
       " 'Title 50 - War and National Defense',\n",
       " 'Title 51 - National and Commercial Space Programs',\n",
       " 'Title 52 - Voting and Elections',\n",
       " 'Title 53 [Reserved]',\n",
       " 'Title 54 - National Park Service and Related Programs']"
      ]
     },
     "execution_count": 12,
     "metadata": {},
     "output_type": "execute_result"
    }
   ],
   "source": [
    "find_main_page = soup.find_all('div', {'class':'usctitle'})\n",
    "\n",
    "titles = [tag.text.replace('٭', '').strip() for tag in find_main_page if \"Title\" in tag.text]\n",
    "titles"
   ]
  },
  {
   "cell_type": "markdown",
   "metadata": {},
   "source": [
    "#### A Python list with the top ten FBI's Most Wanted names "
   ]
  },
  {
   "cell_type": "code",
   "execution_count": 13,
   "metadata": {},
   "outputs": [],
   "source": [
    "url = 'https://www.fbi.gov/wanted/topten'\n",
    "response = requests.get(url)\n",
    "soup = BeautifulSoup(response.content, \"html.parser\")"
   ]
  },
  {
   "cell_type": "code",
   "execution_count": 14,
   "metadata": {},
   "outputs": [
    {
     "name": "stdout",
     "output_type": "stream",
     "text": [
      "['RUJA IGNATOVA', 'ARNOLDO JIMENEZ', 'OMAR ALEXANDER CARDENAS', 'ALEXIS FLORES', 'YULAN ADONAY ARCHAGA CARIAS', 'BHADRESHKUMAR CHETANBHAI PATEL', 'ALEJANDRO ROSALES CASTILLO', 'JOSE RODOLFO VILLARREAL-HERNANDEZ', 'MICHAEL JAMES PRATT', 'RAFAEL CARO-QUINTERO']\n"
     ]
    }
   ],
   "source": [
    "most_wanted = [header.text.strip() for header in soup.find_all(\"h3\", class_=\"title\")]\n",
    "\n",
    "print(most_wanted)"
   ]
  },
  {
   "cell_type": "markdown",
   "metadata": {},
   "source": [
    "####  20 latest earthquakes info (date, time, latitude, longitude and region name) by the EMSC as a pandas dataframe"
   ]
  },
  {
   "cell_type": "code",
   "execution_count": 15,
   "metadata": {},
   "outputs": [],
   "source": [
    "url = 'https://www.emsc-csem.org/Earthquake/'\n",
    "response = requests.get(url)\n",
    "soup = BeautifulSoup(response.content, \"html.parser\")"
   ]
  },
  {
   "cell_type": "code",
   "execution_count": 17,
   "metadata": {},
   "outputs": [
    {
     "data": {
      "text/html": [
       "<div>\n",
       "<style scoped>\n",
       "    .dataframe tbody tr th:only-of-type {\n",
       "        vertical-align: middle;\n",
       "    }\n",
       "\n",
       "    .dataframe tbody tr th {\n",
       "        vertical-align: top;\n",
       "    }\n",
       "\n",
       "    .dataframe thead th {\n",
       "        text-align: right;\n",
       "    }\n",
       "</style>\n",
       "<table border=\"1\" class=\"dataframe\">\n",
       "  <thead>\n",
       "    <tr style=\"text-align: right;\">\n",
       "      <th></th>\n",
       "      <th>date</th>\n",
       "      <th>time</th>\n",
       "      <th>latitude</th>\n",
       "      <th>longitude</th>\n",
       "    </tr>\n",
       "  </thead>\n",
       "  <tbody>\n",
       "    <tr>\n",
       "      <th>0</th>\n",
       "      <td>2023-02-08</td>\n",
       "      <td>08:03:03</td>\n",
       "      <td>37.92N</td>\n",
       "      <td>36.56E</td>\n",
       "    </tr>\n",
       "    <tr>\n",
       "      <th>1</th>\n",
       "      <td>2023-02-08</td>\n",
       "      <td>07:50:14</td>\n",
       "      <td>19.14N</td>\n",
       "      <td>155.37W</td>\n",
       "    </tr>\n",
       "    <tr>\n",
       "      <th>2</th>\n",
       "      <td>2023-02-08</td>\n",
       "      <td>07:48:31</td>\n",
       "      <td>38.06N</td>\n",
       "      <td>36.46E</td>\n",
       "    </tr>\n",
       "    <tr>\n",
       "      <th>3</th>\n",
       "      <td>2023-02-08</td>\n",
       "      <td>07:46:44</td>\n",
       "      <td>15.00N</td>\n",
       "      <td>94.30W</td>\n",
       "    </tr>\n",
       "    <tr>\n",
       "      <th>4</th>\n",
       "      <td>2023-02-08</td>\n",
       "      <td>07:42:02</td>\n",
       "      <td>8.14S</td>\n",
       "      <td>114.79E</td>\n",
       "    </tr>\n",
       "    <tr>\n",
       "      <th>5</th>\n",
       "      <td>2023-02-08</td>\n",
       "      <td>07:36:09</td>\n",
       "      <td>11.29N</td>\n",
       "      <td>124.61E</td>\n",
       "    </tr>\n",
       "    <tr>\n",
       "      <th>6</th>\n",
       "      <td>2023-02-08</td>\n",
       "      <td>07:35:30</td>\n",
       "      <td>31.41S</td>\n",
       "      <td>68.50W</td>\n",
       "    </tr>\n",
       "    <tr>\n",
       "      <th>7</th>\n",
       "      <td>2023-02-08</td>\n",
       "      <td>07:33:43</td>\n",
       "      <td>38.12N</td>\n",
       "      <td>37.01E</td>\n",
       "    </tr>\n",
       "    <tr>\n",
       "      <th>8</th>\n",
       "      <td>2023-02-08</td>\n",
       "      <td>07:33:23</td>\n",
       "      <td>38.79N</td>\n",
       "      <td>122.73W</td>\n",
       "    </tr>\n",
       "    <tr>\n",
       "      <th>9</th>\n",
       "      <td>2023-02-08</td>\n",
       "      <td>07:28:25</td>\n",
       "      <td>37.97N</td>\n",
       "      <td>37.76E</td>\n",
       "    </tr>\n",
       "    <tr>\n",
       "      <th>10</th>\n",
       "      <td>2023-02-08</td>\n",
       "      <td>07:27:46</td>\n",
       "      <td>12.47N</td>\n",
       "      <td>87.75W</td>\n",
       "    </tr>\n",
       "    <tr>\n",
       "      <th>11</th>\n",
       "      <td>2023-02-08</td>\n",
       "      <td>07:23:45</td>\n",
       "      <td>36.38N</td>\n",
       "      <td>36.07E</td>\n",
       "    </tr>\n",
       "    <tr>\n",
       "      <th>12</th>\n",
       "      <td>2023-02-08</td>\n",
       "      <td>07:20:44</td>\n",
       "      <td>36.84N</td>\n",
       "      <td>36.42E</td>\n",
       "    </tr>\n",
       "    <tr>\n",
       "      <th>13</th>\n",
       "      <td>2023-02-08</td>\n",
       "      <td>07:15:07</td>\n",
       "      <td>38.00N</td>\n",
       "      <td>37.52E</td>\n",
       "    </tr>\n",
       "    <tr>\n",
       "      <th>14</th>\n",
       "      <td>2023-02-08</td>\n",
       "      <td>07:12:25</td>\n",
       "      <td>37.93N</td>\n",
       "      <td>37.65E</td>\n",
       "    </tr>\n",
       "    <tr>\n",
       "      <th>15</th>\n",
       "      <td>2023-02-08</td>\n",
       "      <td>07:11:15</td>\n",
       "      <td>18.16N</td>\n",
       "      <td>67.99W</td>\n",
       "    </tr>\n",
       "    <tr>\n",
       "      <th>16</th>\n",
       "      <td>2023-02-08</td>\n",
       "      <td>07:09:34</td>\n",
       "      <td>38.23N</td>\n",
       "      <td>37.26E</td>\n",
       "    </tr>\n",
       "    <tr>\n",
       "      <th>17</th>\n",
       "      <td>2023-02-08</td>\n",
       "      <td>07:01:31</td>\n",
       "      <td>38.31N</td>\n",
       "      <td>38.27E</td>\n",
       "    </tr>\n",
       "    <tr>\n",
       "      <th>18</th>\n",
       "      <td>2023-02-08</td>\n",
       "      <td>06:53:50</td>\n",
       "      <td>19.26N</td>\n",
       "      <td>155.41W</td>\n",
       "    </tr>\n",
       "    <tr>\n",
       "      <th>19</th>\n",
       "      <td>2023-02-08</td>\n",
       "      <td>06:50:29</td>\n",
       "      <td>38.18N</td>\n",
       "      <td>38.74E</td>\n",
       "    </tr>\n",
       "    <tr>\n",
       "      <th>20</th>\n",
       "      <td>2023-02-08</td>\n",
       "      <td>06:48:41</td>\n",
       "      <td>38.65N</td>\n",
       "      <td>39.99E</td>\n",
       "    </tr>\n",
       "    <tr>\n",
       "      <th>21</th>\n",
       "      <td>2023-02-08</td>\n",
       "      <td>06:40:26</td>\n",
       "      <td>38.14N</td>\n",
       "      <td>38.44E</td>\n",
       "    </tr>\n",
       "    <tr>\n",
       "      <th>22</th>\n",
       "      <td>2023-02-08</td>\n",
       "      <td>06:39:01</td>\n",
       "      <td>43.01N</td>\n",
       "      <td>145.44E</td>\n",
       "    </tr>\n",
       "    <tr>\n",
       "      <th>23</th>\n",
       "      <td>2023-02-08</td>\n",
       "      <td>06:35:17</td>\n",
       "      <td>35.59N</td>\n",
       "      <td>36.82E</td>\n",
       "    </tr>\n",
       "    <tr>\n",
       "      <th>24</th>\n",
       "      <td>2023-02-08</td>\n",
       "      <td>06:33:27</td>\n",
       "      <td>38.20N</td>\n",
       "      <td>36.72E</td>\n",
       "    </tr>\n",
       "    <tr>\n",
       "      <th>25</th>\n",
       "      <td>2023-02-08</td>\n",
       "      <td>06:33:17</td>\n",
       "      <td>37.12N</td>\n",
       "      <td>28.24E</td>\n",
       "    </tr>\n",
       "    <tr>\n",
       "      <th>26</th>\n",
       "      <td>2023-02-08</td>\n",
       "      <td>06:31:25</td>\n",
       "      <td>44.56N</td>\n",
       "      <td>10.44E</td>\n",
       "    </tr>\n",
       "    <tr>\n",
       "      <th>27</th>\n",
       "      <td>2023-02-08</td>\n",
       "      <td>06:28:26</td>\n",
       "      <td>3.68S</td>\n",
       "      <td>119.12E</td>\n",
       "    </tr>\n",
       "    <tr>\n",
       "      <th>28</th>\n",
       "      <td>2023-02-08</td>\n",
       "      <td>06:27:19</td>\n",
       "      <td>0.33S</td>\n",
       "      <td>122.96E</td>\n",
       "    </tr>\n",
       "    <tr>\n",
       "      <th>29</th>\n",
       "      <td>2023-02-08</td>\n",
       "      <td>06:26:36</td>\n",
       "      <td>5.56N</td>\n",
       "      <td>82.61W</td>\n",
       "    </tr>\n",
       "    <tr>\n",
       "      <th>30</th>\n",
       "      <td>2023-02-08</td>\n",
       "      <td>06:23:57</td>\n",
       "      <td>37.90N</td>\n",
       "      <td>36.55E</td>\n",
       "    </tr>\n",
       "    <tr>\n",
       "      <th>31</th>\n",
       "      <td>2023-02-08</td>\n",
       "      <td>06:22:40</td>\n",
       "      <td>38.06N</td>\n",
       "      <td>36.89E</td>\n",
       "    </tr>\n",
       "    <tr>\n",
       "      <th>32</th>\n",
       "      <td>2023-02-08</td>\n",
       "      <td>06:21:36</td>\n",
       "      <td>35.89N</td>\n",
       "      <td>27.45E</td>\n",
       "    </tr>\n",
       "    <tr>\n",
       "      <th>33</th>\n",
       "      <td>2023-02-08</td>\n",
       "      <td>06:09:45</td>\n",
       "      <td>8.49S</td>\n",
       "      <td>109.71E</td>\n",
       "    </tr>\n",
       "    <tr>\n",
       "      <th>34</th>\n",
       "      <td>2023-02-08</td>\n",
       "      <td>06:08:34</td>\n",
       "      <td>38.20N</td>\n",
       "      <td>38.45E</td>\n",
       "    </tr>\n",
       "    <tr>\n",
       "      <th>35</th>\n",
       "      <td>2023-02-08</td>\n",
       "      <td>05:53:38</td>\n",
       "      <td>8.03N</td>\n",
       "      <td>83.03W</td>\n",
       "    </tr>\n",
       "    <tr>\n",
       "      <th>36</th>\n",
       "      <td>2023-02-08</td>\n",
       "      <td>05:52:36</td>\n",
       "      <td>38.06N</td>\n",
       "      <td>36.74E</td>\n",
       "    </tr>\n",
       "    <tr>\n",
       "      <th>37</th>\n",
       "      <td>2023-02-08</td>\n",
       "      <td>05:49:36</td>\n",
       "      <td>38.79N</td>\n",
       "      <td>122.73W</td>\n",
       "    </tr>\n",
       "    <tr>\n",
       "      <th>38</th>\n",
       "      <td>2023-02-08</td>\n",
       "      <td>05:47:33</td>\n",
       "      <td>38.19N</td>\n",
       "      <td>37.67E</td>\n",
       "    </tr>\n",
       "    <tr>\n",
       "      <th>39</th>\n",
       "      <td>2023-02-08</td>\n",
       "      <td>05:43:16</td>\n",
       "      <td>19.24N</td>\n",
       "      <td>155.40W</td>\n",
       "    </tr>\n",
       "    <tr>\n",
       "      <th>40</th>\n",
       "      <td>2023-02-08</td>\n",
       "      <td>05:36:55</td>\n",
       "      <td>38.32N</td>\n",
       "      <td>37.47E</td>\n",
       "    </tr>\n",
       "    <tr>\n",
       "      <th>41</th>\n",
       "      <td>2023-02-08</td>\n",
       "      <td>05:34:07</td>\n",
       "      <td>37.17N</td>\n",
       "      <td>36.94E</td>\n",
       "    </tr>\n",
       "    <tr>\n",
       "      <th>42</th>\n",
       "      <td>2023-02-08</td>\n",
       "      <td>05:30:06</td>\n",
       "      <td>37.97N</td>\n",
       "      <td>37.44E</td>\n",
       "    </tr>\n",
       "    <tr>\n",
       "      <th>43</th>\n",
       "      <td>2023-02-08</td>\n",
       "      <td>05:26:13</td>\n",
       "      <td>37.34N</td>\n",
       "      <td>36.82E</td>\n",
       "    </tr>\n",
       "    <tr>\n",
       "      <th>44</th>\n",
       "      <td>2023-02-08</td>\n",
       "      <td>05:24:12</td>\n",
       "      <td>38.26N</td>\n",
       "      <td>37.27E</td>\n",
       "    </tr>\n",
       "    <tr>\n",
       "      <th>45</th>\n",
       "      <td>2023-02-08</td>\n",
       "      <td>05:22:45</td>\n",
       "      <td>37.50N</td>\n",
       "      <td>37.10E</td>\n",
       "    </tr>\n",
       "    <tr>\n",
       "      <th>46</th>\n",
       "      <td>2023-02-08</td>\n",
       "      <td>05:19:45</td>\n",
       "      <td>14.96N</td>\n",
       "      <td>92.43W</td>\n",
       "    </tr>\n",
       "    <tr>\n",
       "      <th>47</th>\n",
       "      <td>2023-02-08</td>\n",
       "      <td>05:13:20</td>\n",
       "      <td>38.09N</td>\n",
       "      <td>36.97E</td>\n",
       "    </tr>\n",
       "    <tr>\n",
       "      <th>48</th>\n",
       "      <td>2023-02-08</td>\n",
       "      <td>05:12:02</td>\n",
       "      <td>38.05N</td>\n",
       "      <td>36.62E</td>\n",
       "    </tr>\n",
       "    <tr>\n",
       "      <th>49</th>\n",
       "      <td>2023-02-08</td>\n",
       "      <td>04:58:08</td>\n",
       "      <td>38.02N</td>\n",
       "      <td>37.52E</td>\n",
       "    </tr>\n",
       "  </tbody>\n",
       "</table>\n",
       "</div>"
      ],
      "text/plain": [
       "          date      time latitude longitude\n",
       "0   2023-02-08  08:03:03   37.92N    36.56E\n",
       "1   2023-02-08  07:50:14   19.14N   155.37W\n",
       "2   2023-02-08  07:48:31   38.06N    36.46E\n",
       "3   2023-02-08  07:46:44   15.00N    94.30W\n",
       "4   2023-02-08  07:42:02    8.14S   114.79E\n",
       "5   2023-02-08  07:36:09   11.29N   124.61E\n",
       "6   2023-02-08  07:35:30   31.41S    68.50W\n",
       "7   2023-02-08  07:33:43   38.12N    37.01E\n",
       "8   2023-02-08  07:33:23   38.79N   122.73W\n",
       "9   2023-02-08  07:28:25   37.97N    37.76E\n",
       "10  2023-02-08  07:27:46   12.47N    87.75W\n",
       "11  2023-02-08  07:23:45   36.38N    36.07E\n",
       "12  2023-02-08  07:20:44   36.84N    36.42E\n",
       "13  2023-02-08  07:15:07   38.00N    37.52E\n",
       "14  2023-02-08  07:12:25   37.93N    37.65E\n",
       "15  2023-02-08  07:11:15   18.16N    67.99W\n",
       "16  2023-02-08  07:09:34   38.23N    37.26E\n",
       "17  2023-02-08  07:01:31   38.31N    38.27E\n",
       "18  2023-02-08  06:53:50   19.26N   155.41W\n",
       "19  2023-02-08  06:50:29   38.18N    38.74E\n",
       "20  2023-02-08  06:48:41   38.65N    39.99E\n",
       "21  2023-02-08  06:40:26   38.14N    38.44E\n",
       "22  2023-02-08  06:39:01   43.01N   145.44E\n",
       "23  2023-02-08  06:35:17   35.59N    36.82E\n",
       "24  2023-02-08  06:33:27   38.20N    36.72E\n",
       "25  2023-02-08  06:33:17   37.12N    28.24E\n",
       "26  2023-02-08  06:31:25   44.56N    10.44E\n",
       "27  2023-02-08  06:28:26    3.68S   119.12E\n",
       "28  2023-02-08  06:27:19    0.33S   122.96E\n",
       "29  2023-02-08  06:26:36    5.56N    82.61W\n",
       "30  2023-02-08  06:23:57   37.90N    36.55E\n",
       "31  2023-02-08  06:22:40   38.06N    36.89E\n",
       "32  2023-02-08  06:21:36   35.89N    27.45E\n",
       "33  2023-02-08  06:09:45    8.49S   109.71E\n",
       "34  2023-02-08  06:08:34   38.20N    38.45E\n",
       "35  2023-02-08  05:53:38    8.03N    83.03W\n",
       "36  2023-02-08  05:52:36   38.06N    36.74E\n",
       "37  2023-02-08  05:49:36   38.79N   122.73W\n",
       "38  2023-02-08  05:47:33   38.19N    37.67E\n",
       "39  2023-02-08  05:43:16   19.24N   155.40W\n",
       "40  2023-02-08  05:36:55   38.32N    37.47E\n",
       "41  2023-02-08  05:34:07   37.17N    36.94E\n",
       "42  2023-02-08  05:30:06   37.97N    37.44E\n",
       "43  2023-02-08  05:26:13   37.34N    36.82E\n",
       "44  2023-02-08  05:24:12   38.26N    37.27E\n",
       "45  2023-02-08  05:22:45   37.50N    37.10E\n",
       "46  2023-02-08  05:19:45   14.96N    92.43W\n",
       "47  2023-02-08  05:13:20   38.09N    36.97E\n",
       "48  2023-02-08  05:12:02   38.05N    36.62E\n",
       "49  2023-02-08  04:58:08   38.02N    37.52E"
      ]
     },
     "execution_count": 17,
     "metadata": {},
     "output_type": "execute_result"
    }
   ],
   "source": [
    "quake_date = [t.text.replace('earthquake', '').replace('\\xa0\\xa0\\xa0', '')[:10] for t in soup.find_all('td', {'class': 'tabev6'})]\n",
    "quake_time = [t.text.replace('earthquake', '').replace('\\xa0\\xa0\\xa0', '')[10:18] for t in soup.find_all('td', {'class': 'tabev6'})]\n",
    "quake_location = [t.text.replace('\\xa0', '') for t in soup.find_all('td', {'class': 'tb_region'})]\n",
    "\n",
    "\n",
    "quake_lat = [t.text.replace('\\xa0', '') for t in soup.find_all('td', {'class': 'tabev1'})][::2]\n",
    "quake_long = [t.text.replace('\\xa0', '') for t in soup.find_all('td', {'class': 'tabev1'})][1::2]\n",
    "quake_lat_cardinal = [t.text.replace('\\xa0', '') for t in soup.find_all('td', {'class': 'tabev2'})][::3]\n",
    "quake_long_cardinal = [t.text.replace('\\xa0', '') for t in soup.find_all('td', {'class': 'tabev2'})][1::3]\n",
    "\n",
    "\n",
    "quake_latitude = [quake_lat[i] + quake_lat_cardinal[i] for i in range(len(quake_lat))]\n",
    "quake_longitude = [quake_long[i] + quake_long_cardinal[i] for i in range(len(quake_long))]\n",
    "\n",
    "quake_magnitude = [t.text.replace('\\xa0', '') for t in soup.find_all('td', {'class': 'tabev2'})][2::3]\n",
    "\n",
    "quakes = {'date': quake_date, \n",
    "          'time': quake_time, \n",
    "          'latitude': quake_latitude, \n",
    "          'longitude': quake_longitude} \n",
    "         \n",
    "\n",
    "quakes = pd.DataFrame(quakes)\n",
    "\n",
    "quakes"
   ]
  },
  {
   "cell_type": "markdown",
   "metadata": {},
   "source": [
    "#### Display the date, days, title, city, country of next 25 hackathon events as a Pandas dataframe table"
   ]
  },
  {
   "cell_type": "code",
   "execution_count": null,
   "metadata": {},
   "outputs": [],
   "source": []
  },
  {
   "cell_type": "code",
   "execution_count": null,
   "metadata": {},
   "outputs": [],
   "source": []
  },
  {
   "cell_type": "markdown",
   "metadata": {},
   "source": [
    "#### Count number of tweets by a given Twitter account."
   ]
  },
  {
   "cell_type": "markdown",
   "metadata": {},
   "source": [
    "You will need to include a ***try/except block*** for account names not found. \n",
    "<br>***Hint:*** the program should count the number of tweets for any provided account"
   ]
  },
  {
   "cell_type": "code",
   "execution_count": null,
   "metadata": {},
   "outputs": [],
   "source": [
    "url = 'https://twitter.com/'"
   ]
  },
  {
   "cell_type": "code",
   "execution_count": null,
   "metadata": {},
   "outputs": [],
   "source": [
    "user = input('Enter user handle:')\n",
    "\n",
    "get_user = api.get_user(user)\n",
    "print('User: @' + get_user.screen_name)\n",
    "print('Number of tweets: ' + str(get_user.statuses_count))"
   ]
  },
  {
   "cell_type": "markdown",
   "metadata": {},
   "source": [
    "#### Number of followers of a given twitter account"
   ]
  },
  {
   "cell_type": "markdown",
   "metadata": {},
   "source": [
    "You will need to include a ***try/except block*** in case account/s name not found. \n",
    "<br>***Hint:*** the program should count the followers for any provided account"
   ]
  },
  {
   "cell_type": "code",
   "execution_count": null,
   "metadata": {},
   "outputs": [],
   "source": [
    "url = 'https://twitter.com/'"
   ]
  },
  {
   "cell_type": "code",
   "execution_count": null,
   "metadata": {},
   "outputs": [],
   "source": [
    "user = input('Enter user handle:')\n",
    "\n",
    "get_user = api.get_user(user)\n",
    "print('User: @' + get_user.screen_name)\n",
    "print('Followers: ' + str(get_user.followers_count))"
   ]
  },
  {
   "cell_type": "markdown",
   "metadata": {},
   "source": [
    "#### List all language names and number of related articles in the order they appear in wikipedia.org"
   ]
  },
  {
   "cell_type": "code",
   "execution_count": null,
   "metadata": {},
   "outputs": [],
   "source": [
    "url = 'https://www.wikipedia.org/'\n",
    "response = requests.get(url)\n",
    "soup = BeautifulSoup(response.content, \"html.parser\")"
   ]
  },
  {
   "cell_type": "code",
   "execution_count": null,
   "metadata": {},
   "outputs": [],
   "source": [
    "languages_tags = soup.find_all('div', {'class': 'central-featured-lang'})\n",
    "\n",
    "languages = [tag.strong.text for tag in languages_tags]\n",
    "articles = [tag.small.text.replace('\\xa0', '.') for tag in languages_tags]\n",
    "\n",
    "lang_art = list(zip(languages, articles))\n",
    "lang_art"
   ]
  },
  {
   "cell_type": "markdown",
   "metadata": {},
   "source": [
    "#### A list with the different kind of datasets available in data.gov.uk "
   ]
  },
  {
   "cell_type": "code",
   "execution_count": null,
   "metadata": {},
   "outputs": [],
   "source": [
    "url = 'https://data.gov.uk/'\n",
    "response = requests.get(url)\n",
    "soup = BeautifulSoup(response.content, \"html.parser\")"
   ]
  },
  {
   "cell_type": "code",
   "execution_count": null,
   "metadata": {},
   "outputs": [],
   "source": [
    "dataset_tags = soup.find_all('h3')\n",
    "\n",
    "datasets = [tag.a.text for tag in dataset_tags]\n",
    "datasets"
   ]
  },
  {
   "cell_type": "markdown",
   "metadata": {},
   "source": [
    "#### Top 10 languages by number of native speakers stored in a Pandas Dataframe"
   ]
  },
  {
   "cell_type": "code",
   "execution_count": null,
   "metadata": {},
   "outputs": [],
   "source": [
    "url = 'https://en.wikipedia.org/wiki/List_of_languages_by_number_of_native_speakers'\n",
    "response = requests.get(url)\n",
    "soup = BeautifulSoup(response.content, \"html.parser\")"
   ]
  },
  {
   "cell_type": "code",
   "execution_count": null,
   "metadata": {},
   "outputs": [],
   "source": [
    "table = soup.find_all('table', attrs = {'class':'wikitable'})[0]\n",
    "\n",
    "rows = table.find_all('td')\n",
    "\n",
    "columns = table.find_all('th')\n",
    "\n",
    "language_table = [tag.text.replace('\\n', '')[:-3] if '[' in tag.text.replace('\\n', '') else tag.text.replace('\\n', '') for tag in rows]\n",
    "\n",
    "columns = [tag.text.replace('\\n', '')[:-3] if '[' in tag.text.replace('\\n', '') else tag.text.replace('\\n', '') for tag in columns]\n",
    "\n",
    "languages_dict = {columns[i]:language_table[i::len(columns)] for i in range(len(columns))}\n",
    "\n",
    "\n",
    "languages_df = pd.DataFrame(languages_dict)\n",
    "languages_df"
   ]
  },
  {
   "cell_type": "markdown",
   "metadata": {},
   "source": [
    "### BONUS QUESTIONS"
   ]
  },
  {
   "cell_type": "markdown",
   "metadata": {},
   "source": [
    "#### Scrape a certain number of tweets of a given Twitter account."
   ]
  },
  {
   "cell_type": "code",
   "execution_count": null,
   "metadata": {},
   "outputs": [],
   "source": [
    "# This is the url you will scrape in this exercise \n",
    "# You will need to add the account credentials to this url\n",
    "url = 'https://twitter.com/'"
   ]
  },
  {
   "cell_type": "code",
   "execution_count": null,
   "metadata": {},
   "outputs": [],
   "source": [
    "# your code"
   ]
  },
  {
   "cell_type": "markdown",
   "metadata": {},
   "source": [
    "#### IMDB's Top 250 data (movie name, Initial release, director name and stars) as a pandas dataframe"
   ]
  },
  {
   "cell_type": "code",
   "execution_count": null,
   "metadata": {},
   "outputs": [],
   "source": [
    "url = 'https://www.imdb.com/chart/top'"
   ]
  },
  {
   "cell_type": "code",
   "execution_count": null,
   "metadata": {},
   "outputs": [],
   "source": [
    "# your code"
   ]
  },
  {
   "cell_type": "markdown",
   "metadata": {},
   "source": [
    "#### Movie name, year and a brief summary of the top 10 random movies (IMDB) as a pandas dataframe."
   ]
  },
  {
   "cell_type": "code",
   "execution_count": null,
   "metadata": {},
   "outputs": [],
   "source": [
    "#This is the url you will scrape in this exercise\n",
    "url = 'http://www.imdb.com/chart/top'"
   ]
  },
  {
   "cell_type": "code",
   "execution_count": null,
   "metadata": {},
   "outputs": [],
   "source": [
    "#your code"
   ]
  },
  {
   "cell_type": "markdown",
   "metadata": {},
   "source": [
    "#### Find the live weather report (temperature, wind speed, description and weather) of a given city."
   ]
  },
  {
   "cell_type": "code",
   "execution_count": null,
   "metadata": {},
   "outputs": [],
   "source": [
    "#https://openweathermap.org/current\n",
    "city = city=input('Enter the city:')\n",
    "url = 'http://api.openweathermap.org/data/2.5/weather?'+'q='+city+'&APPID=b35975e18dc93725acb092f7272cc6b8&units=metric'"
   ]
  },
  {
   "cell_type": "code",
   "execution_count": null,
   "metadata": {},
   "outputs": [],
   "source": [
    "# your code"
   ]
  },
  {
   "cell_type": "markdown",
   "metadata": {},
   "source": [
    "#### Book name,price and stock availability as a pandas dataframe."
   ]
  },
  {
   "cell_type": "code",
   "execution_count": null,
   "metadata": {},
   "outputs": [],
   "source": [
    "# This is the url you will scrape in this exercise. \n",
    "# It is a fictional bookstore created to be scraped. \n",
    "url = 'http://books.toscrape.com/'"
   ]
  },
  {
   "cell_type": "code",
   "execution_count": null,
   "metadata": {},
   "outputs": [],
   "source": [
    "#your code"
   ]
  }
 ],
 "metadata": {
  "kernelspec": {
   "display_name": "Python 3 (ipykernel)",
   "language": "python",
   "name": "python3"
  },
  "language_info": {
   "codemirror_mode": {
    "name": "ipython",
    "version": 3
   },
   "file_extension": ".py",
   "mimetype": "text/x-python",
   "name": "python",
   "nbconvert_exporter": "python",
   "pygments_lexer": "ipython3",
   "version": "3.10.8"
  }
 },
 "nbformat": 4,
 "nbformat_minor": 4
}
