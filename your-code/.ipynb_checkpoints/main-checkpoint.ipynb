{
 "cells": [
  {
   "cell_type": "markdown",
   "metadata": {},
   "source": [
    "# Web Scraping Lab\n",
    "\n",
    "You will find in this notebook some scrapy exercises to practise your scraping skills.\n",
    "\n",
    "**Tips:**\n",
    "\n",
    "- Check the response status code for each request to ensure you have obtained the intended contennt.\n",
    "- Print the response text in each request to understand the kind of info you are getting and its format.\n",
    "- Check for patterns in the response text to extract the data/info requested in each question.\n",
    "- Visit each url and take a look at its source through Chrome DevTools. You'll need to identify the html tags, special class names etc. used for the html content you are expected to extract."
   ]
  },
  {
   "cell_type": "markdown",
   "metadata": {},
   "source": [
    "- [Requests library](http://docs.python-requests.org/en/master/#the-user-guide) documentation \n",
    "- [Beautiful Soup Doc](https://www.crummy.com/software/BeautifulSoup/bs4/doc/)\n",
    "- [Urllib](https://docs.python.org/3/library/urllib.html#module-urllib)\n",
    "- [re lib](https://docs.python.org/3/library/re.html)\n",
    "- [lxml lib](https://lxml.de/)\n",
    "- [Scrapy](https://scrapy.org/)\n",
    "- [List of HTTP status codes](https://en.wikipedia.org/wiki/List_of_HTTP_status_codes)\n",
    "- [HTML basics](http://www.simplehtmlguide.com/cheatsheet.php)\n",
    "- [CSS basics](https://www.cssbasics.com/#page_start)"
   ]
  },
  {
   "cell_type": "markdown",
   "metadata": {},
   "source": [
    "#### Below are the libraries and modules you may need. `requests`,  `BeautifulSoup` and `pandas` are imported for you. If you prefer to use additional libraries feel free to uncomment them."
   ]
  },
  {
   "cell_type": "code",
   "execution_count": 1,
   "metadata": {},
   "outputs": [],
   "source": [
    "import requests as req\n",
    "from bs4 import BeautifulSoup as bs\n",
    "import pandas as pd\n",
    "# from pprint import pprint\n",
    "# from lxml import html\n",
    "# from lxml.html import fromstring\n",
    "# import urllib.request\n",
    "# from urllib.request import urlopen\n",
    "# import random\n",
    "# import re\n",
    "# import scrapy"
   ]
  },
  {
   "cell_type": "markdown",
   "metadata": {},
   "source": [
    "#### Download, parse (using BeautifulSoup), and print the content from the Trending Developers page from GitHub:"
   ]
  },
  {
   "cell_type": "code",
   "execution_count": 2,
   "metadata": {},
   "outputs": [],
   "source": [
    "# This is the url you will scrape in this exercise\n",
    "url = 'https://github.com/trending/developers'"
   ]
  },
  {
   "cell_type": "code",
   "execution_count": 3,
   "metadata": {},
   "outputs": [],
   "source": [
    "#your code\n",
    "html=req.get(url).content   # o .text\n",
    "\n"
   ]
  },
  {
   "cell_type": "code",
   "execution_count": 4,
   "metadata": {},
   "outputs": [],
   "source": [
    "soup=bs(html, 'html.parser')\n",
    "\n",
    "\n"
   ]
  },
  {
   "cell_type": "markdown",
   "metadata": {},
   "source": [
    "#### Display the names of the trending developers retrieved in the previous step.\n",
    "\n",
    "Your output should be a Python list of developer names. Each name should not contain any html tag.\n",
    "\n",
    "**Instructions:**\n",
    "\n",
    "1. Find out the html tag and class names used for the developer names. You can achieve this using Chrome DevTools.\n",
    "\n",
    "1. Use BeautifulSoup to extract all the html elements that contain the developer names.\n",
    "\n",
    "1. Use string manipulation techniques to replace whitespaces and linebreaks (i.e. `\\n`) in the *text* of each html element. Use a list to store the clean names.\n",
    "\n",
    "1. Print the list of names.\n",
    "\n",
    "Your output should look like below:\n",
    "\n",
    "```\n",
    "['trimstray (@trimstray)',\n",
    " 'joewalnes (JoeWalnes)',\n",
    " 'charlax (Charles-AxelDein)',\n",
    " 'ForrestKnight (ForrestKnight)',\n",
    " 'revery-ui (revery-ui)',\n",
    " 'alibaba (Alibaba)',\n",
    " 'Microsoft (Microsoft)',\n",
    " 'github (GitHub)',\n",
    " 'facebook (Facebook)',\n",
    " 'boazsegev (Bo)',\n",
    " 'google (Google)',\n",
    " 'cloudfetch',\n",
    " 'sindresorhus (SindreSorhus)',\n",
    " 'tensorflow',\n",
    " 'apache (TheApacheSoftwareFoundation)',\n",
    " 'DevonCrawford (DevonCrawford)',\n",
    " 'ARMmbed (ArmMbed)',\n",
    " 'vuejs (vuejs)',\n",
    " 'fastai (fast.ai)',\n",
    " 'QiShaoXuan (Qi)',\n",
    " 'joelparkerhenderson (JoelParkerHenderson)',\n",
    " 'torvalds (LinusTorvalds)',\n",
    " 'CyC2018',\n",
    " 'komeiji-satori (神楽坂覚々)',\n",
    " 'script-8']\n",
    " ```"
   ]
  },
  {
   "cell_type": "code",
   "execution_count": 5,
   "metadata": {},
   "outputs": [
    {
     "data": {
      "text/plain": [
       "'Ariel Mashraki'"
      ]
     },
     "execution_count": 5,
     "metadata": {},
     "output_type": "execute_result"
    }
   ],
   "source": [
    "#your code\n",
    "\n",
    "h1= soup.find_all('h1', class_= 'h3 lh-condensed')\n",
    "h1[0].text.strip()"
   ]
  },
  {
   "cell_type": "code",
   "execution_count": 6,
   "metadata": {},
   "outputs": [
    {
     "name": "stdout",
     "output_type": "stream",
     "text": [
      "['Ariel Mashraki', 'Mattias Wadman', 'Henrik Rydgård', 'Mark Tyneway', 'Lincoln Stein', 'jxxghp', 'Paul Razvan Berg', 'Florian Roth', 'MichaIng', 'Vectorized', 'Lianmin Zheng', 'X.', 'Norbert de Langen', 'Stefan Prodan', 'Jaco', 'François Chollet', 'Michał Lytek', 'Lukas Taegert-Atkinson', 'Ben McCann', 'Antonio Cheong', 'Maarten Grootendorst', 'Leon', 'syuilo', 'Abhinav Gupta', 'Yair Morgenstern']\n"
     ]
    }
   ],
   "source": [
    "\n",
    "nombres= []\n",
    "for i in h1:\n",
    "    nombres.append(i.text.strip())\n",
    "print(nombres)\n",
    "\n"
   ]
  },
  {
   "cell_type": "markdown",
   "metadata": {},
   "source": [
    "#### Display the trending Python repositories in GitHub\n",
    "\n",
    "The steps to solve this problem is similar to the previous one except that you need to find out the repository names instead of developer names."
   ]
  },
  {
   "cell_type": "code",
   "execution_count": 7,
   "metadata": {},
   "outputs": [],
   "source": [
    "# This is the url you will scrape in this exercise\n",
    "url = 'https://github.com/trending/python?since=daily'"
   ]
  },
  {
   "cell_type": "code",
   "execution_count": 8,
   "metadata": {},
   "outputs": [],
   "source": [
    "#your code\n",
    "html=req.get(url).text  # o .text\n"
   ]
  },
  {
   "cell_type": "code",
   "execution_count": 9,
   "metadata": {},
   "outputs": [],
   "source": [
    "soup=bs(html, 'html.parser')\n",
    "\n",
    "\n"
   ]
  },
  {
   "cell_type": "code",
   "execution_count": 10,
   "metadata": {},
   "outputs": [
    {
     "data": {
      "text/plain": [
       "['acheong08 /', '', '      ChatGPT']"
      ]
     },
     "execution_count": 10,
     "metadata": {},
     "output_type": "execute_result"
    }
   ],
   "source": [
    "repos = soup.find_all('h1', class_= 'h3 lh-condensed')\n",
    "repos[0].text.strip().split('\\n')\n"
   ]
  },
  {
   "cell_type": "code",
   "execution_count": 11,
   "metadata": {},
   "outputs": [
    {
     "name": "stdout",
     "output_type": "stream",
     "text": [
      "[['acheong08 /', '', '      ChatGPT'], ['Zero6992 /', '', '      chatGPT-discord-bot'], ['TheAlgorithms /', '', '      Python'], ['LAION-AI /', '', '      Open-Assistant'], ['ddPn08 /', '', '      Lsmith'], ['zhayujie /', '', '      chatgpt-on-wechat'], ['LeagueOfPoro /', '', '      CapsuleFarmerEvolved'], ['microsoft /', '', '      BioGPT'], ['BlinkDL /', '', '      ChatRWKV'], ['AIGCT /', '', '      EASYChatGPT'], ['mmz-001 /', '', '      knowledge_gpt'], ['jxxghp /', '', '      nas-tools'], ['tiangolo /', '', '      fastapi'], ['TomSchimansky /', '', '      CustomTkinter'], ['Rudrabha /', '', '      Wav2Lip'], ['public-apis /', '', '      public-apis'], ['biancangming /', '', '      wtv'], ['chidiwilliams /', '', '      buzz'], ['bellingcat /', '', '      octosuite'], ['approximatelabs /', '', '      sketch'], ['yerfor /', '', '      GeneFace'], ['uptrain-ai /', '', '      uptrain'], ['facebookresearch /', '', '      metaseq'], ['lss233 /', '', '      chatgpt-mirai-qq-bot'], ['ansible /', '', '      ansible']]\n"
     ]
    }
   ],
   "source": [
    "repositorios= []\n",
    "for i in repos:\n",
    "    repositorios.append(i.text.strip().split('\\n'))\n",
    "print(repositorios)"
   ]
  },
  {
   "cell_type": "markdown",
   "metadata": {},
   "source": [
    "#### Display all the image links from Walt Disney wikipedia page"
   ]
  },
  {
   "cell_type": "code",
   "execution_count": 12,
   "metadata": {},
   "outputs": [],
   "source": [
    "# This is the url you will scrape in this exercise\n",
    "url = 'https://en.wikipedia.org/wiki/Walt_Disney'"
   ]
  },
  {
   "cell_type": "code",
   "execution_count": 13,
   "metadata": {},
   "outputs": [],
   "source": [
    "#your code\n",
    "html=req.get(url).text  # o .text\n",
    "\n"
   ]
  },
  {
   "cell_type": "code",
   "execution_count": 14,
   "metadata": {},
   "outputs": [],
   "source": [
    "soup=bs(html, 'html.parser')\n",
    "\n"
   ]
  },
  {
   "cell_type": "code",
   "execution_count": 15,
   "metadata": {},
   "outputs": [
    {
     "name": "stdout",
     "output_type": "stream",
     "text": [
      "//upload.wikimedia.org/wikipedia/commons/thumb/3/3a/Walt_Disney_Birthplace_Exterior_Hermosa_Chicago_Illinois.jpg/220px-Walt_Disney_Birthplace_Exterior_Hermosa_Chicago_Illinois.jpg\n",
      "\n",
      "//upload.wikimedia.org/wikipedia/commons/thumb/c/c4/Walt_Disney_envelope_ca._1921.jpg/220px-Walt_Disney_envelope_ca._1921.jpg\n",
      "\n",
      "//upload.wikimedia.org/wikipedia/commons/thumb/0/0d/Trolley_Troubles_poster.jpg/170px-Trolley_Troubles_poster.jpg\n",
      "\n",
      "//upload.wikimedia.org/wikipedia/en/thumb/4/4e/Steamboat-willie.jpg/170px-Steamboat-willie.jpg\n",
      "\n",
      "//upload.wikimedia.org/wikipedia/commons/thumb/5/57/Walt_Disney_1935.jpg/170px-Walt_Disney_1935.jpg\n",
      "\n",
      "//upload.wikimedia.org/wikipedia/commons/thumb/c/cd/Walt_Disney_Snow_white_1937_trailer_screenshot_%2813%29.jpg/220px-Walt_Disney_Snow_white_1937_trailer_screenshot_%2813%29.jpg\n",
      "\n",
      "//upload.wikimedia.org/wikipedia/commons/thumb/1/15/Disney_drawing_goofy.jpg/170px-Disney_drawing_goofy.jpg\n",
      "\n",
      "//upload.wikimedia.org/wikipedia/commons/thumb/8/8c/WaltDisneyplansDisneylandDec1954.jpg/220px-WaltDisneyplansDisneylandDec1954.jpg\n",
      "\n",
      "//upload.wikimedia.org/wikipedia/commons/thumb/f/ff/Walt_disney_portrait_right.jpg/170px-Walt_disney_portrait_right.jpg\n",
      "\n",
      "//upload.wikimedia.org/wikipedia/commons/thumb/2/2d/Roy_O._Disney_with_Company_at_Press_Conference.jpg/170px-Roy_O._Disney_with_Company_at_Press_Conference.jpg\n",
      "\n",
      "//upload.wikimedia.org/wikipedia/commons/thumb/1/13/DisneySchiphol1951.jpg/220px-DisneySchiphol1951.jpg\n",
      "\n",
      "//upload.wikimedia.org/wikipedia/commons/thumb/6/6c/Disney1968.jpg/170px-Disney1968.jpg\n",
      "\n",
      "//upload.wikimedia.org/wikipedia/commons/thumb/b/b0/Disney_Oscar_1953_%28cropped%29.jpg/170px-Disney_Oscar_1953_%28cropped%29.jpg\n",
      "\n",
      "//upload.wikimedia.org/wikipedia/commons/thumb/1/1a/Magic_Kingdom_castle.jpg/15px-Magic_Kingdom_castle.jpg\n",
      "\n"
     ]
    }
   ],
   "source": [
    "from urllib.request import urlopen\n",
    "import re\n",
    "html = urlopen('https://en.wikipedia.org/wiki/Walt_Disney')\n",
    "bs = bs(html, 'html.parser')\n",
    "images = bs.find_all('img', {'src':re.compile('.jpg')})\n",
    "for image in images:\n",
    "    print(image['src']+'\\n')\n",
    "\n"
   ]
  },
  {
   "cell_type": "markdown",
   "metadata": {},
   "source": [
    "#### Retrieve an arbitary Wikipedia page of \"Python\" and create a list of links on that page"
   ]
  },
  {
   "cell_type": "code",
   "execution_count": 70,
   "metadata": {},
   "outputs": [],
   "source": [
    "# This is the url you will scrape in this exercise\n",
    "url = 'https://en.wikipedia.org/wiki/Python'"
   ]
  },
  {
   "cell_type": "code",
   "execution_count": 71,
   "metadata": {},
   "outputs": [],
   "source": [
    "python=req.get(url).content"
   ]
  },
  {
   "cell_type": "code",
   "execution_count": 72,
   "metadata": {},
   "outputs": [
    {
     "data": {
      "text/plain": [
       "b'<!DOCTYPE html>\\n<html class=\"client-nojs\" lang=\"en\" dir=\"ltr\">\\n<head>\\n<meta charset=\"UTF-8\"/>\\n<title>Python - Wikipedia</title>\\n<script>document.documentElement.className=\"client-js\";RLCONF={\"wgBreakFrames\":false,\"wgSeparatorTransformTable\":[\"\",\"\"],\"wgDigitTransformTable\":[\"\",\"\"],\"wgDefaultDateFormat\":\"dmy\",\"wgMonthNames\":[\"\",\"January\",\"February\",\"March\",\"April\",\"May\",\"June\",\"July\",\"August\",\"September\",\"October\",\"November\",\"December\"],\"wgRequestId\":\"6fa8bbdd-06b6-4e5b-91e7-a8378b86fb19\",\"wgCSPNonce\":false,\"wgCanonicalNamespace\":\"\",\"wgCanonicalSpecialPageName\":false,\"wgNamespaceNumber\":0,\"wgPageName\":\"Python\",\"wgTitle\":\"Python\",\"wgCurRevisionId\":1134693155,\"wgRevisionId\":1134693155,\"wgArticleId\":46332325,\"wgIsArticle\":true,\"wgIsRedirect\":false,\"wgAction\":\"view\",\"wgUserName\":null,\"wgUserGroups\":[\"*\"],\"wgCategories\":[\"Short description is different from Wikidata\",\"All article disambiguation pages\",\"All disambiguation pages\",\"Animal common name disambiguation pages\",\"Disambiguation pages\",\"Human name disambiguation pages\",\"Disambiguation pages with given-name-holder lists\"],\"wgPageContentLanguage\":\"en\",\"wgPageContentModel\"\\n:\"wikitext\",\"wgRelevantPageName\":\"Python\",\"wgRelevantArticleId\":46332325,\"wgIsProbablyEditable\":true,\"wgRelevantPageIsProbablyEditable\":true,\"wgRestrictionEdit\":[],\"wgRestrictionMove\":[],\"wgFlaggedRevsParams\":{\"tags\":{\"status\":{\"levels\":1}}},\"wgVisualEditor\":{\"pageLanguageCode\":\"en\",\"pageLanguageDir\":\"ltr\",\"pageVariantFallbacks\":\"en\"},\"wgMFDisplayWikibaseDescriptions\":{\"search\":true,\"watchlist\":true,\"tagline\":false,\"nearby\":true},\"wgWMESchemaEditAttemptStepOversample\":false,\"wgWMEPageLength\":2000,\"wgNoticeProject\":\"wikipedia\",\"wgVector2022PreviewPages\":[],\"wgMediaViewerOnClick\":true,\"wgMediaViewerEnabledByDefault\":true,\"wgPopupsFlags\":10,\"wgULSCurrentAutonym\":\"English\",\"wgEditSubmitButtonLabelPublish\":true,\"wgCentralAuthMobileDomain\":false,\"wgULSPosition\":\"interlanguage\",\"wgULSisCompactLinksEnabled\":true,\"wgULSisLanguageSelectorEmpty\":false,\"wgWikibaseItemId\":\"Q747452\",\"GEHomepageSuggestedEditsEnableTopics\":true,\"wgGETopicsMatchModeEnabled\":false,\\n\"wgGEStructuredTaskRejectionReasonTextInputEnabled\":false};RLSTATE={\"skins.vector.user.styles\":\"ready\",\"ext.globalCssJs.user.styles\":\"ready\",\"site.styles\":\"ready\",\"user.styles\":\"ready\",\"skins.vector.user\":\"ready\",\"ext.globalCssJs.user\":\"ready\",\"user\":\"ready\",\"user.options\":\"loading\",\"mediawiki.ui.button\":\"ready\",\"skins.vector.styles\":\"ready\",\"skins.vector.icons\":\"ready\",\"mediawiki.ui.icon\":\"ready\",\"ext.visualEditor.desktopArticleTarget.noscript\":\"ready\",\"ext.wikimediaBadges\":\"ready\",\"ext.uls.interlanguage\":\"ready\",\"wikibase.client.init\":\"ready\"};RLPAGEMODULES=[\"site\",\"mediawiki.page.ready\",\"mediawiki.toc\",\"skins.vector.js\",\"skins.vector.es6\",\"mmv.head\",\"mmv.bootstrap.autostart\",\"ext.visualEditor.desktopArticleTarget.init\",\"ext.visualEditor.targetLoader\",\"ext.eventLogging\",\"ext.wikimediaEvents\",\"ext.navigationTiming\",\"ext.cx.eventlogging.campaigns\",\"ext.centralNotice.geoIP\",\"ext.centralNotice.startUp\",\"ext.gadget.ReferenceTooltips\",\"ext.gadget.charinsert\",\\n\"ext.gadget.extra-toolbar-buttons\",\"ext.gadget.switcher\",\"ext.centralauth.centralautologin\",\"ext.popups\",\"ext.echo.centralauth\",\"ext.uls.compactlinks\",\"ext.uls.interface\",\"ext.cx.uls.quick.actions\",\"ext.growthExperiments.SuggestedEditSession\"];</script>\\n<script>(RLQ=window.RLQ||[]).push(function(){mw.loader.implement(\"user.options@12s5i\",function($,jQuery,require,module){mw.user.tokens.set({\"patrolToken\":\"+\\\\\\\\\",\"watchToken\":\"+\\\\\\\\\",\"csrfToken\":\"+\\\\\\\\\"});});});</script>\\n<link rel=\"stylesheet\" href=\"/w/load.php?lang=en&amp;modules=ext.uls.interlanguage%7Cext.visualEditor.desktopArticleTarget.noscript%7Cext.wikimediaBadges%7Cmediawiki.ui.button%2Cicon%7Cskins.vector.icons%2Cstyles%7Cwikibase.client.init&amp;only=styles&amp;skin=vector-2022\"/>\\n<script async=\"\" src=\"/w/load.php?lang=en&amp;modules=startup&amp;only=scripts&amp;raw=1&amp;skin=vector-2022\"></script>\\n<meta name=\"ResourceLoaderDynamicStyles\" content=\"\"/>\\n<link rel=\"stylesheet\" href=\"/w/load.php?lang=en&amp;modules=site.styles&amp;only=styles&amp;skin=vector-2022\"/>\\n<meta name=\"generator\" content=\"MediaWiki 1.40.0-wmf.20\"/>\\n<meta name=\"referrer\" content=\"origin\"/>\\n<meta name=\"referrer\" content=\"origin-when-crossorigin\"/>\\n<meta name=\"referrer\" content=\"origin-when-cross-origin\"/>\\n<meta name=\"robots\" content=\"max-image-preview:standard\"/>\\n<meta name=\"format-detection\" content=\"telephone=no\"/>\\n<meta name=\"viewport\" content=\"width=1000\"/>\\n<meta property=\"og:title\" content=\"Python - Wikipedia\"/>\\n<meta property=\"og:type\" content=\"website\"/>\\n<link rel=\"preconnect\" href=\"//upload.wikimedia.org\"/>\\n<link rel=\"alternate\" media=\"only screen and (max-width: 720px)\" href=\"//en.m.wikipedia.org/wiki/Python\"/>\\n<link rel=\"alternate\" type=\"application/x-wiki\" title=\"Edit this page\" href=\"/w/index.php?title=Python&amp;action=edit\"/>\\n<link rel=\"apple-touch-icon\" href=\"/static/apple-touch/wikipedia.png\"/>\\n<link rel=\"icon\" href=\"/static/favicon/wikipedia.ico\"/>\\n<link rel=\"search\" type=\"application/opensearchdescription+xml\" href=\"/w/opensearch_desc.php\" title=\"Wikipedia (en)\"/>\\n<link rel=\"EditURI\" type=\"application/rsd+xml\" href=\"//en.wikipedia.org/w/api.php?action=rsd\"/>\\n<link rel=\"license\" href=\"https://creativecommons.org/licenses/by-sa/3.0/\"/>\\n<link rel=\"canonical\" href=\"https://en.wikipedia.org/wiki/Python\"/>\\n<link rel=\"dns-prefetch\" href=\"//meta.wikimedia.org\" />\\n<link rel=\"dns-prefetch\" href=\"//login.wikimedia.org\"/>\\n</head>\\n<body class=\"skin-vector skin-vector-search-vue vector-toc-pinned mediawiki ltr sitedir-ltr mw-hide-empty-elt ns-0 ns-subject mw-editable page-Python rootpage-Python skin-vector-2022 action-view vector-feature-language-in-header-enabled vector-feature-language-in-main-page-header-disabled vector-feature-language-alert-in-sidebar-enabled vector-feature-sticky-header-disabled vector-feature-sticky-header-edit-disabled vector-feature-page-tools-disabled vector-feature-page-tools-pinned-disabled vector-feature-main-menu-pinned-disabled vector-feature-limited-width-enabled vector-feature-limited-width-content-enabled\"><div class=\"mw-page-container\">\\n\\t<a class=\"mw-jump-link\" href=\"#bodyContent\">Jump to content</a>\\n\\t<div class=\"mw-page-container-inner\">\\n\\t\\t<input\\n\\t\\t\\ttype=\"checkbox\"\\n\\t\\t\\tid=\"mw-sidebar-checkbox\"\\n\\t\\t\\tclass=\"mw-checkbox-hack-checkbox\"\\n\\t\\t\\t>\\n\\t\\t<header class=\"mw-header mw-ui-icon-flush-left mw-ui-icon-flush-right\">\\n\\t\\t\\t<div class=\"vector-header-start\">\\n\\t\\t\\t\\t\\t<label\\n\\t\\t\\t\\tid=\"mw-sidebar-button\"\\n\\t\\t\\t\\tclass=\"mw-checkbox-hack-button mw-ui-icon mw-ui-button mw-ui-quiet mw-ui-icon-element mw-ui-icon-flush-right\"\\n\\t\\t\\t\\tfor=\"mw-sidebar-checkbox\"\\n\\t\\t\\t\\trole=\"button\"\\n\\t\\t\\t\\taria-controls=\"mw-panel\"\\n\\t\\t\\t\\tdata-event-name=\"ui.sidebar\"\\n\\t\\t\\t\\ttabindex=\"0\"\\n\\t\\t\\t\\ttitle=\"Main menu\">\\n\\t\\t\\t\\t<span>Toggle sidebar</span>\\n\\t\\t\\t</label>\\n\\t\\t\\n<a href=\"/wiki/Main_Page\" class=\"mw-logo\">\\n\\t<img class=\"mw-logo-icon\" src=\"/static/images/icons/wikipedia.png\" alt=\"\"\\n\\t\\taria-hidden=\"true\" height=\"50\" width=\"50\">\\n\\t<span class=\"mw-logo-container\">\\n\\t\\t<img class=\"mw-logo-wordmark\" alt=\"Wikipedia\"\\n\\t\\t\\tsrc=\"/static/images/mobile/copyright/wikipedia-wordmark-en.svg\" style=\"width: 7.5em; height: 1.125em;\">\\n\\t\\t<img class=\"mw-logo-tagline\"\\n\\t\\t\\talt=\"The Free Encyclopedia\"\\n\\t\\t\\tsrc=\"/static/images/mobile/copyright/wikipedia-tagline-en.svg\" width=\"117\" height=\"13\" style=\"width: 7.3125em; height: 0.8125em;\">\\n\\t</span>\\n</a>\\n\\n\\t\\t\\t</div>\\n\\t\\t\\t<div class=\"vector-header-end\">\\n\\t\\t\\t\\t\\n<div id=\"p-search\" role=\"search\" class=\"vector-search-box-vue  vector-search-box-collapses  vector-search-box-show-thumbnail vector-search-box-auto-expand-width vector-search-box\">\\n\\t<a href=\"/wiki/Special:Search\"\\n\\t\\n\\t\\t\\n\\t\\t\\n\\t\\t\\n\\t\\ttitle=\"Search Wikipedia [f]\"\\n\\t\\taccesskey=\"f\"\\n\\t\\tclass=\"mw-ui-button mw-ui-quiet mw-ui-icon mw-ui-icon-element mw-ui-icon-wikimedia-search search-toggle\">\\n\\t\\t<span>Search</span>\\n\\t</a>\\n\\t\\n\\t<div>\\n\\t\\t<form action=\"/w/index.php\" id=\"searchform\"\\n\\t\\t\\tclass=\"vector-search-box-form\">\\n\\t\\t\\t<div id=\"simpleSearch\"\\n\\t\\t\\t\\tclass=\"vector-search-box-inner\"\\n\\t\\t\\t\\t data-search-loc=\"header-moved\">\\n\\t\\t\\t\\t<input class=\"vector-search-box-input\"\\n\\t\\t\\t\\t\\t type=\"search\" name=\"search\" placeholder=\"Search Wikipedia\" aria-label=\"Search Wikipedia\" autocapitalize=\"sentences\" title=\"Search Wikipedia [f]\" accesskey=\"f\" id=\"searchInput\"\\n\\t\\t\\t\\t>\\n\\t\\t\\t\\t<input type=\"hidden\" name=\"title\" value=\"Special:Search\">\\n\\t\\t\\t\\t<input id=\"mw-searchButton\"\\n\\t\\t\\t\\t\\t class=\"searchButton mw-fallbackSearchButton\" type=\"submit\" name=\"fulltext\" title=\"Search Wikipedia for this text\" value=\"Search\">\\n\\t\\t\\t\\t<input id=\"searchButton\"\\n\\t\\t\\t\\t\\t class=\"searchButton\" type=\"submit\" name=\"go\" title=\"Go to a page with this exact name if it exists\" value=\"Go\">\\n\\t\\t\\t</div>\\n\\t\\t</form>\\n\\t</div>\\n</div>\\n\\n\\t\\t\\t\\t<nav class=\"vector-user-links\" aria-label=\"Personal tools\" role=\"navigation\" >\\n\\t\\n<div id=\"p-vector-user-menu-overflow\" class=\"vector-menu mw-portlet mw-portlet-vector-user-menu-overflow\"  >\\n\\t<div class=\"vector-menu-heading\">\\n\\t\\t\\n\\t</div>\\n\\t<div class=\"vector-menu-content\">\\n\\t\\t\\n\\t\\t<ul class=\"vector-menu-content-list\"><li id=\"pt-createaccount-2\" class=\"user-links-collapsible-item mw-list-item\"><a href=\"/w/index.php?title=Special:CreateAccount&amp;returnto=Python\" title=\"You are encouraged to create an account and log in; however, it is not mandatory\"><span>Create account</span></a></li></ul>\\n\\t\\t\\n\\t</div>\\n</div>\\n\\n\\t\\n\\t<div id=\"p-personal\" class=\"vector-menu vector-dropdown vector-menu-dropdown mw-portlet mw-portlet-personal vector-user-menu vector-user-menu-logged-out\"  title=\"Log in and more options\" >\\n\\t\\t<input type=\"checkbox\"\\n\\t\\t\\tid=\"p-personal-checkbox\"\\n\\t\\t\\trole=\"button\"\\n\\t\\t\\taria-haspopup=\"true\"\\n\\t\\t\\tdata-event-name=\"ui.dropdown-p-personal\"\\n\\t\\t\\tclass=\"vector-menu-checkbox \"\\n\\t\\t\\t\\n\\t\\t\\t\\n\\t\\t/>\\n\\t\\t<label\\n\\t\\t\\tid=\"p-personal-label\"\\n\\t\\t\\tfor=\"p-personal-checkbox\"\\n\\t\\t\\tclass=\"vector-menu-heading mw-checkbox-hack-button mw-ui-icon mw-ui-button mw-ui-quiet mw-ui-icon-element mw-ui-icon-wikimedia-ellipsis\"\\n\\t\\t\\t\\n\\t\\t>\\n\\t\\t\\t<span class=\"vector-menu-heading-label\">Personal tools</span>\\n\\t\\t</label>\\n\\t\\t<div class=\"vector-menu-content\">\\n\\t\\n\\t\\t<div class=\"vector-menu-content\">\\n\\t\\n\\t<ul class=\"vector-menu-content-list\"><li class=\"vector-user-menu-create-account user-links-collapsible-item\" ><a data-mw=\"interface\"\\n\\thref=\"/w/index.php?title=Special:CreateAccount&amp;returnto=Python\"\\n\\t><span class=\"mw-ui-icon mw-ui-icon-userAdd mw-ui-icon-wikimedia-userAdd\"></span><span>Create account</span></a>\\n</li><li class=\"vector-user-menu-login\" ><a data-mw=\"interface\"\\n\\thref=\"/w/index.php?title=Special:UserLogin&amp;returnto=Python\"\\n\\t title=\"[o]\" accesskey=\"o\"><span class=\"mw-ui-icon mw-ui-icon-logIn mw-ui-icon-wikimedia-logIn\"></span><span>Log in</span></a>\\n</li></ul>\\n\\t\\n</div>\\n\\n\\t\\t<div class=\"vector-user-menu-anon-editor\">\\n\\t\\t\\t<p>\\n\\t\\t\\t\\tPages for logged out editors <a data-mw=\"interface\"\\n\\thref=\"/wiki/Help:Introduction\"\\n\\t aria-label=\"Learn more about editing\"><span>learn more</span></a>\\n\\n\\t\\t\\t</p>\\n\\t\\t</div>\\n\\t\\t\\t\\t<div class=\"vector-menu-content\">\\n\\t\\n\\t<ul class=\"vector-menu-content-list\"><li id=\"pt-anontalk\" class=\"mw-list-item\"><a href=\"/wiki/Special:MyTalk\" title=\"Discussion about edits from this IP address [n]\" accesskey=\"n\"><span>Talk</span></a></li><li id=\"pt-anoncontribs\" class=\"mw-list-item\"><a href=\"/wiki/Special:MyContributions\" title=\"A list of edits made from this IP address [y]\" accesskey=\"y\"><span>Contributions</span></a></li></ul>\\n\\t\\n</div>\\n\\n\\t\\n\\t\\t</div>\\n\\t</div></nav>\\n\\n\\t\\t\\t</div>\\n\\t\\t</header>\\n\\t\\t<div class=\"vector-main-menu-container \">\\n\\t\\t\\t<div id=\"mw-navigation\">\\n\\t\\t\\t\\t<nav id=\"mw-panel\" class=\"vector-main-menu-landmark\" aria-label=\"Site\" role=\"navigation\">\\n\\t\\t\\t\\t\\t\\t\\n<div id=\"vector-main-menu\" class=\"vector-main-menu vector-pinnable-element\">\\n\\t\\n\\t\\n<div id=\"p-navigation\" class=\"vector-main-menu-group vector-menu mw-portlet mw-portlet-navigation\"  >\\n\\t<div\\n\\t\\tid=\"p-navigation-label\"\\n\\t\\tclass=\"vector-menu-heading \"\\n\\t\\t\\n\\t>\\n\\t\\t<span class=\"vector-menu-heading-label\">Navigation</span>\\n\\t</div>\\n\\t<div class=\"vector-menu-content\">\\n\\t\\t\\n\\t\\t<ul class=\"vector-menu-content-list\"><li id=\"n-mainpage-description\" class=\"mw-list-item\"><a href=\"/wiki/Main_Page\" title=\"Visit the main page [z]\" accesskey=\"z\"><span>Main page</span></a></li><li id=\"n-contents\" class=\"mw-list-item\"><a href=\"/wiki/Wikipedia:Contents\" title=\"Guides to browsing Wikipedia\"><span>Contents</span></a></li><li id=\"n-currentevents\" class=\"mw-list-item\"><a href=\"/wiki/Portal:Current_events\" title=\"Articles related to current events\"><span>Current events</span></a></li><li id=\"n-randompage\" class=\"mw-list-item\"><a href=\"/wiki/Special:Random\" title=\"Visit a randomly selected article [x]\" accesskey=\"x\"><span>Random article</span></a></li><li id=\"n-aboutsite\" class=\"mw-list-item\"><a href=\"/wiki/Wikipedia:About\" title=\"Learn about Wikipedia and how it works\"><span>About Wikipedia</span></a></li><li id=\"n-contactpage\" class=\"mw-list-item\"><a href=\"//en.wikipedia.org/wiki/Wikipedia:Contact_us\" title=\"How to contact Wikipedia\"><span>Contact us</span></a></li><li id=\"n-sitesupport\" class=\"mw-list-item\"><a href=\"https://donate.wikimedia.org/wiki/Special:FundraiserRedirector?utm_source=donate&amp;utm_medium=sidebar&amp;utm_campaign=C13_en.wikipedia.org&amp;uselang=en\" title=\"Support us by donating to the Wikimedia Foundation\"><span>Donate</span></a></li></ul>\\n\\t\\t\\n\\t</div>\\n</div>\\n\\n\\t\\n\\t\\n<div id=\"p-interaction\" class=\"vector-main-menu-group vector-menu mw-portlet mw-portlet-interaction\"  >\\n\\t<div\\n\\t\\tid=\"p-interaction-label\"\\n\\t\\tclass=\"vector-menu-heading \"\\n\\t\\t\\n\\t>\\n\\t\\t<span class=\"vector-menu-heading-label\">Contribute</span>\\n\\t</div>\\n\\t<div class=\"vector-menu-content\">\\n\\t\\t\\n\\t\\t<ul class=\"vector-menu-content-list\"><li id=\"n-help\" class=\"mw-list-item\"><a href=\"/wiki/Help:Contents\" title=\"Guidance on how to use and edit Wikipedia\"><span>Help</span></a></li><li id=\"n-introduction\" class=\"mw-list-item\"><a href=\"/wiki/Help:Introduction\" title=\"Learn how to edit Wikipedia\"><span>Learn to edit</span></a></li><li id=\"n-portal\" class=\"mw-list-item\"><a href=\"/wiki/Wikipedia:Community_portal\" title=\"The hub for editors\"><span>Community portal</span></a></li><li id=\"n-recentchanges\" class=\"mw-list-item\"><a href=\"/wiki/Special:RecentChanges\" title=\"A list of recent changes to Wikipedia [r]\" accesskey=\"r\"><span>Recent changes</span></a></li><li id=\"n-upload\" class=\"mw-list-item\"><a href=\"/wiki/Wikipedia:File_upload_wizard\" title=\"Add images or other media for use on Wikipedia\"><span>Upload file</span></a></li></ul>\\n\\t\\t\\n\\t</div>\\n</div>\\n\\n<div id=\"p-tb\" class=\"vector-main-menu-group vector-menu mw-portlet mw-portlet-tb\"  >\\n\\t<div\\n\\t\\tid=\"p-tb-label\"\\n\\t\\tclass=\"vector-menu-heading \"\\n\\t\\t\\n\\t>\\n\\t\\t<span class=\"vector-menu-heading-label\">Tools</span>\\n\\t</div>\\n\\t<div class=\"vector-menu-content\">\\n\\t\\t\\n\\t\\t<ul class=\"vector-menu-content-list\"><li id=\"t-whatlinkshere\" class=\"mw-list-item\"><a href=\"/wiki/Special:WhatLinksHere/Python\" title=\"List of all English Wikipedia pages containing links to this page [j]\" accesskey=\"j\"><span>What links here</span></a></li><li id=\"t-recentchangeslinked\" class=\"mw-list-item\"><a href=\"/wiki/Special:RecentChangesLinked/Python\" rel=\"nofollow\" title=\"Recent changes in pages linked from this page [k]\" accesskey=\"k\"><span>Related changes</span></a></li><li id=\"t-upload\" class=\"mw-list-item\"><a href=\"/wiki/Wikipedia:File_Upload_Wizard\" title=\"Upload files [u]\" accesskey=\"u\"><span>Upload file</span></a></li><li id=\"t-specialpages\" class=\"mw-list-item\"><a href=\"/wiki/Special:SpecialPages\" title=\"A list of all special pages [q]\" accesskey=\"q\"><span>Special pages</span></a></li><li id=\"t-permalink\" class=\"mw-list-item\"><a href=\"/w/index.php?title=Python&amp;oldid=1134693155\" title=\"Permanent link to this revision of this page\"><span>Permanent link</span></a></li><li id=\"t-info\" class=\"mw-list-item\"><a href=\"/w/index.php?title=Python&amp;action=info\" title=\"More information about this page\"><span>Page information</span></a></li><li id=\"t-cite\" class=\"mw-list-item\"><a href=\"/w/index.php?title=Special:CiteThisPage&amp;page=Python&amp;id=1134693155&amp;wpFormIdentifier=titleform\" title=\"Information on how to cite this page\"><span>Cite this page</span></a></li><li id=\"t-wikibase\" class=\"mw-list-item\"><a href=\"https://www.wikidata.org/wiki/Special:EntityPage/Q747452\" title=\"Structured data on this page hosted by Wikidata [g]\" accesskey=\"g\"><span>Wikidata item</span></a></li></ul>\\n\\t\\t\\n\\t</div>\\n</div>\\n\\n<div id=\"p-coll-print_export\" class=\"vector-main-menu-group vector-menu mw-portlet mw-portlet-coll-print_export\"  >\\n\\t<div\\n\\t\\tid=\"p-coll-print_export-label\"\\n\\t\\tclass=\"vector-menu-heading \"\\n\\t\\t\\n\\t>\\n\\t\\t<span class=\"vector-menu-heading-label\">Print/export</span>\\n\\t</div>\\n\\t<div class=\"vector-menu-content\">\\n\\t\\t\\n\\t\\t<ul class=\"vector-menu-content-list\"><li id=\"coll-download-as-rl\" class=\"mw-list-item\"><a href=\"/w/index.php?title=Special:DownloadAsPdf&amp;page=Python&amp;action=show-download-screen\" title=\"Download this page as a PDF file\"><span>Download as PDF</span></a></li><li id=\"t-print\" class=\"mw-list-item\"><a href=\"/w/index.php?title=Python&amp;printable=yes\" title=\"Printable version of this page [p]\" accesskey=\"p\"><span>Printable version</span></a></li></ul>\\n\\t\\t\\n\\t</div>\\n</div>\\n\\n<div id=\"p-wikibase-otherprojects\" class=\"vector-main-menu-group vector-menu mw-portlet mw-portlet-wikibase-otherprojects\"  >\\n\\t<div\\n\\t\\tid=\"p-wikibase-otherprojects-label\"\\n\\t\\tclass=\"vector-menu-heading \"\\n\\t\\t\\n\\t>\\n\\t\\t<span class=\"vector-menu-heading-label\">In other projects</span>\\n\\t</div>\\n\\t<div class=\"vector-menu-content\">\\n\\t\\t\\n\\t\\t<ul class=\"vector-menu-content-list\"><li class=\"wb-otherproject-link wb-otherproject-commons mw-list-item\"><a href=\"https://commons.wikimedia.org/wiki/Category:Python\" hreflang=\"en\"><span>Wikimedia Commons</span></a></li></ul>\\n\\t\\t\\n\\t</div>\\n</div>\\n\\n\\t\\n<div class=\"vector-main-menu-action vector-main-menu-action-lang-alert\">\\n\\t<div class=\"vector-main-menu-action-item\">\\n\\t\\t<div class=\"vector-main-menu-action-heading vector-menu-heading\">Languages</div>\\n\\t\\t<div class=\"vector-main-menu-action-content vector-menu-content\">\\n\\t\\t\\t<div class=\"mw-message-box-notice vector-language-sidebar-alert mw-message-box\">On this Wikipedia the language links are at the top of the page across from the article title. <a href=\"#p-lang-btn\">Go to top</a>.</div>\\n\\t\\t</div>\\n\\t</div>\\n</div>\\n\\n\\n</div>\\n\\n\\t\\t\\t\\t</nav>\\n\\t\\t\\t</div>\\n\\t\\t</div>\\n\\t\\t<div class=\"vector-sitenotice-container\">\\n\\t\\t\\t<div id=\"siteNotice\"><!-- CentralNotice --></div>\\n\\t\\t</div>\\n\\t\\t<input type=\"checkbox\" id=\"vector-toc-collapsed-checkbox\" class=\"mw-checkbox-hack-checkbox\">\\n\\t\\t<nav id=\"mw-panel-toc\" role=\"navigation\" aria-label=\"Contents\" data-event-name=\"ui.sidebar-toc\" class=\"mw-table-of-contents-container\">\\n\\t\\t\\t<div id=\"vector-toc-pinned-container\" class=\"vector-pinned-container\">\\n\\t\\t<div id=\"vector-toc\" class=\"vector-toc vector-pinnable-element\">\\n\\t<div\\n\\tclass=\"vector-pinnable-header vector-toc-pinnable-header vector-pinnable-header-pinned\"\\n\\tdata-name=\"vector-toc\"\\n\\t\\n\\t\\n\\t\\n\\t\\n>\\n\\t<h2 class=\"vector-pinnable-header-label\">Contents</h2>\\n\\t<button class=\"vector-pinnable-header-toggle-button vector-pinnable-header-pin-button\" data-event-name=\"pinnable-header.vector-toc.pin\">move to sidebar</button>\\n\\t<button class=\"vector-pinnable-header-toggle-button vector-pinnable-header-unpin-button\" data-event-name=\"pinnable-header.vector-toc.unpin\">hide</button>\\n</div>\\n\\n\\n\\t<ul class=\"vector-toc-contents\" id=\"mw-panel-toc-list\">\\n\\t\\t<li id=\"toc-mw-content-text\"\\n\\t\\t\\tclass=\"vector-toc-list-item vector-toc-level-1\">\\n\\t\\t\\t<a href=\"#\" class=\"vector-toc-link\">\\n\\t\\t\\t\\t<div class=\"vector-toc-text\">(Top)</div>\\n\\t\\t\\t</a>\\n\\t\\t</li>\\n\\t\\t<li id=\"toc-Snakes\"\\n\\t\\tclass=\"vector-toc-list-item vector-toc-level-1 vector-toc-list-item-expanded\">\\n\\t\\t<a class=\"vector-toc-link\" href=\"#Snakes\">\\n\\t\\t\\t<div class=\"vector-toc-text\">\\n\\t\\t\\t<span class=\"vector-toc-numb\">1</span>Snakes</div>\\n\\t\\t</a>\\n\\t\\t\\n\\t\\t<ul id=\"toc-Snakes-sublist\" class=\"vector-toc-list\">\\n\\t\\t</ul>\\n\\t</li>\\n\\t<li id=\"toc-Computing\"\\n\\t\\tclass=\"vector-toc-list-item vector-toc-level-1 vector-toc-list-item-expanded\">\\n\\t\\t<a class=\"vector-toc-link\" href=\"#Computing\">\\n\\t\\t\\t<div class=\"vector-toc-text\">\\n\\t\\t\\t<span class=\"vector-toc-numb\">2</span>Computing</div>\\n\\t\\t</a>\\n\\t\\t\\n\\t\\t<ul id=\"toc-Computing-sublist\" class=\"vector-toc-list\">\\n\\t\\t</ul>\\n\\t</li>\\n\\t<li id=\"toc-People\"\\n\\t\\tclass=\"vector-toc-list-item vector-toc-level-1 vector-toc-list-item-expanded\">\\n\\t\\t<a class=\"vector-toc-link\" href=\"#People\">\\n\\t\\t\\t<div class=\"vector-toc-text\">\\n\\t\\t\\t<span class=\"vector-toc-numb\">3</span>People</div>\\n\\t\\t</a>\\n\\t\\t\\n\\t\\t<ul id=\"toc-People-sublist\" class=\"vector-toc-list\">\\n\\t\\t</ul>\\n\\t</li>\\n\\t<li id=\"toc-Roller_coasters\"\\n\\t\\tclass=\"vector-toc-list-item vector-toc-level-1 vector-toc-list-item-expanded\">\\n\\t\\t<a class=\"vector-toc-link\" href=\"#Roller_coasters\">\\n\\t\\t\\t<div class=\"vector-toc-text\">\\n\\t\\t\\t<span class=\"vector-toc-numb\">4</span>Roller coasters</div>\\n\\t\\t</a>\\n\\t\\t\\n\\t\\t<ul id=\"toc-Roller_coasters-sublist\" class=\"vector-toc-list\">\\n\\t\\t</ul>\\n\\t</li>\\n\\t<li id=\"toc-Vehicles\"\\n\\t\\tclass=\"vector-toc-list-item vector-toc-level-1 vector-toc-list-item-expanded\">\\n\\t\\t<a class=\"vector-toc-link\" href=\"#Vehicles\">\\n\\t\\t\\t<div class=\"vector-toc-text\">\\n\\t\\t\\t<span class=\"vector-toc-numb\">5</span>Vehicles</div>\\n\\t\\t</a>\\n\\t\\t\\n\\t\\t<ul id=\"toc-Vehicles-sublist\" class=\"vector-toc-list\">\\n\\t\\t</ul>\\n\\t</li>\\n\\t<li id=\"toc-Weaponry\"\\n\\t\\tclass=\"vector-toc-list-item vector-toc-level-1 vector-toc-list-item-expanded\">\\n\\t\\t<a class=\"vector-toc-link\" href=\"#Weaponry\">\\n\\t\\t\\t<div class=\"vector-toc-text\">\\n\\t\\t\\t<span class=\"vector-toc-numb\">6</span>Weaponry</div>\\n\\t\\t</a>\\n\\t\\t\\n\\t\\t<ul id=\"toc-Weaponry-sublist\" class=\"vector-toc-list\">\\n\\t\\t</ul>\\n\\t</li>\\n\\t<li id=\"toc-Other_uses\"\\n\\t\\tclass=\"vector-toc-list-item vector-toc-level-1 vector-toc-list-item-expanded\">\\n\\t\\t<a class=\"vector-toc-link\" href=\"#Other_uses\">\\n\\t\\t\\t<div class=\"vector-toc-text\">\\n\\t\\t\\t<span class=\"vector-toc-numb\">7</span>Other uses</div>\\n\\t\\t</a>\\n\\t\\t\\n\\t\\t<ul id=\"toc-Other_uses-sublist\" class=\"vector-toc-list\">\\n\\t\\t</ul>\\n\\t</li>\\n\\t<li id=\"toc-See_also\"\\n\\t\\tclass=\"vector-toc-list-item vector-toc-level-1 vector-toc-list-item-expanded\">\\n\\t\\t<a class=\"vector-toc-link\" href=\"#See_also\">\\n\\t\\t\\t<div class=\"vector-toc-text\">\\n\\t\\t\\t<span class=\"vector-toc-numb\">8</span>See also</div>\\n\\t\\t</a>\\n\\t\\t\\n\\t\\t<ul id=\"toc-See_also-sublist\" class=\"vector-toc-list\">\\n\\t\\t</ul>\\n\\t</li>\\n</ul>\\n</div>\\n\\n\\t\\t\\t</div>\\n</nav>\\n\\t\\t\\t\\t<div class=\"mw-content-container\">\\n\\t\\t\\t<main id=\"content\" class=\"mw-body\" role=\"main\">\\n\\t\\t\\t\\t<header class=\"mw-body-header vector-page-titlebar\">\\n\\t\\t\\t\\t\\t<label\\n\\t\\t\\t\\t\\t\\tid=\"vector-toc-collapsed-button\"\\n\\t\\t\\t\\t\\t\\tclass=\"mw-ui-button mw-ui-quiet mw-ui-icon mw-ui-icon-flush-left mw-ui-icon-element mw-ui-icon-wikimedia-listBullet mw-checkbox-hack-button\"\\n\\t\\t\\t\\t\\t\\tfor=\"vector-toc-collapsed-checkbox\"\\n\\t\\t\\t\\t\\t\\trole=\"button\"\\n\\t\\t\\t\\t\\t\\taria-controls=\"toc-toggle-list\"\\n\\t\\t\\t\\t\\t\\tdata-event-name=\"vector.toc-toggle-list\"\\n\\t\\t\\t\\t\\t\\ttabindex=\"0\"\\n\\t\\t\\t\\t\\t\\ttitle=\"Table of Contents\">\\n\\t\\t\\t\\t\\t\\tToggle the table of contents\\n\\t\\t\\t\\t\\t</label>\\n\\t\\t\\t\\t\\n\\t\\t\\t\\t\\t\\n\\t<div id=\"vector-page-titlebar-toc\" class=\"vector-menu vector-dropdown vector-menu-dropdown vector-page-titlebar-toc mw-ui-icon-flush-left\"  >\\n\\t\\t<input type=\"checkbox\"\\n\\t\\t\\tid=\"vector-page-titlebar-toc-checkbox\"\\n\\t\\t\\trole=\"button\"\\n\\t\\t\\taria-haspopup=\"true\"\\n\\t\\t\\tdata-event-name=\"ui.dropdown-vector-page-titlebar-toc\"\\n\\t\\t\\tclass=\"vector-menu-checkbox \"\\n\\t\\t\\t\\n\\t\\t\\t\\n\\t\\t/>\\n\\t\\t<label\\n\\t\\t\\tid=\"vector-page-titlebar-toc-label\"\\n\\t\\t\\tfor=\"vector-page-titlebar-toc-checkbox\"\\n\\t\\t\\tclass=\"vector-menu-heading mw-checkbox-hack-button mw-ui-icon mw-ui-button mw-ui-quiet mw-ui-icon-element mw-ui-icon-wikimedia-listBullet\"\\n\\t\\t\\t\\n\\t\\t>\\n\\t\\t\\t<span class=\"vector-menu-heading-label\"></span>\\n\\t\\t</label>\\n\\t\\t<div class=\"vector-menu-content\">\\n\\t\\n\\t\\t<div id=\"vector-page-titlebar-toc-unpinned-container\" class=\"vector-unpinned-container\">\\n\\t\\t</div>\\n\\t\\n\\t\\t</div>\\n\\t</div>\\n\\t\\t\\t\\t\\t<h1 id=\"firstHeading\" class=\"firstHeading mw-first-heading\"><span class=\"mw-page-title-main\">Python</span></h1>\\n\\t\\t\\t\\t\\n\\t\\t\\t\\t\\t\\t\\t\\n<div id=\"p-lang-btn\" class=\"vector-menu vector-dropdown vector-menu-dropdown mw-portlet mw-portlet-lang mw-ui-icon-flush-right\"  >\\n\\t<input type=\"checkbox\"\\n\\t\\tid=\"p-lang-btn-checkbox\"\\n\\t\\trole=\"button\"\\n\\t\\taria-haspopup=\"true\"\\n\\t\\tdata-event-name=\"ui.dropdown-p-lang-btn\"\\n\\t\\tclass=\"vector-menu-checkbox mw-interlanguage-selector\"\\n\\t\\taria-label=\"Go to an article in another language. Available in 45 languages\"\\n\\t\\t\\n\\t/>\\n\\t<label\\n\\t\\tid=\"p-lang-btn-label\"\\n\\t\\tfor=\"p-lang-btn-checkbox\"\\n\\t\\tclass=\"vector-menu-heading mw-ui-button mw-ui-quiet mw-ui-progressive mw-portlet-lang-heading-45\"\\n\\t\\t\\n\\t>\\n\\t\\t<span class=\"mw-ui-icon mw-ui-icon-wikimedia-language-progressive\"></span><span class=\"vector-menu-heading-label\">45 languages</span>\\n\\t</label>\\n\\t<div class=\"vector-menu-content\">\\n\\n\\t\\t<div class=\"vector-menu-content\">\\n\\t\\t\\t\\n\\t\\t\\t<ul class=\"vector-menu-content-list\"><li class=\"interlanguage-link interwiki-af mw-list-item\"><a href=\"https://af.wikipedia.org/wiki/Python\" title=\"Python \\xe2\\x80\\x93 Afrikaans\" lang=\"af\" hreflang=\"af\" class=\"interlanguage-link-target\"><span>Afrikaans</span></a></li><li class=\"interlanguage-link interwiki-als mw-list-item\"><a href=\"https://als.wikipedia.org/wiki/Python\" title=\"Python \\xe2\\x80\\x93 Alemannisch\" lang=\"gsw\" hreflang=\"gsw\" class=\"interlanguage-link-target\"><span>Alemannisch</span></a></li><li class=\"interlanguage-link interwiki-ar mw-list-item\"><a href=\"https://ar.wikipedia.org/wiki/%D8%A8%D8%A7%D9%8A%D8%AB%D9%88%D9%86_(%D8%AA%D9%88%D8%B6%D9%8A%D8%AD)\" title=\"\\xd8\\xa8\\xd8\\xa7\\xd9\\x8a\\xd8\\xab\\xd9\\x88\\xd9\\x86 (\\xd8\\xaa\\xd9\\x88\\xd8\\xb6\\xd9\\x8a\\xd8\\xad) \\xe2\\x80\\x93 Arabic\" lang=\"ar\" hreflang=\"ar\" class=\"interlanguage-link-target\"><span>\\xd8\\xa7\\xd9\\x84\\xd8\\xb9\\xd8\\xb1\\xd8\\xa8\\xd9\\x8a\\xd8\\xa9</span></a></li><li class=\"interlanguage-link interwiki-az mw-list-item\"><a href=\"https://az.wikipedia.org/wiki/Python_(d%C9%99qiql%C9%99%C5%9Fdirm%C9%99)\" title=\"Python (d\\xc9\\x99qiql\\xc9\\x99\\xc5\\x9fdirm\\xc9\\x99) \\xe2\\x80\\x93 Azerbaijani\" lang=\"az\" hreflang=\"az\" class=\"interlanguage-link-target\"><span>Az\\xc9\\x99rbaycanca</span></a></li><li class=\"interlanguage-link interwiki-bn mw-list-item\"><a href=\"https://bn.wikipedia.org/wiki/%E0%A6%AA%E0%A6%BE%E0%A6%87%E0%A6%A5%E0%A6%A8_(%E0%A6%A6%E0%A7%8D%E0%A6%AC%E0%A7%8D%E0%A6%AF%E0%A6%B0%E0%A7%8D%E0%A6%A5%E0%A6%A4%E0%A6%BE_%E0%A6%A8%E0%A6%BF%E0%A6%B0%E0%A6%B8%E0%A6%A8)\" title=\"\\xe0\\xa6\\xaa\\xe0\\xa6\\xbe\\xe0\\xa6\\x87\\xe0\\xa6\\xa5\\xe0\\xa6\\xa8 (\\xe0\\xa6\\xa6\\xe0\\xa7\\x8d\\xe0\\xa6\\xac\\xe0\\xa7\\x8d\\xe0\\xa6\\xaf\\xe0\\xa6\\xb0\\xe0\\xa7\\x8d\\xe0\\xa6\\xa5\\xe0\\xa6\\xa4\\xe0\\xa6\\xbe \\xe0\\xa6\\xa8\\xe0\\xa6\\xbf\\xe0\\xa6\\xb0\\xe0\\xa6\\xb8\\xe0\\xa6\\xa8) \\xe2\\x80\\x93 Bangla\" lang=\"bn\" hreflang=\"bn\" class=\"interlanguage-link-target\"><span>\\xe0\\xa6\\xac\\xe0\\xa6\\xbe\\xe0\\xa6\\x82\\xe0\\xa6\\xb2\\xe0\\xa6\\xbe</span></a></li><li class=\"interlanguage-link interwiki-be mw-list-item\"><a href=\"https://be.wikipedia.org/wiki/Python\" title=\"Python \\xe2\\x80\\x93 Belarusian\" lang=\"be\" hreflang=\"be\" class=\"interlanguage-link-target\"><span>\\xd0\\x91\\xd0\\xb5\\xd0\\xbb\\xd0\\xb0\\xd1\\x80\\xd1\\x83\\xd1\\x81\\xd0\\xba\\xd0\\xb0\\xd1\\x8f</span></a></li><li class=\"interlanguage-link interwiki-bg mw-list-item\"><a href=\"https://bg.wikipedia.org/wiki/%D0%9F%D0%B8%D1%82%D0%BE%D0%BD_(%D0%BF%D0%BE%D1%8F%D1%81%D0%BD%D0%B5%D0%BD%D0%B8%D0%B5)\" title=\"\\xd0\\x9f\\xd0\\xb8\\xd1\\x82\\xd0\\xbe\\xd0\\xbd (\\xd0\\xbf\\xd0\\xbe\\xd1\\x8f\\xd1\\x81\\xd0\\xbd\\xd0\\xb5\\xd0\\xbd\\xd0\\xb8\\xd0\\xb5) \\xe2\\x80\\x93 Bulgarian\" lang=\"bg\" hreflang=\"bg\" class=\"interlanguage-link-target\"><span>\\xd0\\x91\\xd1\\x8a\\xd0\\xbb\\xd0\\xb3\\xd0\\xb0\\xd1\\x80\\xd1\\x81\\xd0\\xba\\xd0\\xb8</span></a></li><li class=\"interlanguage-link interwiki-cs mw-list-item\"><a href=\"https://cs.wikipedia.org/wiki/Python_(rozcestn%C3%ADk)\" title=\"Python (rozcestn\\xc3\\xadk) \\xe2\\x80\\x93 Czech\" lang=\"cs\" hreflang=\"cs\" class=\"interlanguage-link-target\"><span>\\xc4\\x8ce\\xc5\\xa1tina</span></a></li><li class=\"interlanguage-link interwiki-da mw-list-item\"><a href=\"https://da.wikipedia.org/wiki/Python\" title=\"Python \\xe2\\x80\\x93 Danish\" lang=\"da\" hreflang=\"da\" class=\"interlanguage-link-target\"><span>Dansk</span></a></li><li class=\"interlanguage-link interwiki-de mw-list-item\"><a href=\"https://de.wikipedia.org/wiki/Python\" title=\"Python \\xe2\\x80\\x93 German\" lang=\"de\" hreflang=\"de\" class=\"interlanguage-link-target\"><span>Deutsch</span></a></li><li class=\"interlanguage-link interwiki-eo mw-list-item\"><a href=\"https://eo.wikipedia.org/wiki/Pitono_(apartigilo)\" title=\"Pitono (apartigilo) \\xe2\\x80\\x93 Esperanto\" lang=\"eo\" hreflang=\"eo\" class=\"interlanguage-link-target\"><span>Esperanto</span></a></li><li class=\"interlanguage-link interwiki-eu mw-list-item\"><a href=\"https://eu.wikipedia.org/wiki/Python_(argipena)\" title=\"Python (argipena) \\xe2\\x80\\x93 Basque\" lang=\"eu\" hreflang=\"eu\" class=\"interlanguage-link-target\"><span>Euskara</span></a></li><li class=\"interlanguage-link interwiki-fa mw-list-item\"><a href=\"https://fa.wikipedia.org/wiki/%D9%BE%D8%A7%DB%8C%D8%AA%D9%88%D9%86\" title=\"\\xd9\\xbe\\xd8\\xa7\\xdb\\x8c\\xd8\\xaa\\xd9\\x88\\xd9\\x86 \\xe2\\x80\\x93 Persian\" lang=\"fa\" hreflang=\"fa\" class=\"interlanguage-link-target\"><span>\\xd9\\x81\\xd8\\xa7\\xd8\\xb1\\xd8\\xb3\\xdb\\x8c</span></a></li><li class=\"interlanguage-link interwiki-fr mw-list-item\"><a href=\"https://fr.wikipedia.org/wiki/Python\" title=\"Python \\xe2\\x80\\x93 French\" lang=\"fr\" hreflang=\"fr\" class=\"interlanguage-link-target\"><span>Fran\\xc3\\xa7ais</span></a></li><li class=\"interlanguage-link interwiki-ko mw-list-item\"><a href=\"https://ko.wikipedia.org/wiki/%ED%8C%8C%EC%9D%B4%EC%84%A0\" title=\"\\xed\\x8c\\x8c\\xec\\x9d\\xb4\\xec\\x84\\xa0 \\xe2\\x80\\x93 Korean\" lang=\"ko\" hreflang=\"ko\" class=\"interlanguage-link-target\"><span>\\xed\\x95\\x9c\\xea\\xb5\\xad\\xec\\x96\\xb4</span></a></li><li class=\"interlanguage-link interwiki-hr mw-list-item\"><a href=\"https://hr.wikipedia.org/wiki/Python_(razdvojba)\" title=\"Python (razdvojba) \\xe2\\x80\\x93 Croatian\" lang=\"hr\" hreflang=\"hr\" class=\"interlanguage-link-target\"><span>Hrvatski</span></a></li><li class=\"interlanguage-link interwiki-io mw-list-item\"><a href=\"https://io.wikipedia.org/wiki/Pitono\" title=\"Pitono \\xe2\\x80\\x93 Ido\" lang=\"io\" hreflang=\"io\" class=\"interlanguage-link-target\"><span>Ido</span></a></li><li class=\"interlanguage-link interwiki-id mw-list-item\"><a href=\"https://id.wikipedia.org/wiki/Python\" title=\"Python \\xe2\\x80\\x93 Indonesian\" lang=\"id\" hreflang=\"id\" class=\"interlanguage-link-target\"><span>Bahasa Indonesia</span></a></li><li class=\"interlanguage-link interwiki-ia mw-list-item\"><a href=\"https://ia.wikipedia.org/wiki/Python_(disambiguation)\" title=\"Python (disambiguation) \\xe2\\x80\\x93 Interlingua\" lang=\"ia\" hreflang=\"ia\" class=\"interlanguage-link-target\"><span>Interlingua</span></a></li><li class=\"interlanguage-link interwiki-is mw-list-item\"><a href=\"https://is.wikipedia.org/wiki/Python_(a%C3%B0greining)\" title=\"Python (a\\xc3\\xb0greining) \\xe2\\x80\\x93 Icelandic\" lang=\"is\" hreflang=\"is\" class=\"interlanguage-link-target\"><span>\\xc3\\x8dslenska</span></a></li><li class=\"interlanguage-link interwiki-it mw-list-item\"><a href=\"https://it.wikipedia.org/wiki/Python_(disambigua)\" title=\"Python (disambigua) \\xe2\\x80\\x93 Italian\" lang=\"it\" hreflang=\"it\" class=\"interlanguage-link-target\"><span>Italiano</span></a></li><li class=\"interlanguage-link interwiki-he mw-list-item\"><a href=\"https://he.wikipedia.org/wiki/%D7%A4%D7%99%D7%AA%D7%95%D7%9F\" title=\"\\xd7\\xa4\\xd7\\x99\\xd7\\xaa\\xd7\\x95\\xd7\\x9f \\xe2\\x80\\x93 Hebrew\" lang=\"he\" hreflang=\"he\" class=\"interlanguage-link-target\"><span>\\xd7\\xa2\\xd7\\x91\\xd7\\xa8\\xd7\\x99\\xd7\\xaa</span></a></li><li class=\"interlanguage-link interwiki-ka mw-list-item\"><a href=\"https://ka.wikipedia.org/wiki/%E1%83%9E%E1%83%98%E1%83%97%E1%83%9D%E1%83%9C%E1%83%98_(%E1%83%9B%E1%83%A0%E1%83%90%E1%83%95%E1%83%90%E1%83%9A%E1%83%9B%E1%83%9C%E1%83%98%E1%83%A8%E1%83%95%E1%83%9C%E1%83%94%E1%83%9A%E1%83%9D%E1%83%95%E1%83%90%E1%83%9C%E1%83%98)\" title=\"\\xe1\\x83\\x9e\\xe1\\x83\\x98\\xe1\\x83\\x97\\xe1\\x83\\x9d\\xe1\\x83\\x9c\\xe1\\x83\\x98 (\\xe1\\x83\\x9b\\xe1\\x83\\xa0\\xe1\\x83\\x90\\xe1\\x83\\x95\\xe1\\x83\\x90\\xe1\\x83\\x9a\\xe1\\x83\\x9b\\xe1\\x83\\x9c\\xe1\\x83\\x98\\xe1\\x83\\xa8\\xe1\\x83\\x95\\xe1\\x83\\x9c\\xe1\\x83\\x94\\xe1\\x83\\x9a\\xe1\\x83\\x9d\\xe1\\x83\\x95\\xe1\\x83\\x90\\xe1\\x83\\x9c\\xe1\\x83\\x98) \\xe2\\x80\\x93 Georgian\" lang=\"ka\" hreflang=\"ka\" class=\"interlanguage-link-target\"><span>\\xe1\\x83\\xa5\\xe1\\x83\\x90\\xe1\\x83\\xa0\\xe1\\x83\\x97\\xe1\\x83\\xa3\\xe1\\x83\\x9a\\xe1\\x83\\x98</span></a></li><li class=\"interlanguage-link interwiki-kg mw-list-item\"><a href=\"https://kg.wikipedia.org/wiki/Mboma_(nyoka)\" title=\"Mboma (nyoka) \\xe2\\x80\\x93 Kongo\" lang=\"kg\" hreflang=\"kg\" class=\"interlanguage-link-target\"><span>Kongo</span></a></li><li class=\"interlanguage-link interwiki-la mw-list-item\"><a href=\"https://la.wikipedia.org/wiki/Python_(discretiva)\" title=\"Python (discretiva) \\xe2\\x80\\x93 Latin\" lang=\"la\" hreflang=\"la\" class=\"interlanguage-link-target\"><span>Latina</span></a></li><li class=\"interlanguage-link interwiki-lb mw-list-item\"><a href=\"https://lb.wikipedia.org/wiki/Python\" title=\"Python \\xe2\\x80\\x93 Luxembourgish\" lang=\"lb\" hreflang=\"lb\" class=\"interlanguage-link-target\"><span>L\\xc3\\xabtzebuergesch</span></a></li><li class=\"interlanguage-link interwiki-hu mw-list-item\"><a href=\"https://hu.wikipedia.org/wiki/Python_(egy%C3%A9rtelm%C5%B1s%C3%ADt%C5%91_lap)\" title=\"Python (egy\\xc3\\xa9rtelm\\xc5\\xb1s\\xc3\\xadt\\xc5\\x91 lap) \\xe2\\x80\\x93 Hungarian\" lang=\"hu\" hreflang=\"hu\" class=\"interlanguage-link-target\"><span>Magyar</span></a></li><li class=\"interlanguage-link interwiki-mr mw-list-item\"><a href=\"https://mr.wikipedia.org/wiki/%E0%A4%AA%E0%A4%BE%E0%A4%AF%E0%A4%A5%E0%A5%89%E0%A4%A8_(%E0%A4%86%E0%A4%9C%E0%A5%8D%E0%A4%9E%E0%A4%BE%E0%A4%B5%E0%A4%B2%E0%A5%80_%E0%A4%AD%E0%A4%BE%E0%A4%B7%E0%A4%BE)\" title=\"\\xe0\\xa4\\xaa\\xe0\\xa4\\xbe\\xe0\\xa4\\xaf\\xe0\\xa4\\xa5\\xe0\\xa5\\x89\\xe0\\xa4\\xa8 (\\xe0\\xa4\\x86\\xe0\\xa4\\x9c\\xe0\\xa5\\x8d\\xe0\\xa4\\x9e\\xe0\\xa4\\xbe\\xe0\\xa4\\xb5\\xe0\\xa4\\xb2\\xe0\\xa5\\x80 \\xe0\\xa4\\xad\\xe0\\xa4\\xbe\\xe0\\xa4\\xb7\\xe0\\xa4\\xbe) \\xe2\\x80\\x93 Marathi\" lang=\"mr\" hreflang=\"mr\" class=\"interlanguage-link-target\"><span>\\xe0\\xa4\\xae\\xe0\\xa4\\xb0\\xe0\\xa4\\xbe\\xe0\\xa4\\xa0\\xe0\\xa5\\x80</span></a></li><li class=\"interlanguage-link interwiki-nl mw-list-item\"><a href=\"https://nl.wikipedia.org/wiki/Python\" title=\"Python \\xe2\\x80\\x93 Dutch\" lang=\"nl\" hreflang=\"nl\" class=\"interlanguage-link-target\"><span>Nederlands</span></a></li><li class=\"interlanguage-link interwiki-ja mw-list-item\"><a href=\"https://ja.wikipedia.org/wiki/%E3%83%91%E3%82%A4%E3%82%BD%E3%83%B3\" title=\"\\xe3\\x83\\x91\\xe3\\x82\\xa4\\xe3\\x82\\xbd\\xe3\\x83\\xb3 \\xe2\\x80\\x93 Japanese\" lang=\"ja\" hreflang=\"ja\" class=\"interlanguage-link-target\"><span>\\xe6\\x97\\xa5\\xe6\\x9c\\xac\\xe8\\xaa\\x9e</span></a></li><li class=\"interlanguage-link interwiki-no mw-list-item\"><a href=\"https://no.wikipedia.org/wiki/Pyton\" title=\"Pyton \\xe2\\x80\\x93 Norwegian Bokm\\xc3\\xa5l\" lang=\"nb\" hreflang=\"nb\" class=\"interlanguage-link-target\"><span>Norsk bokm\\xc3\\xa5l</span></a></li><li class=\"interlanguage-link interwiki-pl mw-list-item\"><a href=\"https://pl.wikipedia.org/wiki/Pyton\" title=\"Pyton \\xe2\\x80\\x93 Polish\" lang=\"pl\" hreflang=\"pl\" class=\"interlanguage-link-target\"><span>Polski</span></a></li><li class=\"interlanguage-link interwiki-pt mw-list-item\"><a href=\"https://pt.wikipedia.org/wiki/Python_(desambigua%C3%A7%C3%A3o)\" title=\"Python (desambigua\\xc3\\xa7\\xc3\\xa3o) \\xe2\\x80\\x93 Portuguese\" lang=\"pt\" hreflang=\"pt\" class=\"interlanguage-link-target\"><span>Portugu\\xc3\\xaas</span></a></li><li class=\"interlanguage-link interwiki-ru mw-list-item\"><a href=\"https://ru.wikipedia.org/wiki/Python_(%D0%B7%D0%BD%D0%B0%D1%87%D0%B5%D0%BD%D0%B8%D1%8F)\" title=\"Python (\\xd0\\xb7\\xd0\\xbd\\xd0\\xb0\\xd1\\x87\\xd0\\xb5\\xd0\\xbd\\xd0\\xb8\\xd1\\x8f) \\xe2\\x80\\x93 Russian\" lang=\"ru\" hreflang=\"ru\" class=\"interlanguage-link-target\"><span>\\xd0\\xa0\\xd1\\x83\\xd1\\x81\\xd1\\x81\\xd0\\xba\\xd0\\xb8\\xd0\\xb9</span></a></li><li class=\"interlanguage-link interwiki-sk mw-list-item\"><a href=\"https://sk.wikipedia.org/wiki/Python\" title=\"Python \\xe2\\x80\\x93 Slovak\" lang=\"sk\" hreflang=\"sk\" class=\"interlanguage-link-target\"><span>Sloven\\xc4\\x8dina</span></a></li><li class=\"interlanguage-link interwiki-sr mw-list-item\"><a href=\"https://sr.wikipedia.org/wiki/%D0%9F%D0%B8%D1%82%D0%BE%D0%BD_(%D0%B2%D0%B8%D1%88%D0%B5%D0%B7%D0%BD%D0%B0%D1%87%D0%BD%D0%B0_%D0%BE%D0%B4%D1%80%D0%B5%D0%B4%D0%BD%D0%B8%D1%86%D0%B0)\" title=\"\\xd0\\x9f\\xd0\\xb8\\xd1\\x82\\xd0\\xbe\\xd0\\xbd (\\xd0\\xb2\\xd0\\xb8\\xd1\\x88\\xd0\\xb5\\xd0\\xb7\\xd0\\xbd\\xd0\\xb0\\xd1\\x87\\xd0\\xbd\\xd0\\xb0 \\xd0\\xbe\\xd0\\xb4\\xd1\\x80\\xd0\\xb5\\xd0\\xb4\\xd0\\xbd\\xd0\\xb8\\xd1\\x86\\xd0\\xb0) \\xe2\\x80\\x93 Serbian\" lang=\"sr\" hreflang=\"sr\" class=\"interlanguage-link-target\"><span>\\xd0\\xa1\\xd1\\x80\\xd0\\xbf\\xd1\\x81\\xd0\\xba\\xd0\\xb8 / srpski</span></a></li><li class=\"interlanguage-link interwiki-sh mw-list-item\"><a href=\"https://sh.wikipedia.org/wiki/Python\" title=\"Python \\xe2\\x80\\x93 Serbo-Croatian\" lang=\"sh\" hreflang=\"sh\" class=\"interlanguage-link-target\"><span>Srpskohrvatski / \\xd1\\x81\\xd1\\x80\\xd0\\xbf\\xd1\\x81\\xd0\\xba\\xd0\\xbe\\xd1\\x85\\xd1\\x80\\xd0\\xb2\\xd0\\xb0\\xd1\\x82\\xd1\\x81\\xd0\\xba\\xd0\\xb8</span></a></li><li class=\"interlanguage-link interwiki-fi mw-list-item\"><a href=\"https://fi.wikipedia.org/wiki/Python\" title=\"Python \\xe2\\x80\\x93 Finnish\" lang=\"fi\" hreflang=\"fi\" class=\"interlanguage-link-target\"><span>Suomi</span></a></li><li class=\"interlanguage-link interwiki-sv mw-list-item\"><a href=\"https://sv.wikipedia.org/wiki/Pyton\" title=\"Pyton \\xe2\\x80\\x93 Swedish\" lang=\"sv\" hreflang=\"sv\" class=\"interlanguage-link-target\"><span>Svenska</span></a></li><li class=\"interlanguage-link interwiki-th mw-list-item\"><a href=\"https://th.wikipedia.org/wiki/%E0%B9%84%E0%B8%9E%E0%B8%97%E0%B8%AD%E0%B8%99\" title=\"\\xe0\\xb9\\x84\\xe0\\xb8\\x9e\\xe0\\xb8\\x97\\xe0\\xb8\\xad\\xe0\\xb8\\x99 \\xe2\\x80\\x93 Thai\" lang=\"th\" hreflang=\"th\" class=\"interlanguage-link-target\"><span>\\xe0\\xb9\\x84\\xe0\\xb8\\x97\\xe0\\xb8\\xa2</span></a></li><li class=\"interlanguage-link interwiki-tr mw-list-item\"><a href=\"https://tr.wikipedia.org/wiki/Python_(anlam_ayr%C4%B1m%C4%B1)\" title=\"Python (anlam ayr\\xc4\\xb1m\\xc4\\xb1) \\xe2\\x80\\x93 Turkish\" lang=\"tr\" hreflang=\"tr\" class=\"interlanguage-link-target\"><span>T\\xc3\\xbcrk\\xc3\\xa7e</span></a></li><li class=\"interlanguage-link interwiki-uk mw-list-item\"><a href=\"https://uk.wikipedia.org/wiki/%D0%9F%D1%96%D1%84%D0%BE%D0%BD\" title=\"\\xd0\\x9f\\xd1\\x96\\xd1\\x84\\xd0\\xbe\\xd0\\xbd \\xe2\\x80\\x93 Ukrainian\" lang=\"uk\" hreflang=\"uk\" class=\"interlanguage-link-target\"><span>\\xd0\\xa3\\xd0\\xba\\xd1\\x80\\xd0\\xb0\\xd1\\x97\\xd0\\xbd\\xd1\\x81\\xd1\\x8c\\xd0\\xba\\xd0\\xb0</span></a></li><li class=\"interlanguage-link interwiki-ur mw-list-item\"><a href=\"https://ur.wikipedia.org/wiki/%D9%BE%D8%A7%D8%A6%DB%8C%D8%AA%DA%BE%D9%88%D9%86\" title=\"\\xd9\\xbe\\xd8\\xa7\\xd8\\xa6\\xdb\\x8c\\xd8\\xaa\\xda\\xbe\\xd9\\x88\\xd9\\x86 \\xe2\\x80\\x93 Urdu\" lang=\"ur\" hreflang=\"ur\" class=\"interlanguage-link-target\"><span>\\xd8\\xa7\\xd8\\xb1\\xd8\\xaf\\xd9\\x88</span></a></li><li class=\"interlanguage-link interwiki-vi mw-list-item\"><a href=\"https://vi.wikipedia.org/wiki/Python\" title=\"Python \\xe2\\x80\\x93 Vietnamese\" lang=\"vi\" hreflang=\"vi\" class=\"interlanguage-link-target\"><span>Ti\\xe1\\xba\\xbfng Vi\\xe1\\xbb\\x87t</span></a></li><li class=\"interlanguage-link interwiki-zh mw-list-item\"><a href=\"https://zh.wikipedia.org/wiki/Python_(%E6%B6%88%E6%AD%A7%E4%B9%89)\" title=\"Python (\\xe6\\xb6\\x88\\xe6\\xad\\xa7\\xe4\\xb9\\x89) \\xe2\\x80\\x93 Chinese\" lang=\"zh\" hreflang=\"zh\" class=\"interlanguage-link-target\"><span>\\xe4\\xb8\\xad\\xe6\\x96\\x87</span></a></li></ul>\\n\\t\\t\\t<div class=\"after-portlet after-portlet-lang\"><span class=\"wb-langlinks-edit wb-langlinks-link\"><a href=\"https://www.wikidata.org/wiki/Special:EntityPage/Q747452#sitelinks-wikipedia\" title=\"Edit interlanguage links\" class=\"wbc-editpage\">Edit links</a></span></div>\\n\\t\\t</div>\\n\\n\\t</div>\\n</div>\\n\\t\\t\\t\\t</header>\\n\\t\\t\\t\\t<div class=\"vector-page-toolbar\">\\n\\t\\t\\t\\t\\t<div class=\"vector-page-toolbar-container\">\\n\\t\\t\\t\\t\\t\\t<div id=\"left-navigation\">\\n\\t\\t\\t\\t\\t\\t\\t<nav aria-label=\"Namespaces\">\\n\\t\\t\\t\\t\\t\\t\\t\\t\\n<div id=\"p-associated-pages\" class=\"vector-menu vector-menu-tabs mw-portlet mw-portlet-associated-pages\"  >\\n\\t<div class=\"vector-menu-content\">\\n\\t\\t\\n\\t\\t<ul class=\"vector-menu-content-list\"><li id=\"ca-nstab-main\" class=\"selected vector-tab-noicon mw-list-item\"><a href=\"/wiki/Python\" title=\"View the content page [c]\" accesskey=\"c\"><span>Article</span></a></li><li id=\"ca-talk\" class=\"vector-tab-noicon mw-list-item\"><a href=\"/wiki/Talk:Python\" rel=\"discussion\" title=\"Discuss improvements to the content page [t]\" accesskey=\"t\"><span>Talk</span></a></li></ul>\\n\\t\\t\\n\\t</div>\\n</div>\\n\\n\\t\\t\\t\\t\\t\\t\\t\\t\\n\\n<div id=\"p-variants\" class=\"vector-menu vector-dropdown vector-menu-dropdown mw-portlet mw-portlet-variants emptyPortlet\"  >\\n\\t<input type=\"checkbox\"\\n\\t\\tid=\"p-variants-checkbox\"\\n\\t\\trole=\"button\"\\n\\t\\taria-haspopup=\"true\"\\n\\t\\tdata-event-name=\"ui.dropdown-p-variants\"\\n\\t\\tclass=\"vector-menu-checkbox\"\\n\\t\\taria-label=\"Change language variant\"\\n\\t\\t\\n\\t/>\\n\\t<label\\n\\t\\tid=\"p-variants-label\"\\n\\t\\tfor=\"p-variants-checkbox\"\\n\\t\\tclass=\"vector-menu-heading \"\\n\\t\\t\\n\\t>\\n\\t\\t<span class=\"vector-menu-heading-label\">English</span>\\n\\t</label>\\n\\t<div class=\"vector-menu-content\">\\n\\n\\t<div class=\"vector-menu-content\">\\n\\t\\t\\n\\t\\t<ul class=\"vector-menu-content-list\"></ul>\\n\\t\\t\\n\\t</div>\\n\\n\\t</div>\\n</div>\\n\\t\\t\\t\\t\\t\\t\\t</nav>\\n\\t\\t\\t\\t\\t\\t</div>\\n\\t\\t\\t\\t\\t\\t<div id=\"right-navigation\" class=\"vector-collapsible\">\\n\\t\\t\\t\\t\\t\\t\\t<nav aria-label=\"Views\">\\n\\t\\t\\t\\t\\t\\t\\t\\t\\n<div id=\"p-views\" class=\"vector-menu vector-menu-tabs mw-portlet mw-portlet-views\"  >\\n\\t<div class=\"vector-menu-content\">\\n\\t\\t\\n\\t\\t<ul class=\"vector-menu-content-list\"><li id=\"ca-view\" class=\"selected vector-tab-noicon mw-list-item\"><a href=\"/wiki/Python\"><span>Read</span></a></li><li id=\"ca-edit\" class=\"vector-tab-noicon mw-list-item\"><a href=\"/w/index.php?title=Python&amp;action=edit\" title=\"Edit this page [e]\" accesskey=\"e\"><span>Edit</span></a></li><li id=\"ca-history\" class=\"vector-tab-noicon mw-list-item\"><a href=\"/w/index.php?title=Python&amp;action=history\" title=\"Past revisions of this page [h]\" accesskey=\"h\"><span>View history</span></a></li></ul>\\n\\t\\t\\n\\t</div>\\n</div>\\n\\n\\t\\t\\t\\t\\t\\t\\t</nav>\\n\\t\\t\\t\\t\\n\\t\\t\\t\\t\\t\\t\\t<nav class=\"vector-page-tools-landmark\" aria-label=\"More options\">\\n\\t\\t\\t\\t\\t\\t\\t\\t\\n\\n<div id=\"p-cactions\" class=\"vector-menu vector-dropdown vector-menu-dropdown mw-portlet mw-portlet-cactions emptyPortlet vector-has-collapsible-items\"  title=\"More options\" >\\n\\t<input type=\"checkbox\"\\n\\t\\tid=\"p-cactions-checkbox\"\\n\\t\\trole=\"button\"\\n\\t\\taria-haspopup=\"true\"\\n\\t\\tdata-event-name=\"ui.dropdown-p-cactions\"\\n\\t\\tclass=\"vector-menu-checkbox\"\\n\\t\\t\\n\\t\\t\\n\\t/>\\n\\t<label\\n\\t\\tid=\"p-cactions-label\"\\n\\t\\tfor=\"p-cactions-checkbox\"\\n\\t\\tclass=\"vector-menu-heading\"\\n\\t\\t\\n\\t>\\n\\t\\t<span class=\"vector-menu-heading-label\">More</span>\\n\\t</label>\\n\\t<div class=\"vector-menu-content\">\\n\\n\\t<div class=\"vector-menu-content\">\\n\\t\\t\\n\\t\\t<ul class=\"vector-menu-content-list\"><li id=\"ca-more-view\" class=\"selected vector-more-collapsible-item mw-list-item\"><a href=\"/wiki/Python\"><span>Read</span></a></li><li id=\"ca-more-edit\" class=\"vector-more-collapsible-item mw-list-item\"><a href=\"/w/index.php?title=Python&amp;action=edit\"><span>Edit</span></a></li><li id=\"ca-more-history\" class=\"vector-more-collapsible-item mw-list-item\"><a href=\"/w/index.php?title=Python&amp;action=history\"><span>View history</span></a></li></ul>\\n\\t\\t\\n\\t</div>\\n\\n\\t</div>\\n</div>\\n\\t\\t\\t\\t\\t\\t\\t</nav>\\n\\t\\t\\t\\t\\t\\t</div>\\n\\t\\t\\t\\t\\t</div>\\n\\t\\t\\t\\t</div>\\n\\t\\t\\t\\t\\n\\t\\t\\t\\t<div id=\"bodyContent\" class=\"vector-body\" aria-labelledby=\"firstHeading\" data-mw-ve-target-container>\\n\\t\\t\\t\\t\\t<div class=\"vector-body-before-content\">\\n\\t\\t\\t\\t\\t\\t\\t<div class=\"mw-indicators\">\\n\\t\\t</div>\\n\\n\\t\\t\\t\\t\\t\\t<div id=\"siteSub\" class=\"noprint\">From Wikipedia, the free encyclopedia</div>\\n\\t\\t\\t\\t\\t</div>\\n\\t\\t\\t\\t\\t<div id=\"contentSub\"><div id=\"mw-content-subtitle\"></div></div>\\n\\t\\t\\t\\t\\t\\n\\t\\t\\t\\t\\t\\n\\t\\t\\t\\t\\t<div id=\"mw-content-text\" class=\"mw-body-content mw-content-ltr\" lang=\"en\" dir=\"ltr\"><div class=\"mw-parser-output\"><style data-mw-deduplicate=\"TemplateStyles:r1134653256\">.mw-parser-output .side-box{margin:4px 0;box-sizing:border-box;border:1px solid #aaa;font-size:88%;line-height:1.25em;background-color:#f9f9f9;display:flow-root}.mw-parser-output .side-box-abovebelow,.mw-parser-output .side-box-text{padding:0.25em 0.9em}.mw-parser-output .side-box-image{padding:2px 0 2px 0.9em;text-align:center}.mw-parser-output .side-box-imageright{padding:2px 0.9em 2px 0;text-align:center}@media(min-width:500px){.mw-parser-output .side-box-flex{display:flex;align-items:center}.mw-parser-output .side-box-text{flex:1}}@media(min-width:720px){.mw-parser-output .side-box{width:238px}.mw-parser-output .side-box-right{clear:right;float:right;margin-left:1em}.mw-parser-output .side-box-left{margin-right:1em}}</style><div class=\"side-box side-box-right plainlinks sistersitebox\"><style data-mw-deduplicate=\"TemplateStyles:r1126788409\">.mw-parser-output .plainlist ol,.mw-parser-output .plainlist ul{line-height:inherit;list-style:none;margin:0;padding:0}.mw-parser-output .plainlist ol li,.mw-parser-output .plainlist ul li{margin-bottom:0}</style>\\n<div class=\"side-box-flex\">\\n<div class=\"side-box-image\"><img alt=\"\" src=\"//upload.wikimedia.org/wikipedia/commons/thumb/9/99/Wiktionary-logo-en-v2.svg/40px-Wiktionary-logo-en-v2.svg.png\" decoding=\"async\" width=\"40\" height=\"40\" class=\"noviewer\" srcset=\"//upload.wikimedia.org/wikipedia/commons/thumb/9/99/Wiktionary-logo-en-v2.svg/60px-Wiktionary-logo-en-v2.svg.png 1.5x, //upload.wikimedia.org/wikipedia/commons/thumb/9/99/Wiktionary-logo-en-v2.svg/80px-Wiktionary-logo-en-v2.svg.png 2x\" data-file-width=\"512\" data-file-height=\"512\" /></div>\\n<div class=\"side-box-text plainlist\">Look up <i><b><a href=\"https://en.wiktionary.org/wiki/Python\" class=\"extiw\" title=\"wiktionary:Python\">Python</a></b></i>&#160;or <i><b><a href=\"https://en.wiktionary.org/wiki/python\" class=\"extiw\" title=\"wiktionary:python\">python</a></b></i> in Wiktionary, the free dictionary.</div></div>\\n</div>\\n<p><b>Python</b> may refer to:\\n</p>\\n<style data-mw-deduplicate=\"TemplateStyles:r1044870489\">@media all and (max-width:720px){body.skin-minerva .mw-parser-output .tocright{display:none}.mw-parser-output .tocright{width:100%!important}}@media all and (min-width:720px){.mw-parser-output .tocright{float:right;clear:right;width:auto;margin:0 0 0.5em 1em}.mw-parser-output .tocright-clear-left{clear:left}.mw-parser-output .tocright-clear-both{clear:both}.mw-parser-output .tocright-clear-none{clear:none}}</style><div class=\"tocright\"><meta property=\"mw:PageProp/toc\" /></div>\\n<h2><span class=\"mw-headline\" id=\"Snakes\">Snakes</span><span class=\"mw-editsection\"><span class=\"mw-editsection-bracket\">[</span><a href=\"/w/index.php?title=Python&amp;action=edit&amp;section=1\" title=\"Edit section: Snakes\">edit</a><span class=\"mw-editsection-bracket\">]</span></span></h2>\\n<ul><li><a href=\"/wiki/Pythonidae\" title=\"Pythonidae\">Pythonidae</a>, a family of nonvenomous snakes found in Africa, Asia, and Australia\\n<ul><li><a href=\"/wiki/Python_(genus)\" title=\"Python (genus)\"><i>Python</i> (genus)</a>, a genus of Pythonidae found in Africa and Asia</li></ul></li>\\n<li><a href=\"/wiki/Python_(mythology)\" title=\"Python (mythology)\">Python (mythology)</a>, a mythical serpent</li></ul>\\n<h2><span class=\"mw-headline\" id=\"Computing\">Computing</span><span class=\"mw-editsection\"><span class=\"mw-editsection-bracket\">[</span><a href=\"/w/index.php?title=Python&amp;action=edit&amp;section=2\" title=\"Edit section: Computing\">edit</a><span class=\"mw-editsection-bracket\">]</span></span></h2>\\n<ul><li><a href=\"/wiki/Python_(programming_language)\" title=\"Python (programming language)\">Python (programming language)</a>, a widely used programming language</li>\\n<li>Python, a native code compiler for <a href=\"/wiki/CMU_Common_Lisp\" title=\"CMU Common Lisp\">CMU Common Lisp</a></li>\\n<li>Python, the internal project name for the <a href=\"/wiki/PERQ#PERQ_3\" title=\"PERQ\">PERQ 3</a> computer workstation</li></ul>\\n<h2><span class=\"mw-headline\" id=\"People\">People</span><span class=\"mw-editsection\"><span class=\"mw-editsection-bracket\">[</span><a href=\"/w/index.php?title=Python&amp;action=edit&amp;section=3\" title=\"Edit section: People\">edit</a><span class=\"mw-editsection-bracket\">]</span></span></h2>\\n<ul><li><a href=\"/wiki/Python_of_Aenus\" title=\"Python of Aenus\">Python of Aenus</a> (4th-century BCE), student of Plato</li>\\n<li><a href=\"/wiki/Python_(painter)\" title=\"Python (painter)\">Python (painter)</a>, (ca. 360\\xe2\\x80\\x93320 BCE) vase painter in Poseidonia</li>\\n<li><a href=\"/wiki/Python_of_Byzantium\" title=\"Python of Byzantium\">Python of Byzantium</a>, orator, diplomat of Philip II of Macedon</li>\\n<li><a href=\"/wiki/Python_of_Catana\" title=\"Python of Catana\">Python of Catana</a>, poet who accompanied Alexander the Great</li>\\n<li><a href=\"/wiki/Python_Anghelo\" title=\"Python Anghelo\">Python Anghelo</a> (1954\\xe2\\x80\\x932014) Romanian graphic artist</li></ul>\\n<h2><span class=\"mw-headline\" id=\"Roller_coasters\">Roller coasters</span><span class=\"mw-editsection\"><span class=\"mw-editsection-bracket\">[</span><a href=\"/w/index.php?title=Python&amp;action=edit&amp;section=4\" title=\"Edit section: Roller coasters\">edit</a><span class=\"mw-editsection-bracket\">]</span></span></h2>\\n<ul><li><a href=\"/wiki/Python_(Efteling)\" title=\"Python (Efteling)\">Python (Efteling)</a>, a roller coaster in the Netherlands</li>\\n<li><a href=\"/wiki/Python_(Busch_Gardens_Tampa_Bay)\" title=\"Python (Busch Gardens Tampa Bay)\">Python (Busch Gardens Tampa Bay)</a>, a defunct roller coaster</li>\\n<li><a href=\"/wiki/Python_(Coney_Island,_Cincinnati,_Ohio)\" title=\"Python (Coney Island, Cincinnati, Ohio)\">Python (Coney Island, Cincinnati, Ohio)</a>, a steel roller coaster</li></ul>\\n<h2><span class=\"mw-headline\" id=\"Vehicles\">Vehicles</span><span class=\"mw-editsection\"><span class=\"mw-editsection-bracket\">[</span><a href=\"/w/index.php?title=Python&amp;action=edit&amp;section=5\" title=\"Edit section: Vehicles\">edit</a><span class=\"mw-editsection-bracket\">]</span></span></h2>\\n<ul><li><a href=\"/wiki/Python_(automobile_maker)\" title=\"Python (automobile maker)\">Python (automobile maker)</a>, an Australian car company</li>\\n<li><a href=\"/wiki/Python_(Ford_prototype)\" title=\"Python (Ford prototype)\">Python (Ford prototype)</a>, a Ford prototype sports car</li></ul>\\n<h2><span class=\"mw-headline\" id=\"Weaponry\">Weaponry</span><span class=\"mw-editsection\"><span class=\"mw-editsection-bracket\">[</span><a href=\"/w/index.php?title=Python&amp;action=edit&amp;section=6\" title=\"Edit section: Weaponry\">edit</a><span class=\"mw-editsection-bracket\">]</span></span></h2>\\n<ul><li><a href=\"/wiki/Python_(missile)\" title=\"Python (missile)\">Python (missile)</a>, a series of Israeli air-to-air missiles</li>\\n<li><a href=\"/wiki/Python_(nuclear_primary)\" title=\"Python (nuclear primary)\">Python (nuclear primary)</a>, a gas-boosted fission primary used in thermonuclear weapons</li>\\n<li><a href=\"/wiki/Colt_Python\" title=\"Colt Python\">Colt Python</a>, a revolver</li></ul>\\n<h2><span class=\"mw-headline\" id=\"Other_uses\">Other uses</span><span class=\"mw-editsection\"><span class=\"mw-editsection-bracket\">[</span><a href=\"/w/index.php?title=Python&amp;action=edit&amp;section=7\" title=\"Edit section: Other uses\">edit</a><span class=\"mw-editsection-bracket\">]</span></span></h2>\\n<ul><li><a href=\"/wiki/Python_(codename)\" title=\"Python (codename)\">Python (codename)</a>, a British nuclear war contingency plan</li>\\n<li><a href=\"/wiki/Python_(film)\" title=\"Python (film)\"><i>Python</i> (film)</a>, a 2000 horror film by Richard Clabaugh</li>\\n<li><a href=\"/wiki/Monty_Python\" title=\"Monty Python\">Monty Python</a> or the Pythons, a British comedy group\\n<ul><li><a href=\"/wiki/Python_(Monty)_Pictures\" title=\"Python (Monty) Pictures\">Python (Monty) Pictures</a>, a company owned by the troupe\\'s surviving members</li></ul></li>\\n<li><i>Python</i>, a work written by philosopher <a href=\"/wiki/Timon_of_Phlius\" title=\"Timon of Phlius\">Timon of Phlius</a></li></ul>\\n<h2><span class=\"mw-headline\" id=\"See_also\">See also</span><span class=\"mw-editsection\"><span class=\"mw-editsection-bracket\">[</span><a href=\"/w/index.php?title=Python&amp;action=edit&amp;section=8\" title=\"Edit section: See also\">edit</a><span class=\"mw-editsection-bracket\">]</span></span></h2>\\n<ul><li><a href=\"/wiki/Cython\" title=\"Cython\">Cython</a>, a programming language superset of Python</li>\\n<li><i><a href=\"/wiki/Pyton\" title=\"Pyton\">Pyton</a></i>, a Norwegian magazine</li>\\n<li><a href=\"/wiki/Pithon\" title=\"Pithon\">Pithon</a>, a commune in northern France</li></ul>\\n<div class=\"shortdescription nomobile noexcerpt noprint searchaux\" style=\"display:none\">Topics referred to by the same term</div>\\n<style data-mw-deduplicate=\"TemplateStyles:r1097304697\">.mw-parser-output .dmbox{display:flex;align-items:center;clear:both;margin:0.9em 1em;border-top:1px solid #ccc;border-bottom:1px solid #ccc;padding:0.25em 0.35em;font-style:italic}.mw-parser-output .dmbox>*{flex-shrink:0;margin:0 0.25em}.mw-parser-output .dmbox-body{flex-grow:1;flex-shrink:1;padding:0.1em 0}.mw-parser-output .dmbox-invalid-type{text-align:center}</style>\\n<div role=\"note\" id=\"disambigbox\" class=\"metadata plainlinks dmbox dmbox-disambig\"><a href=\"/wiki/File:Disambig_gray.svg\" class=\"image\"><img alt=\"Disambiguation icon\" src=\"//upload.wikimedia.org/wikipedia/en/thumb/5/5f/Disambig_gray.svg/30px-Disambig_gray.svg.png\" decoding=\"async\" width=\"30\" height=\"23\" srcset=\"//upload.wikimedia.org/wikipedia/en/thumb/5/5f/Disambig_gray.svg/45px-Disambig_gray.svg.png 1.5x, //upload.wikimedia.org/wikipedia/en/thumb/5/5f/Disambig_gray.svg/60px-Disambig_gray.svg.png 2x\" data-file-width=\"220\" data-file-height=\"168\" /></a><div class=\"dmbox-body\">This <a href=\"/wiki/Help:Disambiguation\" title=\"Help:Disambiguation\">disambiguation</a> page lists  articles associated with the title <b>Python</b>.<br /><small>If an <a class=\"external text\" href=\"https://en.wikipedia.org/w/index.php?title=Special:WhatLinksHere/Python&amp;namespace=0\">internal link</a> led you here, you may wish to change the link to point directly to the intended article.</small></div>\\n</div>\\n<!-- \\nNewPP limit report\\nParsed by mw1411\\nCached time: 20230202113553\\nCache expiry: 1814400\\nReduced expiry: false\\nComplications: [show\\xe2\\x80\\x90toc]\\nCPU time usage: 0.081 seconds\\nReal time usage: 0.125 seconds\\nPreprocessor visited node count: 1367/1000000\\nPost\\xe2\\x80\\x90expand include size: 6422/2097152 bytes\\nTemplate argument size: 1395/2097152 bytes\\nHighest expansion depth: 13/100\\nExpensive parser function count: 1/500\\nUnstrip recursion depth: 0/20\\nUnstrip post\\xe2\\x80\\x90expand size: 2134/5000000 bytes\\nLua time usage: 0.029/10.000 seconds\\nLua memory usage: 1437689/52428800 bytes\\nNumber of Wikibase entities loaded: 0/400\\n-->\\n<!--\\nTransclusion expansion time report (%,ms,calls,template)\\n100.00%  106.519      1 -total\\n 65.39%   69.654      1 Template:Disambiguation\\n 32.64%   34.771      1 Template:Dmbox\\n 28.89%   30.769      1 Template:Wiktionary\\n 27.47%   29.257      1 Template:Sister_project\\n 26.11%   27.814      1 Template:Side_box\\n 20.68%   22.027      1 Template:Disambiguation_page_short_description\\n 19.54%   20.816      1 Template:Short_description\\n 17.68%   18.834      4 Template:Main_other\\n 11.49%   12.240      1 Template:Category_handler\\n-->\\n\\n<!-- Saved in parser cache with key enwiki:pcache:idhash:46332325-0!canonical and timestamp 20230202113553 and revision id 1134693155.\\n -->\\n</div><!--esi <esi:include src=\"/esitest-fa8a495983347898/content\" /> --><noscript><img src=\"//en.wikipedia.org/wiki/Special:CentralAutoLogin/start?type=1x1\" alt=\"\" title=\"\" width=\"1\" height=\"1\" style=\"border: none; position: absolute;\" /></noscript>\\n<div class=\"printfooter\" data-nosnippet=\"\">Retrieved from \"<a dir=\"ltr\" href=\"https://en.wikipedia.org/w/index.php?title=Python&amp;oldid=1134693155\">https://en.wikipedia.org/w/index.php?title=Python&amp;oldid=1134693155</a>\"</div></div>\\n\\t\\t\\t\\t\\t<div id=\"catlinks\" class=\"catlinks\" data-mw=\"interface\"><div id=\"mw-normal-catlinks\" class=\"mw-normal-catlinks\"><a href=\"/wiki/Help:Category\" title=\"Help:Category\">Categories</a>: <ul><li><a href=\"/wiki/Category:Disambiguation_pages\" title=\"Category:Disambiguation pages\">Disambiguation pages</a></li><li><a href=\"/wiki/Category:Human_name_disambiguation_pages\" title=\"Category:Human name disambiguation pages\">Human name disambiguation pages</a></li><li><a href=\"/wiki/Category:Disambiguation_pages_with_given-name-holder_lists\" title=\"Category:Disambiguation pages with given-name-holder lists\">Disambiguation pages with given-name-holder lists</a></li></ul></div><div id=\"mw-hidden-catlinks\" class=\"mw-hidden-catlinks mw-hidden-cats-hidden\">Hidden categories: <ul><li><a href=\"/wiki/Category:Short_description_is_different_from_Wikidata\" title=\"Category:Short description is different from Wikidata\">Short description is different from Wikidata</a></li><li><a href=\"/wiki/Category:All_article_disambiguation_pages\" title=\"Category:All article disambiguation pages\">All article disambiguation pages</a></li><li><a href=\"/wiki/Category:All_disambiguation_pages\" title=\"Category:All disambiguation pages\">All disambiguation pages</a></li><li><a href=\"/wiki/Category:Animal_common_name_disambiguation_pages\" title=\"Category:Animal common name disambiguation pages\">Animal common name disambiguation pages</a></li></ul></div></div>\\n\\t\\t\\t\\t\\t\\n\\t\\t\\t\\t</div>\\n\\t\\t\\t\\t\\n\\t\\t\\t</main>\\n\\t\\t\\t\\n\\t\\t</div>\\n\\t\\t<div class=\"mw-footer-container\">\\n\\t\\t\\t\\n<footer id=\"footer\" class=\"mw-footer\" role=\"contentinfo\" >\\n\\t<ul id=\"footer-info\">\\n\\t<li id=\"footer-info-lastmod\"> This page was last edited on 20 January 2023, at 02:00<span class=\"anonymous-show\">&#160;(UTC)</span>.</li>\\n\\t<li id=\"footer-info-copyright\">Text is available under the <a rel=\"license\" href=\"//en.wikipedia.org/wiki/Wikipedia:Text_of_the_Creative_Commons_Attribution-ShareAlike_3.0_Unported_License\">Creative Commons Attribution-ShareAlike License 3.0</a><a rel=\"license\" href=\"//creativecommons.org/licenses/by-sa/3.0/\" style=\"display:none;\"></a>;\\nadditional terms may apply.  By using this site, you agree to the <a href=\"//foundation.wikimedia.org/wiki/Terms_of_Use\">Terms of Use</a> and <a href=\"//foundation.wikimedia.org/wiki/Privacy_policy\">Privacy Policy</a>. Wikipedia\\xc2\\xae is a registered trademark of the <a href=\"//www.wikimediafoundation.org/\">Wikimedia Foundation, Inc.</a>, a non-profit organization.</li>\\n</ul>\\n\\n\\t<ul id=\"footer-places\">\\n\\t<li id=\"footer-places-privacy\"><a href=\"https://foundation.wikimedia.org/wiki/Privacy_policy\">Privacy policy</a></li>\\n\\t<li id=\"footer-places-about\"><a href=\"/wiki/Wikipedia:About\">About Wikipedia</a></li>\\n\\t<li id=\"footer-places-disclaimers\"><a href=\"/wiki/Wikipedia:General_disclaimer\">Disclaimers</a></li>\\n\\t<li id=\"footer-places-contact\"><a href=\"//en.wikipedia.org/wiki/Wikipedia:Contact_us\">Contact Wikipedia</a></li>\\n\\t<li id=\"footer-places-mobileview\"><a href=\"//en.m.wikipedia.org/w/index.php?title=Python&amp;mobileaction=toggle_view_mobile\" class=\"noprint stopMobileRedirectToggle\">Mobile view</a></li>\\n\\t<li id=\"footer-places-developers\"><a href=\"https://developer.wikimedia.org\">Developers</a></li>\\n\\t<li id=\"footer-places-statslink\"><a href=\"https://stats.wikimedia.org/#/en.wikipedia.org\">Statistics</a></li>\\n\\t<li id=\"footer-places-cookiestatement\"><a href=\"https://foundation.wikimedia.org/wiki/Cookie_statement\">Cookie statement</a></li>\\n</ul>\\n\\n\\t<ul id=\"footer-icons\" class=\"noprint\">\\n\\t<li id=\"footer-copyrightico\"><a href=\"https://wikimediafoundation.org/\"><img src=\"/static/images/footer/wikimedia-button.png\" srcset=\"/static/images/footer/wikimedia-button-1.5x.png 1.5x, /static/images/footer/wikimedia-button-2x.png 2x\" width=\"88\" height=\"31\" alt=\"Wikimedia Foundation\" loading=\"lazy\" /></a></li>\\n\\t<li id=\"footer-poweredbyico\"><a href=\"https://www.mediawiki.org/\"><img src=\"/static/images/footer/poweredby_mediawiki_88x31.png\" alt=\"Powered by MediaWiki\" srcset=\"/static/images/footer/poweredby_mediawiki_132x47.png 1.5x, /static/images/footer/poweredby_mediawiki_176x62.png 2x\" width=\"88\" height=\"31\" loading=\"lazy\"/></a></li>\\n</ul>\\n\\n</footer>\\n\\n\\t\\t</div>\\n\\t</div> \\n</div> \\n\\n<script>(RLQ=window.RLQ||[]).push(function(){mw.config.set({\"wgPageParseReport\":{\"limitreport\":{\"cputime\":\"0.081\",\"walltime\":\"0.125\",\"ppvisitednodes\":{\"value\":1367,\"limit\":1000000},\"postexpandincludesize\":{\"value\":6422,\"limit\":2097152},\"templateargumentsize\":{\"value\":1395,\"limit\":2097152},\"expansiondepth\":{\"value\":13,\"limit\":100},\"expensivefunctioncount\":{\"value\":1,\"limit\":500},\"unstrip-depth\":{\"value\":0,\"limit\":20},\"unstrip-size\":{\"value\":2134,\"limit\":5000000},\"entityaccesscount\":{\"value\":0,\"limit\":400},\"timingprofile\":[\"100.00%  106.519      1 -total\",\" 65.39%   69.654      1 Template:Disambiguation\",\" 32.64%   34.771      1 Template:Dmbox\",\" 28.89%   30.769      1 Template:Wiktionary\",\" 27.47%   29.257      1 Template:Sister_project\",\" 26.11%   27.814      1 Template:Side_box\",\" 20.68%   22.027      1 Template:Disambiguation_page_short_description\",\" 19.54%   20.816      1 Template:Short_description\",\" 17.68%   18.834      4 Template:Main_other\",\" 11.49%   12.240      1 Template:Category_handler\"]},\"scribunto\":{\"limitreport-timeusage\":{\"value\":\"0.029\",\"limit\":\"10.000\"},\"limitreport-memusage\":{\"value\":1437689,\"limit\":52428800}},\"cachereport\":{\"origin\":\"mw1411\",\"timestamp\":\"20230202113553\",\"ttl\":1814400,\"transientcontent\":false}}});});</script>\\n<script type=\"application/ld+json\">{\"@context\":\"https:\\\\/\\\\/schema.org\",\"@type\":\"Article\",\"name\":\"Python\",\"url\":\"https:\\\\/\\\\/en.wikipedia.org\\\\/wiki\\\\/Python\",\"sameAs\":\"http:\\\\/\\\\/www.wikidata.org\\\\/entity\\\\/Q747452\",\"mainEntity\":\"http:\\\\/\\\\/www.wikidata.org\\\\/entity\\\\/Q747452\",\"author\":{\"@type\":\"Organization\",\"name\":\"Contributors to Wikimedia projects\"},\"publisher\":{\"@type\":\"Organization\",\"name\":\"Wikimedia Foundation, Inc.\",\"logo\":{\"@type\":\"ImageObject\",\"url\":\"https:\\\\/\\\\/www.wikimedia.org\\\\/static\\\\/images\\\\/wmf-hor-googpub.png\"}},\"datePublished\":\"2004-05-11T17:28:52Z\",\"dateModified\":\"2023-01-20T02:00:20Z\",\"headline\":\"Wikimedia disambiguation page\"}</script><script type=\"application/ld+json\">{\"@context\":\"https:\\\\/\\\\/schema.org\",\"@type\":\"Article\",\"name\":\"Python\",\"url\":\"https:\\\\/\\\\/en.wikipedia.org\\\\/wiki\\\\/Python\",\"sameAs\":\"http:\\\\/\\\\/www.wikidata.org\\\\/entity\\\\/Q747452\",\"mainEntity\":\"http:\\\\/\\\\/www.wikidata.org\\\\/entity\\\\/Q747452\",\"author\":{\"@type\":\"Organization\",\"name\":\"Contributors to Wikimedia projects\"},\"publisher\":{\"@type\":\"Organization\",\"name\":\"Wikimedia Foundation, Inc.\",\"logo\":{\"@type\":\"ImageObject\",\"url\":\"https:\\\\/\\\\/www.wikimedia.org\\\\/static\\\\/images\\\\/wmf-hor-googpub.png\"}},\"datePublished\":\"2004-05-11T17:28:52Z\",\"dateModified\":\"2023-01-20T02:00:20Z\",\"headline\":\"Wikimedia disambiguation page\"}</script>\\n<script>(RLQ=window.RLQ||[]).push(function(){mw.config.set({\"wgBackendResponseTime\":114,\"wgHostname\":\"mw1401\"});});</script>\\n</body>\\n</html>'"
      ]
     },
     "execution_count": 72,
     "metadata": {},
     "output_type": "execute_result"
    }
   ],
   "source": [
    "python"
   ]
  },
  {
   "cell_type": "code",
   "execution_count": 73,
   "metadata": {},
   "outputs": [],
   "source": [
    "soup=bs(python, 'html.parser')"
   ]
  },
  {
   "cell_type": "code",
   "execution_count": 74,
   "metadata": {},
   "outputs": [
    {
     "data": {
      "text/plain": [
       "[]"
      ]
     },
     "execution_count": 74,
     "metadata": {},
     "output_type": "execute_result"
    }
   ],
   "source": [
    "soup\n"
   ]
  },
  {
   "cell_type": "code",
   "execution_count": 42,
   "metadata": {},
   "outputs": [
    {
     "ename": "AttributeError",
     "evalue": "ResultSet object has no attribute 'find'. You're probably treating a list of elements like a single element. Did you call find_all() when you meant to call find()?",
     "output_type": "error",
     "traceback": [
      "\u001b[1;31m---------------------------------------------------------------------------\u001b[0m",
      "\u001b[1;31mAttributeError\u001b[0m                            Traceback (most recent call last)",
      "\u001b[1;32m~\\AppData\\Local\\Temp\\ipykernel_19632\\2686363715.py\u001b[0m in \u001b[0;36m<module>\u001b[1;34m\u001b[0m\n\u001b[1;32m----> 1\u001b[1;33m \u001b[0msoup\u001b[0m\u001b[1;33m.\u001b[0m\u001b[0mfind\u001b[0m\u001b[1;33m(\u001b[0m\u001b[1;34m'a'\u001b[0m\u001b[1;33m,\u001b[0m \u001b[0mhref_\u001b[0m\u001b[1;33m=\u001b[0m\u001b[1;34m'https://en.wikipedia.org/wiki/Pythonidae'\u001b[0m\u001b[1;33m)\u001b[0m\u001b[1;33m\u001b[0m\u001b[1;33m\u001b[0m\u001b[0m\n\u001b[0m",
      "\u001b[1;32m~\\anaconda3\\lib\\site-packages\\bs4\\element.py\u001b[0m in \u001b[0;36m__getattr__\u001b[1;34m(self, key)\u001b[0m\n\u001b[0;32m   2287\u001b[0m     \u001b[1;32mdef\u001b[0m \u001b[0m__getattr__\u001b[0m\u001b[1;33m(\u001b[0m\u001b[0mself\u001b[0m\u001b[1;33m,\u001b[0m \u001b[0mkey\u001b[0m\u001b[1;33m)\u001b[0m\u001b[1;33m:\u001b[0m\u001b[1;33m\u001b[0m\u001b[1;33m\u001b[0m\u001b[0m\n\u001b[0;32m   2288\u001b[0m         \u001b[1;34m\"\"\"Raise a helpful exception to explain a common code fix.\"\"\"\u001b[0m\u001b[1;33m\u001b[0m\u001b[1;33m\u001b[0m\u001b[0m\n\u001b[1;32m-> 2289\u001b[1;33m         raise AttributeError(\n\u001b[0m\u001b[0;32m   2290\u001b[0m             \u001b[1;34m\"ResultSet object has no attribute '%s'. You're probably treating a list of elements like a single element. Did you call find_all() when you meant to call find()?\"\u001b[0m \u001b[1;33m%\u001b[0m \u001b[0mkey\u001b[0m\u001b[1;33m\u001b[0m\u001b[1;33m\u001b[0m\u001b[0m\n\u001b[0;32m   2291\u001b[0m         )\n",
      "\u001b[1;31mAttributeError\u001b[0m: ResultSet object has no attribute 'find'. You're probably treating a list of elements like a single element. Did you call find_all() when you meant to call find()?"
     ]
    }
   ],
   "source": [
    "soup.find('a', href_='https://en.wikipedia.org/wiki/Pythonidae')"
   ]
  },
  {
   "cell_type": "markdown",
   "metadata": {},
   "source": [
    "#### Number of Titles that have changed in the United States Code since its last release point "
   ]
  },
  {
   "cell_type": "code",
   "execution_count": null,
   "metadata": {},
   "outputs": [],
   "source": [
    "# This is the url you will scrape in this exercise\n",
    "url = 'http://uscode.house.gov/download/download.shtml'"
   ]
  },
  {
   "cell_type": "code",
   "execution_count": 75,
   "metadata": {},
   "outputs": [
    {
     "ename": "AttributeError",
     "evalue": "ResultSet object has no attribute 'find'. You're probably treating a list of elements like a single element. Did you call find_all() when you meant to call find()?",
     "output_type": "error",
     "traceback": [
      "\u001b[1;31m---------------------------------------------------------------------------\u001b[0m",
      "\u001b[1;31mAttributeError\u001b[0m                            Traceback (most recent call last)",
      "\u001b[1;32m~\\AppData\\Local\\Temp\\ipykernel_19632\\2243445870.py\u001b[0m in \u001b[0;36m<module>\u001b[1;34m\u001b[0m\n\u001b[0;32m      6\u001b[0m \u001b[0msoup\u001b[0m \u001b[1;33m=\u001b[0m \u001b[0mbs\u001b[0m\u001b[1;33m(\u001b[0m\u001b[0mresponse\u001b[0m\u001b[1;33m.\u001b[0m\u001b[0mtext\u001b[0m\u001b[1;33m,\u001b[0m \u001b[1;34m'html.parser'\u001b[0m\u001b[1;33m)\u001b[0m\u001b[1;33m\u001b[0m\u001b[1;33m\u001b[0m\u001b[0m\n\u001b[0;32m      7\u001b[0m \u001b[1;33m\u001b[0m\u001b[0m\n\u001b[1;32m----> 8\u001b[1;33m \u001b[0mtext\u001b[0m \u001b[1;33m=\u001b[0m \u001b[0msoup\u001b[0m\u001b[1;33m.\u001b[0m\u001b[0mfind\u001b[0m\u001b[1;33m(\u001b[0m\u001b[1;34m\"strong\"\u001b[0m\u001b[1;33m)\u001b[0m\u001b[1;33m.\u001b[0m\u001b[0mtext\u001b[0m\u001b[1;33m\u001b[0m\u001b[1;33m\u001b[0m\u001b[0m\n\u001b[0m\u001b[0;32m      9\u001b[0m \u001b[0mtitles_changed\u001b[0m \u001b[1;33m=\u001b[0m \u001b[0mtext\u001b[0m\u001b[1;33m.\u001b[0m\u001b[0msplit\u001b[0m\u001b[1;33m(\u001b[0m\u001b[1;34m\" \"\u001b[0m\u001b[1;33m)\u001b[0m\u001b[1;33m[\u001b[0m\u001b[1;36m0\u001b[0m\u001b[1;33m]\u001b[0m\u001b[1;33m\u001b[0m\u001b[1;33m\u001b[0m\u001b[0m\n\u001b[0;32m     10\u001b[0m \u001b[1;33m\u001b[0m\u001b[0m\n",
      "\u001b[1;32m~\\anaconda3\\lib\\site-packages\\bs4\\element.py\u001b[0m in \u001b[0;36m__getattr__\u001b[1;34m(self, key)\u001b[0m\n\u001b[0;32m   2287\u001b[0m     \u001b[1;32mdef\u001b[0m \u001b[0m__getattr__\u001b[0m\u001b[1;33m(\u001b[0m\u001b[0mself\u001b[0m\u001b[1;33m,\u001b[0m \u001b[0mkey\u001b[0m\u001b[1;33m)\u001b[0m\u001b[1;33m:\u001b[0m\u001b[1;33m\u001b[0m\u001b[1;33m\u001b[0m\u001b[0m\n\u001b[0;32m   2288\u001b[0m         \u001b[1;34m\"\"\"Raise a helpful exception to explain a common code fix.\"\"\"\u001b[0m\u001b[1;33m\u001b[0m\u001b[1;33m\u001b[0m\u001b[0m\n\u001b[1;32m-> 2289\u001b[1;33m         raise AttributeError(\n\u001b[0m\u001b[0;32m   2290\u001b[0m             \u001b[1;34m\"ResultSet object has no attribute '%s'. You're probably treating a list of elements like a single element. Did you call find_all() when you meant to call find()?\"\u001b[0m \u001b[1;33m%\u001b[0m \u001b[0mkey\u001b[0m\u001b[1;33m\u001b[0m\u001b[1;33m\u001b[0m\u001b[0m\n\u001b[0;32m   2291\u001b[0m         )\n",
      "\u001b[1;31mAttributeError\u001b[0m: ResultSet object has no attribute 'find'. You're probably treating a list of elements like a single element. Did you call find_all() when you meant to call find()?"
     ]
    }
   ],
   "source": [
    "#your code\n",
    "\n",
    "\n",
    "url = 'http://uscode.house.gov/download/download.shtml'\n",
    "response = req.get(url)\n",
    "soup = bs(response.text, 'html.parser')\n",
    "\n",
    "text = soup.find(\"strong\").text\n",
    "titles_changed = text.split(\" \")[0]\n",
    "\n",
    "print(\"Number of titles that have changed:\", titles_changed)\n"
   ]
  },
  {
   "cell_type": "markdown",
   "metadata": {},
   "source": [
    "#### A Python list with the top ten FBI's Most Wanted names "
   ]
  },
  {
   "cell_type": "code",
   "execution_count": null,
   "metadata": {},
   "outputs": [],
   "source": [
    "# This is the url you will scrape in this exercise\n",
    "url = 'https://www.fbi.gov/wanted/topten'"
   ]
  },
  {
   "cell_type": "code",
   "execution_count": null,
   "metadata": {},
   "outputs": [],
   "source": [
    "#your code "
   ]
  },
  {
   "cell_type": "markdown",
   "metadata": {},
   "source": [
    "####  20 latest earthquakes info (date, time, latitude, longitude and region name) by the EMSC as a pandas dataframe"
   ]
  },
  {
   "cell_type": "code",
   "execution_count": null,
   "metadata": {},
   "outputs": [],
   "source": [
    "# This is the url you will scrape in this exercise\n",
    "url = 'https://www.emsc-csem.org/Earthquake/'"
   ]
  },
  {
   "cell_type": "code",
   "execution_count": null,
   "metadata": {},
   "outputs": [],
   "source": [
    "#your code"
   ]
  },
  {
   "cell_type": "markdown",
   "metadata": {},
   "source": [
    "#### Display the date, days, title, city, country of next 25 hackathon events as a Pandas dataframe table"
   ]
  },
  {
   "cell_type": "code",
   "execution_count": null,
   "metadata": {},
   "outputs": [],
   "source": [
    "# This is the url you will scrape in this exercise\n",
    "url ='https://hackevents.co/hackathons'"
   ]
  },
  {
   "cell_type": "code",
   "execution_count": null,
   "metadata": {},
   "outputs": [],
   "source": [
    "#your code"
   ]
  },
  {
   "cell_type": "markdown",
   "metadata": {},
   "source": [
    "#### Count number of tweets by a given Twitter account."
   ]
  },
  {
   "cell_type": "markdown",
   "metadata": {},
   "source": [
    "You will need to include a ***try/except block*** for account names not found. \n",
    "<br>***Hint:*** the program should count the number of tweets for any provided account"
   ]
  },
  {
   "cell_type": "code",
   "execution_count": null,
   "metadata": {},
   "outputs": [],
   "source": [
    "# This is the url you will scrape in this exercise \n",
    "# You will need to add the account credentials to this url\n",
    "url = 'https://twitter.com/'"
   ]
  },
  {
   "cell_type": "code",
   "execution_count": null,
   "metadata": {},
   "outputs": [],
   "source": [
    "#your code"
   ]
  },
  {
   "cell_type": "markdown",
   "metadata": {},
   "source": [
    "#### Number of followers of a given twitter account"
   ]
  },
  {
   "cell_type": "markdown",
   "metadata": {},
   "source": [
    "You will need to include a ***try/except block*** in case account/s name not found. \n",
    "<br>***Hint:*** the program should count the followers for any provided account"
   ]
  },
  {
   "cell_type": "code",
   "execution_count": null,
   "metadata": {},
   "outputs": [],
   "source": [
    "# This is the url you will scrape in this exercise \n",
    "# You will need to add the account credentials to this url\n",
    "url = 'https://twitter.com/'"
   ]
  },
  {
   "cell_type": "code",
   "execution_count": null,
   "metadata": {},
   "outputs": [],
   "source": [
    "#your code"
   ]
  },
  {
   "cell_type": "markdown",
   "metadata": {},
   "source": [
    "#### List all language names and number of related articles in the order they appear in wikipedia.org"
   ]
  },
  {
   "cell_type": "code",
   "execution_count": null,
   "metadata": {},
   "outputs": [],
   "source": [
    "# This is the url you will scrape in this exercise\n",
    "url = 'https://www.wikipedia.org/'"
   ]
  },
  {
   "cell_type": "code",
   "execution_count": null,
   "metadata": {},
   "outputs": [],
   "source": [
    "#your code"
   ]
  },
  {
   "cell_type": "markdown",
   "metadata": {},
   "source": [
    "#### A list with the different kind of datasets available in data.gov.uk "
   ]
  },
  {
   "cell_type": "code",
   "execution_count": null,
   "metadata": {},
   "outputs": [],
   "source": [
    "# This is the url you will scrape in this exercise\n",
    "url = 'https://data.gov.uk/'"
   ]
  },
  {
   "cell_type": "code",
   "execution_count": null,
   "metadata": {},
   "outputs": [],
   "source": [
    "#your code "
   ]
  },
  {
   "cell_type": "markdown",
   "metadata": {},
   "source": [
    "#### Top 10 languages by number of native speakers stored in a Pandas Dataframe"
   ]
  },
  {
   "cell_type": "code",
   "execution_count": null,
   "metadata": {},
   "outputs": [],
   "source": [
    "# This is the url you will scrape in this exercise\n",
    "url = 'https://en.wikipedia.org/wiki/List_of_languages_by_number_of_native_speakers'"
   ]
  },
  {
   "cell_type": "code",
   "execution_count": null,
   "metadata": {},
   "outputs": [],
   "source": [
    "#your code"
   ]
  },
  {
   "cell_type": "markdown",
   "metadata": {},
   "source": [
    "### BONUS QUESTIONS"
   ]
  },
  {
   "cell_type": "markdown",
   "metadata": {},
   "source": [
    "#### Scrape a certain number of tweets of a given Twitter account."
   ]
  },
  {
   "cell_type": "code",
   "execution_count": null,
   "metadata": {},
   "outputs": [],
   "source": [
    "# This is the url you will scrape in this exercise \n",
    "# You will need to add the account credentials to this url\n",
    "url = 'https://twitter.com/'"
   ]
  },
  {
   "cell_type": "code",
   "execution_count": null,
   "metadata": {},
   "outputs": [],
   "source": [
    "# your code"
   ]
  },
  {
   "cell_type": "markdown",
   "metadata": {},
   "source": [
    "#### IMDB's Top 250 data (movie name, Initial release, director name and stars) as a pandas dataframe"
   ]
  },
  {
   "cell_type": "code",
   "execution_count": null,
   "metadata": {},
   "outputs": [],
   "source": [
    "# This is the url you will scrape in this exercise \n",
    "url = 'https://www.imdb.com/chart/top'"
   ]
  },
  {
   "cell_type": "code",
   "execution_count": null,
   "metadata": {},
   "outputs": [],
   "source": [
    "# your code"
   ]
  },
  {
   "cell_type": "markdown",
   "metadata": {},
   "source": [
    "#### Movie name, year and a brief summary of the top 10 random movies (IMDB) as a pandas dataframe."
   ]
  },
  {
   "cell_type": "code",
   "execution_count": null,
   "metadata": {},
   "outputs": [],
   "source": [
    "#This is the url you will scrape in this exercise\n",
    "url = 'http://www.imdb.com/chart/top'"
   ]
  },
  {
   "cell_type": "code",
   "execution_count": null,
   "metadata": {},
   "outputs": [],
   "source": [
    "#your code"
   ]
  },
  {
   "cell_type": "markdown",
   "metadata": {},
   "source": [
    "#### Find the live weather report (temperature, wind speed, description and weather) of a given city."
   ]
  },
  {
   "cell_type": "code",
   "execution_count": null,
   "metadata": {},
   "outputs": [],
   "source": [
    "#https://openweathermap.org/current\n",
    "city = city=input('Enter the city:')\n",
    "url = 'http://api.openweathermap.org/data/2.5/weather?'+'q='+city+'&APPID=b35975e18dc93725acb092f7272cc6b8&units=metric'"
   ]
  },
  {
   "cell_type": "code",
   "execution_count": null,
   "metadata": {},
   "outputs": [],
   "source": [
    "# your code"
   ]
  },
  {
   "cell_type": "markdown",
   "metadata": {},
   "source": [
    "#### Book name,price and stock availability as a pandas dataframe."
   ]
  },
  {
   "cell_type": "code",
   "execution_count": null,
   "metadata": {},
   "outputs": [],
   "source": [
    "# This is the url you will scrape in this exercise. \n",
    "# It is a fictional bookstore created to be scraped. \n",
    "url = 'http://books.toscrape.com/'"
   ]
  },
  {
   "cell_type": "code",
   "execution_count": null,
   "metadata": {},
   "outputs": [],
   "source": [
    "#your code"
   ]
  }
 ],
 "metadata": {
  "kernelspec": {
   "display_name": "Python 3 (ipykernel)",
   "language": "python",
   "name": "python3"
  },
  "language_info": {
   "codemirror_mode": {
    "name": "ipython",
    "version": 3
   },
   "file_extension": ".py",
   "mimetype": "text/x-python",
   "name": "python",
   "nbconvert_exporter": "python",
   "pygments_lexer": "ipython3",
   "version": "3.9.13"
  }
 },
 "nbformat": 4,
 "nbformat_minor": 2
}
