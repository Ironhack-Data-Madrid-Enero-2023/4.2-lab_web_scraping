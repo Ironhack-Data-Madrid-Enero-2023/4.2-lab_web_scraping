{
 "cells": [
  {
   "cell_type": "markdown",
   "metadata": {},
   "source": [
    "# Web Scraping Lab\n",
    "\n",
    "You will find in this notebook some scrapy exercises to practise your scraping skills.\n",
    "\n",
    "**Tips:**\n",
    "\n",
    "- Check the response status code for each request to ensure you have obtained the intended contennt.\n",
    "- Print the response text in each request to understand the kind of info you are getting and its format.\n",
    "- Check for patterns in the response text to extract the data/info requested in each question.\n",
    "- Visit each url and take a look at its source through Chrome DevTools. You'll need to identify the html tags, special class names etc. used for the html content you are expected to extract."
   ]
  },
  {
   "cell_type": "markdown",
   "metadata": {},
   "source": [
    "- [Requests library](http://docs.python-requests.org/en/master/#the-user-guide) documentation \n",
    "- [Beautiful Soup Doc](https://www.crummy.com/software/BeautifulSoup/bs4/doc/)\n",
    "- [Urllib](https://docs.python.org/3/library/urllib.html#module-urllib)\n",
    "- [re lib](https://docs.python.org/3/library/re.html)\n",
    "- [lxml lib](https://lxml.de/)\n",
    "- [Scrapy](https://scrapy.org/)\n",
    "- [List of HTTP status codes](https://en.wikipedia.org/wiki/List_of_HTTP_status_codes)\n",
    "- [HTML basics](http://www.simplehtmlguide.com/cheatsheet.php)\n",
    "- [CSS basics](https://www.cssbasics.com/#page_start)"
   ]
  },
  {
   "cell_type": "markdown",
   "metadata": {},
   "source": [
    "#### Below are the libraries and modules you may need. `requests`,  `BeautifulSoup` and `pandas` are imported for you. If you prefer to use additional libraries feel free to uncomment them."
   ]
  },
  {
   "cell_type": "code",
   "execution_count": 1,
   "metadata": {},
   "outputs": [],
   "source": [
    "import requests as req\n",
    "from bs4 import BeautifulSoup as bs\n",
    "import pandas as pd\n",
    "from pprint import pprint\n",
    "from lxml import html\n",
    "from lxml.html import fromstring\n",
    "import urllib.request\n",
    "from urllib.request import urlopen\n",
    "import random\n",
    "import re\n",
    "import scrapy"
   ]
  },
  {
   "cell_type": "markdown",
   "metadata": {},
   "source": [
    "#### Download, parse (using BeautifulSoup), and print the content from the Trending Developers page from GitHub:"
   ]
  },
  {
   "cell_type": "code",
   "execution_count": 2,
   "metadata": {},
   "outputs": [],
   "source": [
    "# This is the url you will scrape in this exercise\n",
    "url = 'https://github.com/trending/developers'"
   ]
  },
  {
   "cell_type": "code",
   "execution_count": 3,
   "metadata": {},
   "outputs": [
    {
     "name": "stdout",
     "output_type": "stream",
     "text": [
      "\n",
      "<!DOCTYPE html>\n",
      "\n",
      "<html data-a11y-animated-images=\"system\" data-color-mode=\"auto\" data-dark-theme=\"dark\" data-light-theme=\"light\" lang=\"en\">\n",
      "<head>\n",
      "<meta charset=\"utf-8\"/>\n",
      "<link href=\"https://github.githubassets.com\" rel=\"dns-prefetch\"/>\n",
      "<link href=\"https://avatars.githubusercontent.com\" rel=\"dns-prefetch\"/>\n",
      "<link href=\"https://github-cloud.s3.amazonaws.com\" rel=\"dns-prefetch\"/>\n",
      "<link href=\"https://user-images.githubusercontent.com/\" rel=\"dns-prefetch\"/>\n",
      "<link crossorigin=\"\" href=\"https://github.githubassets.com\" rel=\"preconnect\"/>\n",
      "<link href=\"https://avatars.githubusercontent.com\" rel=\"preconnect\"/>\n",
      "<link crossorigin=\"anonymous\" href=\"https://github.githubassets.com/assets/light-719f1193e0c0.css\" media=\"all\" rel=\"stylesheet\"><link crossorigin=\"anonymous\" href=\"https://github.githubassets.com/assets/dark-0c343b529849.css\" media=\"all\" rel=\"stylesheet\"><link crossorigin=\"anonymous\" data-color-theme=\"dark_dimmed\" data-href=\"https://github.githubassets.com/assets/dark_dimmed-f22da508b62a.c\n"
     ]
    }
   ],
   "source": [
    "html = req.get(url).text\n",
    "\n",
    "sopa = bs(html, 'html.parser')\n",
    "\n",
    "print(str(sopa)[:1000])"
   ]
  },
  {
   "cell_type": "markdown",
   "metadata": {},
   "source": [
    "#### Display the names of the trending developers retrieved in the previous step.\n",
    "\n",
    "Your output should be a Python list of developer names. Each name should not contain any html tag.\n",
    "\n",
    "**Instructions:**\n",
    "\n",
    "1. Find out the html tag and class names used for the developer names. You can achieve this using Chrome DevTools.\n",
    "\n",
    "1. Use BeautifulSoup to extract all the html elements that contain the developer names.\n",
    "\n",
    "1. Use string manipulation techniques to replace whitespaces and linebreaks (i.e. `\\n`) in the *text* of each html element. Use a list to store the clean names.\n",
    "\n",
    "1. Print the list of names.\n",
    "\n",
    "Your output should look like below:\n",
    "\n",
    "```\n",
    "['trimstray (@trimstray)',\n",
    " 'joewalnes (JoeWalnes)',\n",
    " 'charlax (Charles-AxelDein)',\n",
    " 'ForrestKnight (ForrestKnight)',\n",
    " 'revery-ui (revery-ui)',\n",
    " 'alibaba (Alibaba)',\n",
    " 'Microsoft (Microsoft)',\n",
    " 'github (GitHub)',\n",
    " 'facebook (Facebook)',\n",
    " 'boazsegev (Bo)',\n",
    " 'google (Google)',\n",
    " 'cloudfetch',\n",
    " 'sindresorhus (SindreSorhus)',\n",
    " 'tensorflow',\n",
    " 'apache (TheApacheSoftwareFoundation)',\n",
    " 'DevonCrawford (DevonCrawford)',\n",
    " 'ARMmbed (ArmMbed)',\n",
    " 'vuejs (vuejs)',\n",
    " 'fastai (fast.ai)',\n",
    " 'QiShaoXuan (Qi)',\n",
    " 'joelparkerhenderson (JoelParkerHenderson)',\n",
    " 'torvalds (LinusTorvalds)',\n",
    " 'CyC2018',\n",
    " 'komeiji-satori (神楽坂覚々)',\n",
    " 'script-8']\n",
    " ```"
   ]
  },
  {
   "cell_type": "code",
   "execution_count": 4,
   "metadata": {},
   "outputs": [
    {
     "data": {
      "text/plain": [
       "['Ariel Mashraki (a8m)',\n",
       " 'Mattias Wadman (wader)',\n",
       " 'Henrik Rydgård (hrydgard)',\n",
       " 'Mark Tyneway (tynes)',\n",
       " 'Lincoln Stein (lstein)',\n",
       " 'jxxghp (jxxghp)',\n",
       " 'Paul Razvan Berg (PaulRBerg)',\n",
       " 'Florian Roth (Neo23x0)',\n",
       " 'MichaIng (MichaIng)',\n",
       " 'Vectorized (Vectorized)',\n",
       " 'Lianmin Zheng (merrymercy)',\n",
       " 'X. (ije)',\n",
       " 'Norbert de Langen (ndelangen)',\n",
       " 'Stefan Prodan (stefanprodan)',\n",
       " 'Jaco (jacogr)',\n",
       " 'François Chollet (fchollet)',\n",
       " 'Michał Lytek',\n",
       " 'Lukas Taegert-Atkinson (lukastaegert)',\n",
       " 'Ben McCann (benmccann)',\n",
       " 'Antonio Cheong (acheong08)',\n",
       " 'Maarten Grootendorst (MaartenGr)',\n",
       " 'Leon (ultrafunkamsterdam)',\n",
       " 'syuilo (syuilo)',\n",
       " 'Abhinav Gupta (abhinav)',\n",
       " 'Yair Morgenstern (yairm210)']"
      ]
     },
     "execution_count": 4,
     "metadata": {},
     "output_type": "execute_result"
    }
   ],
   "source": [
    "nombres = sopa.find_all('h1', class_=\"h3 lh-condensed\")\n",
    "\n",
    "usuarios = []\n",
    "\n",
    "for i in range(len(sopa.find_all('h1', class_=\"h3 lh-condensed\"))):\n",
    "    \n",
    "    usuario = re.sub(\"/\", \"\", nombres[i].find('a').attrs['href'])\n",
    "    \n",
    "    nombre = sopa.find_all('h1', class_=\"h3 lh-condensed\")[i].text.strip()\n",
    "    \n",
    "    if nombre != 'Michał Lytek':    # quería poner si nombre != usuario, pero el carácter ł no lo permitía\n",
    "        \n",
    "        usuarios.append(f'{nombres[i].text.strip()} ({usuario})')\n",
    "        \n",
    "    else: usuarios.append(nombres[i].text.strip())\n",
    "        \n",
    "usuarios"
   ]
  },
  {
   "cell_type": "markdown",
   "metadata": {},
   "source": [
    "#### Display the trending Python repositories in GitHub\n",
    "\n",
    "The steps to solve this problem is similar to the previous one except that you need to find out the repository names instead of developer names."
   ]
  },
  {
   "cell_type": "code",
   "execution_count": 5,
   "metadata": {},
   "outputs": [],
   "source": [
    "# This is the url you will scrape in this exercise\n",
    "url = 'https://github.com/trending/python?since=daily'"
   ]
  },
  {
   "cell_type": "code",
   "execution_count": 6,
   "metadata": {},
   "outputs": [
    {
     "data": {
      "text/plain": [
       "['acheong08 / ChatGPT',\n",
       " 'Zero6992 / chatGPT-discord-bot',\n",
       " 'TheAlgorithms / Python',\n",
       " 'LAION-AI / Open-Assistant',\n",
       " 'ddPn08 / Lsmith',\n",
       " 'zhayujie / chatgpt-on-wechat',\n",
       " 'LeagueOfPoro / CapsuleFarmerEvolved',\n",
       " 'microsoft / BioGPT',\n",
       " 'BlinkDL / ChatRWKV',\n",
       " 'AIGCT / EASYChatGPT',\n",
       " 'mmz-001 / knowledge_gpt',\n",
       " 'jxxghp / nas-tools',\n",
       " 'tiangolo / fastapi',\n",
       " 'TomSchimansky / CustomTkinter',\n",
       " 'Rudrabha / Wav2Lip',\n",
       " 'public-apis / public-apis',\n",
       " 'biancangming / wtv',\n",
       " 'chidiwilliams / buzz',\n",
       " 'bellingcat / octosuite',\n",
       " 'approximatelabs / sketch',\n",
       " 'yerfor / GeneFace',\n",
       " 'uptrain-ai / uptrain',\n",
       " 'facebookresearch / metaseq',\n",
       " 'lss233 / chatgpt-mirai-qq-bot',\n",
       " 'ansible / ansible']"
      ]
     },
     "execution_count": 6,
     "metadata": {},
     "output_type": "execute_result"
    }
   ],
   "source": [
    "html = req.get(url).text\n",
    "\n",
    "sopa = bs(html, 'html.parser')\n",
    "\n",
    "[sopa.find_all('h1', class_=\"h3 lh-condensed\")[i].text.replace(' ', '').replace('\\n', '').replace('/', ' / ') for i in range(len(sopa.find_all('h1', class_=\"h3 lh-condensed\")))]"
   ]
  },
  {
   "cell_type": "markdown",
   "metadata": {},
   "source": [
    "#### Display all the image links from Walt Disney wikipedia page"
   ]
  },
  {
   "cell_type": "code",
   "execution_count": 7,
   "metadata": {},
   "outputs": [],
   "source": [
    "# This is the url you will scrape in this exercise\n",
    "url = 'https://en.wikipedia.org/wiki/Walt_Disney'"
   ]
  },
  {
   "cell_type": "code",
   "execution_count": 8,
   "metadata": {},
   "outputs": [
    {
     "data": {
      "text/html": [
       "<img src=\"//upload.wikimedia.org/wikipedia/commons/thumb/d/df/Walt_Disney_1946.JPG/220px-Walt_Disney_1946.JPG\"/>"
      ],
      "text/plain": [
       "<IPython.core.display.Image object>"
      ]
     },
     "metadata": {},
     "output_type": "display_data"
    },
    {
     "data": {
      "text/html": [
       "<img src=\"//upload.wikimedia.org/wikipedia/commons/thumb/8/87/Walt_Disney_1942_signature.svg/150px-Walt_Disney_1942_signature.svg.png\"/>"
      ],
      "text/plain": [
       "<IPython.core.display.Image object>"
      ]
     },
     "metadata": {},
     "output_type": "display_data"
    },
    {
     "data": {
      "text/html": [
       "<img src=\"//upload.wikimedia.org/wikipedia/commons/thumb/3/3a/Walt_Disney_Birthplace_Exterior_Hermosa_Chicago_Illinois.jpg/220px-Walt_Disney_Birthplace_Exterior_Hermosa_Chicago_Illinois.jpg\"/>"
      ],
      "text/plain": [
       "<IPython.core.display.Image object>"
      ]
     },
     "metadata": {},
     "output_type": "display_data"
    },
    {
     "data": {
      "text/html": [
       "<img src=\"//upload.wikimedia.org/wikipedia/commons/thumb/c/c4/Walt_Disney_envelope_ca._1921.jpg/220px-Walt_Disney_envelope_ca._1921.jpg\"/>"
      ],
      "text/plain": [
       "<IPython.core.display.Image object>"
      ]
     },
     "metadata": {},
     "output_type": "display_data"
    },
    {
     "data": {
      "text/html": [
       "<img src=\"//upload.wikimedia.org/wikipedia/commons/thumb/0/0d/Trolley_Troubles_poster.jpg/170px-Trolley_Troubles_poster.jpg\"/>"
      ],
      "text/plain": [
       "<IPython.core.display.Image object>"
      ]
     },
     "metadata": {},
     "output_type": "display_data"
    }
   ],
   "source": [
    "html = req.get(url).text\n",
    "\n",
    "sopa = bs(html, 'html.parser')\n",
    "\n",
    "lst = [sopa.find_all('a', class_=\"image\")[i].find('img').attrs['src'] for i in range(len(sopa.find_all('a', class_=\"image\")))]\n",
    "\n",
    "from IPython.display import Image\n",
    "\n",
    "for e in lst[:5]:\n",
    "\n",
    "    display(Image(url=e))"
   ]
  },
  {
   "cell_type": "markdown",
   "metadata": {},
   "source": [
    "#### Retrieve an arbitary Wikipedia page of \"Python\" and create a list of links on that page"
   ]
  },
  {
   "cell_type": "code",
   "execution_count": 9,
   "metadata": {},
   "outputs": [],
   "source": [
    "# This is the url you will scrape in this exercise\n",
    "url ='https://en.wikipedia.org/wiki/Python' "
   ]
  },
  {
   "cell_type": "code",
   "execution_count": 10,
   "metadata": {},
   "outputs": [
    {
     "data": {
      "text/plain": [
       "['/w/index.php?title=Special:CreateAccount&returnto=Python',\n",
       " '/w/index.php?title=Special:CreateAccount&returnto=Python',\n",
       " '/w/index.php?title=Special:UserLogin&returnto=Python',\n",
       " '/wiki/Special:MyTalk',\n",
       " '/wiki/Special:MyContributions',\n",
       " '/wiki/Main_Page',\n",
       " '/wiki/Wikipedia:Contents',\n",
       " '/wiki/Portal:Current_events',\n",
       " '/wiki/Special:Random',\n",
       " '/wiki/Wikipedia:About',\n",
       " '//en.wikipedia.org/wiki/Wikipedia:Contact_us',\n",
       " 'https://donate.wikimedia.org/wiki/Special:FundraiserRedirector?utm_source=donate&utm_medium=sidebar&utm_campaign=C13_en.wikipedia.org&uselang=en',\n",
       " '/wiki/Help:Contents',\n",
       " '/wiki/Help:Introduction',\n",
       " '/wiki/Wikipedia:Community_portal',\n",
       " '/wiki/Special:RecentChanges',\n",
       " '/wiki/Wikipedia:File_upload_wizard',\n",
       " '/wiki/Special:WhatLinksHere/Python',\n",
       " '/wiki/Special:RecentChangesLinked/Python',\n",
       " '/wiki/Wikipedia:File_Upload_Wizard',\n",
       " '/wiki/Special:SpecialPages',\n",
       " '/w/index.php?title=Python&oldid=1134693155',\n",
       " '/w/index.php?title=Python&action=info',\n",
       " '/w/index.php?title=Special:CiteThisPage&page=Python&id=1134693155&wpFormIdentifier=titleform',\n",
       " 'https://www.wikidata.org/wiki/Special:EntityPage/Q747452',\n",
       " '/w/index.php?title=Special:DownloadAsPdf&page=Python&action=show-download-screen',\n",
       " '/w/index.php?title=Python&printable=yes',\n",
       " 'https://commons.wikimedia.org/wiki/Category:Python',\n",
       " 'https://af.wikipedia.org/wiki/Python',\n",
       " 'https://als.wikipedia.org/wiki/Python',\n",
       " 'https://ar.wikipedia.org/wiki/%D8%A8%D8%A7%D9%8A%D8%AB%D9%88%D9%86_(%D8%AA%D9%88%D8%B6%D9%8A%D8%AD)',\n",
       " 'https://az.wikipedia.org/wiki/Python_(d%C9%99qiql%C9%99%C5%9Fdirm%C9%99)',\n",
       " 'https://bn.wikipedia.org/wiki/%E0%A6%AA%E0%A6%BE%E0%A6%87%E0%A6%A5%E0%A6%A8_(%E0%A6%A6%E0%A7%8D%E0%A6%AC%E0%A7%8D%E0%A6%AF%E0%A6%B0%E0%A7%8D%E0%A6%A5%E0%A6%A4%E0%A6%BE_%E0%A6%A8%E0%A6%BF%E0%A6%B0%E0%A6%B8%E0%A6%A8)',\n",
       " 'https://be.wikipedia.org/wiki/Python',\n",
       " 'https://bg.wikipedia.org/wiki/%D0%9F%D0%B8%D1%82%D0%BE%D0%BD_(%D0%BF%D0%BE%D1%8F%D1%81%D0%BD%D0%B5%D0%BD%D0%B8%D0%B5)',\n",
       " 'https://cs.wikipedia.org/wiki/Python_(rozcestn%C3%ADk)',\n",
       " 'https://da.wikipedia.org/wiki/Python',\n",
       " 'https://de.wikipedia.org/wiki/Python',\n",
       " 'https://eo.wikipedia.org/wiki/Pitono_(apartigilo)',\n",
       " 'https://eu.wikipedia.org/wiki/Python_(argipena)',\n",
       " 'https://fa.wikipedia.org/wiki/%D9%BE%D8%A7%DB%8C%D8%AA%D9%88%D9%86',\n",
       " 'https://fr.wikipedia.org/wiki/Python',\n",
       " 'https://ko.wikipedia.org/wiki/%ED%8C%8C%EC%9D%B4%EC%84%A0',\n",
       " 'https://hr.wikipedia.org/wiki/Python_(razdvojba)',\n",
       " 'https://io.wikipedia.org/wiki/Pitono',\n",
       " 'https://id.wikipedia.org/wiki/Python',\n",
       " 'https://ia.wikipedia.org/wiki/Python_(disambiguation)']"
      ]
     },
     "execution_count": 10,
     "metadata": {},
     "output_type": "execute_result"
    }
   ],
   "source": [
    "html = req.get(url).text\n",
    "\n",
    "sopa = bs(html, 'html.parser')\n",
    "\n",
    "[sopa.find_all('li')[i].find('a').attrs['href'] for i in range(len(sopa.find_all('li')[i].find('a').attrs['href'])) if '#' not in sopa.find_all('li')[i].find('a').attrs['href']]"
   ]
  },
  {
   "cell_type": "markdown",
   "metadata": {},
   "source": [
    "#### Number of Titles that have changed in the United States Code since its last release point "
   ]
  },
  {
   "cell_type": "code",
   "execution_count": 11,
   "metadata": {},
   "outputs": [],
   "source": [
    "# This is the url you will scrape in this exercise\n",
    "url = 'http://uscode.house.gov/download/download.shtml'"
   ]
  },
  {
   "cell_type": "code",
   "execution_count": 12,
   "metadata": {},
   "outputs": [
    {
     "data": {
      "text/plain": [
       "14"
      ]
     },
     "execution_count": 12,
     "metadata": {},
     "output_type": "execute_result"
    }
   ],
   "source": [
    "html = req.get(url).text\n",
    "\n",
    "sopa = bs(html, 'html.parser')\n",
    "\n",
    "len(sopa.find_all('div', class_=\"usctitlechanged\"))"
   ]
  },
  {
   "cell_type": "markdown",
   "metadata": {},
   "source": [
    "#### A Python list with the top ten FBI's Most Wanted names "
   ]
  },
  {
   "cell_type": "code",
   "execution_count": 13,
   "metadata": {},
   "outputs": [],
   "source": [
    "# This is the url you will scrape in this exercise\n",
    "url = 'https://www.fbi.gov/wanted/topten'"
   ]
  },
  {
   "cell_type": "code",
   "execution_count": 14,
   "metadata": {},
   "outputs": [
    {
     "data": {
      "text/plain": [
       "['Ruja Ignatova',\n",
       " 'Arnoldo Jimenez',\n",
       " 'Omar Alexander Cardenas',\n",
       " 'Alexis Flores',\n",
       " 'Yulan Adonay Archaga Carias',\n",
       " 'Bhadreshkumar Chetanbhai Patel',\n",
       " 'Alejandro Rosales Castillo',\n",
       " 'Jose Rodolfo Villarreal-Hernandez',\n",
       " 'Michael James Pratt',\n",
       " 'Rafael Caro-Quintero']"
      ]
     },
     "execution_count": 14,
     "metadata": {},
     "output_type": "execute_result"
    }
   ],
   "source": [
    "html = req.get(url).text\n",
    "\n",
    "sopa = bs(html, 'html.parser')\n",
    "\n",
    "[sopa.find_all('h3', class_=\"title\")[i].find('a').text.title() for i in range(len(sopa.find_all('h3', class_=\"title\")))]"
   ]
  },
  {
   "cell_type": "markdown",
   "metadata": {},
   "source": [
    "####  20 latest earthquakes info (date, time, latitude, longitude and region name) by the EMSC as a pandas dataframe"
   ]
  },
  {
   "cell_type": "code",
   "execution_count": 15,
   "metadata": {},
   "outputs": [],
   "source": [
    "# This is the url you will scrape in this exercise\n",
    "url = 'https://www.emsc-csem.org/Earthquake/'"
   ]
  },
  {
   "cell_type": "code",
   "execution_count": 16,
   "metadata": {},
   "outputs": [
    {
     "data": {
      "text/html": [
       "<div>\n",
       "<style scoped>\n",
       "    .dataframe tbody tr th:only-of-type {\n",
       "        vertical-align: middle;\n",
       "    }\n",
       "\n",
       "    .dataframe tbody tr th {\n",
       "        vertical-align: top;\n",
       "    }\n",
       "\n",
       "    .dataframe thead th {\n",
       "        text-align: right;\n",
       "    }\n",
       "</style>\n",
       "<table border=\"1\" class=\"dataframe\">\n",
       "  <thead>\n",
       "    <tr style=\"text-align: right;\">\n",
       "      <th></th>\n",
       "      <th>Date &amp; Time UTC</th>\n",
       "      <th>Latitude</th>\n",
       "      <th>Longitude</th>\n",
       "      <th>Depth km</th>\n",
       "      <th>Mag</th>\n",
       "      <th>Region name</th>\n",
       "    </tr>\n",
       "  </thead>\n",
       "  <tbody>\n",
       "    <tr>\n",
       "      <th>0</th>\n",
       "      <td>2023-02-07 21:04:52</td>\n",
       "      <td>37.51N</td>\n",
       "      <td>37.19E</td>\n",
       "      <td>8</td>\n",
       "      <td>N</td>\n",
       "      <td>CENTRAL TURKEY</td>\n",
       "    </tr>\n",
       "    <tr>\n",
       "      <th>1</th>\n",
       "      <td>2023-02-07 21:02:59</td>\n",
       "      <td>38.23N</td>\n",
       "      <td>37.97E</td>\n",
       "      <td>5</td>\n",
       "      <td>N</td>\n",
       "      <td>CENTRAL TURKEY</td>\n",
       "    </tr>\n",
       "    <tr>\n",
       "      <th>2</th>\n",
       "      <td>2023-02-07 20:53:06</td>\n",
       "      <td>38.12N</td>\n",
       "      <td>38.27E</td>\n",
       "      <td>3</td>\n",
       "      <td>N</td>\n",
       "      <td>EASTERN TURKEY</td>\n",
       "    </tr>\n",
       "    <tr>\n",
       "      <th>3</th>\n",
       "      <td>2023-02-07 20:52:01</td>\n",
       "      <td>37.99N</td>\n",
       "      <td>36.62E</td>\n",
       "      <td>5</td>\n",
       "      <td>N</td>\n",
       "      <td>CENTRAL TURKEY</td>\n",
       "    </tr>\n",
       "    <tr>\n",
       "      <th>4</th>\n",
       "      <td>2023-02-07 20:48:59</td>\n",
       "      <td>38.10N</td>\n",
       "      <td>37.84E</td>\n",
       "      <td>5</td>\n",
       "      <td>N</td>\n",
       "      <td>CENTRAL TURKEY</td>\n",
       "    </tr>\n",
       "    <tr>\n",
       "      <th>5</th>\n",
       "      <td>2023-02-07 20:47:33</td>\n",
       "      <td>37.37N</td>\n",
       "      <td>37.11E</td>\n",
       "      <td>8</td>\n",
       "      <td>N</td>\n",
       "      <td>CENTRAL TURKEY</td>\n",
       "    </tr>\n",
       "    <tr>\n",
       "      <th>6</th>\n",
       "      <td>2023-02-07 20:42:45</td>\n",
       "      <td>38.05N</td>\n",
       "      <td>36.55E</td>\n",
       "      <td>5</td>\n",
       "      <td>N</td>\n",
       "      <td>CENTRAL TURKEY</td>\n",
       "    </tr>\n",
       "    <tr>\n",
       "      <th>7</th>\n",
       "      <td>2023-02-07 20:40:32</td>\n",
       "      <td>37.48N</td>\n",
       "      <td>37.33E</td>\n",
       "      <td>22</td>\n",
       "      <td>N</td>\n",
       "      <td>CENTRAL TURKEY</td>\n",
       "    </tr>\n",
       "    <tr>\n",
       "      <th>8</th>\n",
       "      <td>2023-02-07 20:36:37</td>\n",
       "      <td>37.62N</td>\n",
       "      <td>118.84W</td>\n",
       "      <td>5</td>\n",
       "      <td>N</td>\n",
       "      <td>LONG VALLEY AREA, CALIFORNIA</td>\n",
       "    </tr>\n",
       "    <tr>\n",
       "      <th>9</th>\n",
       "      <td>2023-02-07 20:32:22</td>\n",
       "      <td>37.82N</td>\n",
       "      <td>36.59E</td>\n",
       "      <td>8</td>\n",
       "      <td>N</td>\n",
       "      <td>CENTRAL TURKEY</td>\n",
       "    </tr>\n",
       "    <tr>\n",
       "      <th>10</th>\n",
       "      <td>2023-02-07 20:27:50</td>\n",
       "      <td>37.96N</td>\n",
       "      <td>38.02E</td>\n",
       "      <td>5</td>\n",
       "      <td>N</td>\n",
       "      <td>EASTERN TURKEY</td>\n",
       "    </tr>\n",
       "    <tr>\n",
       "      <th>11</th>\n",
       "      <td>2023-02-07 20:24:34</td>\n",
       "      <td>38.09N</td>\n",
       "      <td>37.24E</td>\n",
       "      <td>5</td>\n",
       "      <td>N</td>\n",
       "      <td>CENTRAL TURKEY</td>\n",
       "    </tr>\n",
       "    <tr>\n",
       "      <th>12</th>\n",
       "      <td>2023-02-07 20:20:20</td>\n",
       "      <td>38.19N</td>\n",
       "      <td>37.81E</td>\n",
       "      <td>5</td>\n",
       "      <td>N</td>\n",
       "      <td>CENTRAL TURKEY</td>\n",
       "    </tr>\n",
       "    <tr>\n",
       "      <th>13</th>\n",
       "      <td>2023-02-07 20:16:32</td>\n",
       "      <td>38.67N</td>\n",
       "      <td>39.92E</td>\n",
       "      <td>5</td>\n",
       "      <td>N</td>\n",
       "      <td>EASTERN TURKEY</td>\n",
       "    </tr>\n",
       "    <tr>\n",
       "      <th>14</th>\n",
       "      <td>2023-02-07 20:13:57</td>\n",
       "      <td>38.24N</td>\n",
       "      <td>38.07E</td>\n",
       "      <td>5</td>\n",
       "      <td>N</td>\n",
       "      <td>EASTERN TURKEY</td>\n",
       "    </tr>\n",
       "    <tr>\n",
       "      <th>15</th>\n",
       "      <td>2023-02-07 20:09:50</td>\n",
       "      <td>36.27N</td>\n",
       "      <td>36.26E</td>\n",
       "      <td>3</td>\n",
       "      <td>N</td>\n",
       "      <td>TURKEY-SYRIA BORDER REGION</td>\n",
       "    </tr>\n",
       "    <tr>\n",
       "      <th>16</th>\n",
       "      <td>2023-02-07 20:07:12</td>\n",
       "      <td>2.59N</td>\n",
       "      <td>127.25E</td>\n",
       "      <td>10</td>\n",
       "      <td>N</td>\n",
       "      <td>MOLUCCA SEA</td>\n",
       "    </tr>\n",
       "    <tr>\n",
       "      <th>17</th>\n",
       "      <td>2023-02-07 20:01:16</td>\n",
       "      <td>38.06N</td>\n",
       "      <td>36.55E</td>\n",
       "      <td>5</td>\n",
       "      <td>N</td>\n",
       "      <td>CENTRAL TURKEY</td>\n",
       "    </tr>\n",
       "    <tr>\n",
       "      <th>18</th>\n",
       "      <td>2023-02-07 19:57:10</td>\n",
       "      <td>38.07N</td>\n",
       "      <td>38.21E</td>\n",
       "      <td>4</td>\n",
       "      <td>N</td>\n",
       "      <td>EASTERN TURKEY</td>\n",
       "    </tr>\n",
       "    <tr>\n",
       "      <th>19</th>\n",
       "      <td>2023-02-07 19:54:23</td>\n",
       "      <td>38.67N</td>\n",
       "      <td>39.94E</td>\n",
       "      <td>5</td>\n",
       "      <td>N</td>\n",
       "      <td>EASTERN TURKEY</td>\n",
       "    </tr>\n",
       "  </tbody>\n",
       "</table>\n",
       "</div>"
      ],
      "text/plain": [
       "       Date & Time UTC Latitude Longitude Depth km Mag  \\\n",
       "0  2023-02-07 21:04:52   37.51N    37.19E        8   N   \n",
       "1  2023-02-07 21:02:59   38.23N    37.97E        5   N   \n",
       "2  2023-02-07 20:53:06   38.12N    38.27E        3   N   \n",
       "3  2023-02-07 20:52:01   37.99N    36.62E        5   N   \n",
       "4  2023-02-07 20:48:59   38.10N    37.84E        5   N   \n",
       "5  2023-02-07 20:47:33   37.37N    37.11E        8   N   \n",
       "6  2023-02-07 20:42:45   38.05N    36.55E        5   N   \n",
       "7  2023-02-07 20:40:32   37.48N    37.33E       22   N   \n",
       "8  2023-02-07 20:36:37   37.62N   118.84W        5   N   \n",
       "9  2023-02-07 20:32:22   37.82N    36.59E        8   N   \n",
       "10 2023-02-07 20:27:50   37.96N    38.02E        5   N   \n",
       "11 2023-02-07 20:24:34   38.09N    37.24E        5   N   \n",
       "12 2023-02-07 20:20:20   38.19N    37.81E        5   N   \n",
       "13 2023-02-07 20:16:32   38.67N    39.92E        5   N   \n",
       "14 2023-02-07 20:13:57   38.24N    38.07E        5   N   \n",
       "15 2023-02-07 20:09:50   36.27N    36.26E        3   N   \n",
       "16 2023-02-07 20:07:12    2.59N   127.25E       10   N   \n",
       "17 2023-02-07 20:01:16   38.06N    36.55E        5   N   \n",
       "18 2023-02-07 19:57:10   38.07N    38.21E        4   N   \n",
       "19 2023-02-07 19:54:23   38.67N    39.94E        5   N   \n",
       "\n",
       "                     Region name  \n",
       "0                 CENTRAL TURKEY  \n",
       "1                 CENTRAL TURKEY  \n",
       "2                 EASTERN TURKEY  \n",
       "3                 CENTRAL TURKEY  \n",
       "4                 CENTRAL TURKEY  \n",
       "5                 CENTRAL TURKEY  \n",
       "6                 CENTRAL TURKEY  \n",
       "7                 CENTRAL TURKEY  \n",
       "8   LONG VALLEY AREA, CALIFORNIA  \n",
       "9                 CENTRAL TURKEY  \n",
       "10                EASTERN TURKEY  \n",
       "11                CENTRAL TURKEY  \n",
       "12                CENTRAL TURKEY  \n",
       "13                EASTERN TURKEY  \n",
       "14                EASTERN TURKEY  \n",
       "15    TURKEY-SYRIA BORDER REGION  \n",
       "16                   MOLUCCA SEA  \n",
       "17                CENTRAL TURKEY  \n",
       "18                EASTERN TURKEY  \n",
       "19                EASTERN TURKEY  "
      ]
     },
     "execution_count": 16,
     "metadata": {},
     "output_type": "execute_result"
    }
   ],
   "source": [
    "html = req.get(url).text\n",
    "\n",
    "sopa = bs(html, 'html.parser')\n",
    "\n",
    "# Columnas\n",
    "\n",
    "columnas = [sopa.find_all('th', class_=\"th2\")[i].text.strip() for i in range(len(sopa.find_all('th', class_=\"th2\")))]\n",
    "\n",
    "columnas.pop(0)\n",
    "\n",
    "columnas.pop(6)\n",
    "\n",
    "# Filas\n",
    "\n",
    "rows = sopa.find('tbody', id='tbody').find_all('tr')\n",
    "\n",
    "data = []\n",
    "\n",
    "for i in range(20):\n",
    "\n",
    "    date = rows[i].find('td', class_=\"tabev6\").text.strip()\n",
    "\n",
    "    lat = rows[i].find_all('td', class_=\"tabev1\")[0].text.strip() + rows[i].find_all('td', class_=\"tabev2\")[0].text.strip()\n",
    "\n",
    "    long = rows[i].find_all('td', class_=\"tabev1\")[1].text.strip() + rows[i].find_all('td', class_=\"tabev2\")[1].text.strip()\n",
    "\n",
    "    depth = rows[i].find('td', class_=\"tabev3\").text.strip()\n",
    "\n",
    "    mag = rows[i].find('td', class_=\"tabev2\").text.strip()\n",
    "\n",
    "    region = rows[i].find('td', class_=\"tb_region\").text.strip()\n",
    "    \n",
    "    data.append({'Date & Time UTC': date,\n",
    "                 'Latitude': lat,\n",
    "                 'Longitude': long,\n",
    "                 'Depth km': depth, \n",
    "                 'Mag': mag, \n",
    "                 'Region name': region})\n",
    "    \n",
    "df = pd.DataFrame(data)\n",
    "\n",
    "# Lmpieza\n",
    "\n",
    "df['Date & Time UTC'] = df['Date & Time UTC'].apply(lambda x: re.sub(r\"\\s\\w+\\sago\", \"\", x))\n",
    "df['Date & Time UTC'] = df['Date & Time UTC'].apply(lambda x: re.sub(r\"\\s\", \"\", x))\n",
    "df['Date & Time UTC'] = df['Date & Time UTC'].apply(lambda x: re.search(r\"2.*\", x).group())\n",
    "df['Date & Time UTC'] = df['Date & Time UTC'].apply(lambda x: re.search(r\".*\\.\", x).group())\n",
    "df['Date & Time UTC'] = df['Date & Time UTC'].apply(lambda x: re.sub(r\"\\.\", \"\", x))\n",
    "df['Date & Time UTC'] = pd.to_datetime(df['Date & Time UTC'], format='%Y-%m-%d%H:%M:%S')\n",
    "\n",
    "df.head(20)"
   ]
  },
  {
   "cell_type": "markdown",
   "metadata": {},
   "source": [
    "#### Display the date, days, title, city, country of next 25 hackathon events as a Pandas dataframe table"
   ]
  },
  {
   "cell_type": "code",
   "execution_count": 17,
   "metadata": {},
   "outputs": [],
   "source": [
    "# This is the url you will scrape in this exercise\n",
    "url ='https://hackevents.co/hackathons'"
   ]
  },
  {
   "cell_type": "code",
   "execution_count": 18,
   "metadata": {},
   "outputs": [],
   "source": [
    "#your code"
   ]
  },
  {
   "cell_type": "markdown",
   "metadata": {},
   "source": [
    "#### Count number of tweets by a given Twitter account."
   ]
  },
  {
   "cell_type": "markdown",
   "metadata": {},
   "source": [
    "You will need to include a ***try/except block*** for account names not found. \n",
    "<br>***Hint:*** the program should count the number of tweets for any provided account"
   ]
  },
  {
   "cell_type": "code",
   "execution_count": 19,
   "metadata": {},
   "outputs": [],
   "source": [
    "# This is the url you will scrape in this exercise \n",
    "# You will need to add the account credentials to this url\n",
    "url = 'https://twitter.com/'"
   ]
  },
  {
   "cell_type": "code",
   "execution_count": 20,
   "metadata": {},
   "outputs": [],
   "source": [
    "#your code"
   ]
  },
  {
   "cell_type": "markdown",
   "metadata": {},
   "source": [
    "#### Number of followers of a given twitter account"
   ]
  },
  {
   "cell_type": "markdown",
   "metadata": {},
   "source": [
    "You will need to include a ***try/except block*** in case account/s name not found. \n",
    "<br>***Hint:*** the program should count the followers for any provided account"
   ]
  },
  {
   "cell_type": "code",
   "execution_count": 21,
   "metadata": {},
   "outputs": [],
   "source": [
    "# This is the url you will scrape in this exercise \n",
    "# You will need to add the account credentials to this url\n",
    "url = 'https://twitter.com/'"
   ]
  },
  {
   "cell_type": "code",
   "execution_count": 22,
   "metadata": {},
   "outputs": [],
   "source": [
    "#your code"
   ]
  },
  {
   "cell_type": "markdown",
   "metadata": {},
   "source": [
    "#### List all language names and number of related articles in the order they appear in wikipedia.org"
   ]
  },
  {
   "cell_type": "code",
   "execution_count": 23,
   "metadata": {},
   "outputs": [],
   "source": [
    "# This is the url you will scrape in this exercise\n",
    "url = 'https://www.wikipedia.org/'"
   ]
  },
  {
   "cell_type": "code",
   "execution_count": 24,
   "metadata": {},
   "outputs": [
    {
     "data": {
      "text/plain": [
       "[]"
      ]
     },
     "execution_count": 24,
     "metadata": {},
     "output_type": "execute_result"
    }
   ],
   "source": [
    "\n",
    "\n",
    "[sopa.find_all('a', class_=\"link-box\")[i].find('strong').text for i in range(len(sopa.find_all('a', class_=\"link-box\")))]"
   ]
  },
  {
   "cell_type": "code",
   "execution_count": 25,
   "metadata": {},
   "outputs": [
    {
     "data": {
      "text/plain": [
       "['English --> 6606000 articles',\n",
       " 'Ð\\xa0Ñ\\x83Ñ\\x81Ñ\\x81ÐºÐ¸Ð¹ --> 1887000 articles',\n",
       " 'æ\\x97¥æ\\x9c¬èª\\x9e --> 1359000 articles',\n",
       " 'Deutsch --> 2764000 articles',\n",
       " 'FranÃ§ais --> 2488000 articles',\n",
       " 'EspaÃ±ol --> 1833000 articles',\n",
       " 'Italiano --> 1792000 articles',\n",
       " 'ä¸\\xadæ\\x96\\x87 --> 1331000 articles',\n",
       " 'Ù\\x81Ø§Ø±Ø³Û\\x8c --> Ù\\x81Ø§Ø±Ø³Û\\x8c articles',\n",
       " 'Polski --> 947000 articles']"
      ]
     },
     "execution_count": 25,
     "metadata": {},
     "output_type": "execute_result"
    }
   ],
   "source": [
    "html = req.get(url).text\n",
    "\n",
    "sopa = bs(html, 'html.parser')\n",
    "\n",
    "idioma = [e.text.strip() for e in sopa.find_all('strong')]\n",
    "\n",
    "idioma = idioma[1:-1]\n",
    "\n",
    "numero = [e.text.strip() for e in sopa.find_all('bdi')]\n",
    "\n",
    "numero = [e.replace('\\xa0', '').replace('+', '') for e in numero]\n",
    "\n",
    "resultado = []\n",
    "          \n",
    "for i in range(len(idioma)):\n",
    "          \n",
    "    resultado.append(idioma[i] + ' --> ' + numero[i] + ' articles')\n",
    "\n",
    "resultado"
   ]
  },
  {
   "cell_type": "markdown",
   "metadata": {},
   "source": [
    "#### A list with the different kind of datasets available in data.gov.uk "
   ]
  },
  {
   "cell_type": "code",
   "execution_count": 26,
   "metadata": {},
   "outputs": [],
   "source": [
    "# This is the url you will scrape in this exercise\n",
    "url = 'https://data.gov.uk/'"
   ]
  },
  {
   "cell_type": "code",
   "execution_count": 27,
   "metadata": {},
   "outputs": [
    {
     "data": {
      "text/plain": [
       "['Business and economy',\n",
       " 'Crime and justice',\n",
       " 'Defence',\n",
       " 'Education',\n",
       " 'Environment',\n",
       " 'Government',\n",
       " 'Government spending',\n",
       " 'Health',\n",
       " 'Mapping',\n",
       " 'Society',\n",
       " 'Towns and cities',\n",
       " 'Transport',\n",
       " 'Digital service performance',\n",
       " 'Government reference data']"
      ]
     },
     "execution_count": 27,
     "metadata": {},
     "output_type": "execute_result"
    }
   ],
   "source": [
    "html = req.get(url).text\n",
    "\n",
    "sopa = bs(html, 'html.parser')\n",
    "\n",
    "[sopa.find_all('h3', class_=\"govuk-heading-s dgu-topics__heading\")[i].find('a', class_=\"govuk-link\").text.strip() for i in range(len(sopa.find_all('h3', class_=\"govuk-heading-s dgu-topics__heading\")))]"
   ]
  },
  {
   "cell_type": "markdown",
   "metadata": {},
   "source": [
    "#### Top 10 languages by number of native speakers stored in a Pandas Dataframe"
   ]
  },
  {
   "cell_type": "code",
   "execution_count": 28,
   "metadata": {},
   "outputs": [],
   "source": [
    "# This is the url you will scrape in this exercise\n",
    "url = 'https://en.wikipedia.org/wiki/List_of_languages_by_number_of_native_speakers'"
   ]
  },
  {
   "cell_type": "code",
   "execution_count": 29,
   "metadata": {},
   "outputs": [
    {
     "data": {
      "text/plain": [
       "['Mandarin Chinese',\n",
       " 'Spanish',\n",
       " 'English',\n",
       " 'Hindi',\n",
       " 'Bengali',\n",
       " 'Portuguese',\n",
       " 'Russian',\n",
       " 'Japanese',\n",
       " 'Yue Chinese',\n",
       " 'Vietnamese']"
      ]
     },
     "execution_count": 29,
     "metadata": {},
     "output_type": "execute_result"
    }
   ],
   "source": [
    "html = req.get(url).text\n",
    "\n",
    "sopa = bs(html, 'html.parser')\n",
    "\n",
    "[sopa.find('table', class_=\"wikitable\").find_all('a', class_=\"mw-redirect\")[i].text.strip() for i in range(10)]"
   ]
  },
  {
   "cell_type": "markdown",
   "metadata": {},
   "source": [
    "### BONUS QUESTIONS"
   ]
  },
  {
   "cell_type": "markdown",
   "metadata": {},
   "source": [
    "#### Scrape a certain number of tweets of a given Twitter account."
   ]
  },
  {
   "cell_type": "code",
   "execution_count": 30,
   "metadata": {},
   "outputs": [],
   "source": [
    "# This is the url you will scrape in this exercise \n",
    "# You will need to add the account credentials to this url\n",
    "url = 'https://twitter.com/'"
   ]
  },
  {
   "cell_type": "code",
   "execution_count": 31,
   "metadata": {},
   "outputs": [],
   "source": [
    "# your code"
   ]
  },
  {
   "cell_type": "markdown",
   "metadata": {},
   "source": [
    "#### IMDB's Top 250 data (movie name, Initial release, director name and stars) as a pandas dataframe"
   ]
  },
  {
   "cell_type": "code",
   "execution_count": 32,
   "metadata": {},
   "outputs": [],
   "source": [
    "# This is the url you will scrape in this exercise \n",
    "url = 'https://www.imdb.com/chart/top'"
   ]
  },
  {
   "cell_type": "code",
   "execution_count": 33,
   "metadata": {},
   "outputs": [
    {
     "data": {
      "text/plain": [
       "['Cadena perpetua, (1994), Frank Darabont (dir.), Tim Robbins, Morgan Freeman, 9.2',\n",
       " 'El padrino, (1972), Francis Ford Coppola (dir.), Marlon Brando, Al Pacino, 9.2',\n",
       " 'El caballero oscuro, (2008), Christopher Nolan (dir.), Christian Bale, Heath Ledger, 9.0',\n",
       " 'El padrino (parte II), (1974), Francis Ford Coppola (dir.), Al Pacino, Robert De Niro, 9.0',\n",
       " '12 hombres sin piedad, (1957), Sidney Lumet (dir.), Henry Fonda, Lee J. Cobb, 9.0',\n",
       " 'La lista de Schindler, (1993), Steven Spielberg (dir.), Liam Neeson, Ralph Fiennes, 8.9',\n",
       " 'El señor de los anillos: El retorno del rey, (2003), Peter Jackson (dir.), Elijah Wood, Viggo Mortensen, 8.9',\n",
       " 'Pulp Fiction, (1994), Quentin Tarantino (dir.), John Travolta, Uma Thurman, 8.8',\n",
       " 'El señor de los anillos: La comunidad del anillo, (2001), Peter Jackson (dir.), Elijah Wood, Ian McKellen, 8.8',\n",
       " 'El bueno, el feo y el malo, (1966), Sergio Leone (dir.), Clint Eastwood, Eli Wallach, 8.8',\n",
       " 'Forrest Gump, (1994), Robert Zemeckis (dir.), Tom Hanks, Robin Wright, 8.8',\n",
       " 'El club de la lucha, (1999), David Fincher (dir.), Brad Pitt, Edward Norton, 8.7',\n",
       " 'El señor de los anillos: Las dos torres, (2002), Peter Jackson (dir.), Elijah Wood, Ian McKellen, 8.7',\n",
       " 'Origen, (2010), Christopher Nolan (dir.), Leonardo DiCaprio, Joseph Gordon-Levitt, 8.7',\n",
       " 'El imperio contraataca, (1980), Irvin Kershner (dir.), Mark Hamill, Harrison Ford, 8.7',\n",
       " 'Matrix, (1999), Lana Wachowski (dir.), Keanu Reeves, Laurence Fishburne, 8.7',\n",
       " 'Uno de los nuestros, (1990), Martin Scorsese (dir.), Robert De Niro, Ray Liotta, 8.7',\n",
       " 'Alguien voló sobre el nido del cuco, (1975), Milos Forman (dir.), Jack Nicholson, Louise Fletcher, 8.6',\n",
       " 'Seven, (1995), David Fincher (dir.), Morgan Freeman, Brad Pitt, 8.6',\n",
       " 'Los siete samuráis, (1954), Akira Kurosawa (dir.), Toshirô Mifune, Takashi Shimura, 8.6',\n",
       " '¡Qué bello es vivir!, (1946), Frank Capra (dir.), James Stewart, Donna Reed, 8.6',\n",
       " 'El silencio de los corderos, (1991), Jonathan Demme (dir.), Jodie Foster, Anthony Hopkins, 8.6',\n",
       " 'Ciudad de Dios, (2002), Fernando Meirelles (dir.), Alexandre Rodrigues, Leandro Firmino, 8.6',\n",
       " 'Salvar al soldado Ryan, (1998), Steven Spielberg (dir.), Tom Hanks, Matt Damon, 8.6',\n",
       " 'Interstellar, (2014), Christopher Nolan (dir.), Matthew McConaughey, Anne Hathaway, 8.6',\n",
       " 'La vida es bella, (1997), Roberto Benigni (dir.), Roberto Benigni, Nicoletta Braschi, 8.6',\n",
       " 'La milla verde, (1999), Frank Darabont (dir.), Tom Hanks, Michael Clarke Duncan, 8.6',\n",
       " 'La guerra de las galaxias, (1977), George Lucas (dir.), Mark Hamill, Harrison Ford, 8.5',\n",
       " 'Terminator 2: El juicio final, (1991), James Cameron (dir.), Arnold Schwarzenegger, Linda Hamilton, 8.5',\n",
       " 'Regreso al futuro, (1985), Robert Zemeckis (dir.), Michael J. Fox, Christopher Lloyd, 8.5',\n",
       " 'El viaje de Chihiro, (2001), Hayao Miyazaki (dir.), Daveigh Chase, Suzanne Pleshette, 8.5',\n",
       " 'El pianista, (2002), Roman Polanski (dir.), Adrien Brody, Thomas Kretschmann, 8.5',\n",
       " 'Psicosis, (1960), Alfred Hitchcock (dir.), Anthony Perkins, Janet Leigh, 8.5',\n",
       " 'Parásitos, (2019), Bong Joon Ho (dir.), Song Kang-ho, Lee Sun-kyun, 8.5',\n",
       " 'El profesional (Léon), (1994), Luc Besson (dir.), Jean Reno, Gary Oldman, 8.5',\n",
       " 'El rey león, (1994), Roger Allers (dir.), Matthew Broderick, Jeremy Irons, 8.5',\n",
       " 'Gladiator (El gladiador), (2000), Ridley Scott (dir.), Russell Crowe, Joaquin Phoenix, 8.5',\n",
       " 'American History X, (1998), Tony Kaye (dir.), Edward Norton, Edward Furlong, 8.5',\n",
       " 'Infiltrados, (2006), Martin Scorsese (dir.), Leonardo DiCaprio, Matt Damon, 8.5',\n",
       " 'Sospechosos habituales, (1995), Bryan Singer (dir.), Kevin Spacey, Gabriel Byrne, 8.5',\n",
       " 'El truco final (El prestigio), (2006), Christopher Nolan (dir.), Christian Bale, Hugh Jackman, 8.5',\n",
       " 'Whiplash, (2014), Damien Chazelle (dir.), Miles Teller, J.K. Simmons, 8.5',\n",
       " 'Casablanca, (1942), Michael Curtiz (dir.), Humphrey Bogart, Ingrid Bergman, 8.5',\n",
       " 'La tumba de las luciérnagas, (1988), Isao Takahata (dir.), Tsutomu Tatsumi, Ayano Shiraishi, 8.5',\n",
       " 'Harakiri, (1962), Masaki Kobayashi (dir.), Tatsuya Nakadai, Akira Ishihama, 8.5',\n",
       " 'Intocable, (2011), Olivier Nakache (dir.), François Cluzet, Omar Sy, 8.5',\n",
       " 'Tiempos modernos, (1936), Charles Chaplin (dir.), Charles Chaplin, Paulette Goddard, 8.4',\n",
       " 'Hasta que llegó su hora, (1968), Sergio Leone (dir.), Henry Fonda, Charles Bronson, 8.4',\n",
       " 'La ventana indiscreta, (1954), Alfred Hitchcock (dir.), James Stewart, Grace Kelly, 8.4',\n",
       " 'Cinema Paradiso, (1988), Giuseppe Tornatore (dir.), Philippe Noiret, Enzo Cannavale, 8.4',\n",
       " 'Alien, el octavo pasajero, (1979), Ridley Scott (dir.), Sigourney Weaver, Tom Skerritt, 8.4',\n",
       " 'Luces de la ciudad, (1931), Charles Chaplin (dir.), Charles Chaplin, Virginia Cherrill, 8.4',\n",
       " 'Apocalypse Now, (1979), Francis Ford Coppola (dir.), Martin Sheen, Marlon Brando, 8.4',\n",
       " 'Memento, (2000), Christopher Nolan (dir.), Guy Pearce, Carrie-Anne Moss, 8.4',\n",
       " 'Django desencadenado, (2012), Quentin Tarantino (dir.), Jamie Foxx, Christoph Waltz, 8.4',\n",
       " 'En busca del arca perdida, (1981), Steven Spielberg (dir.), Harrison Ford, Karen Allen, 8.4',\n",
       " 'WALL·E, (2008), Andrew Stanton (dir.), Ben Burtt, Elissa Knight, 8.4',\n",
       " 'La vida de los otros, (2006), Florian Henckel von Donnersmarck (dir.), Ulrich Mühe, Martina Gedeck, 8.4',\n",
       " 'El crepúsculo de los dioses, (1950), Billy Wilder (dir.), William Holden, Gloria Swanson, 8.4',\n",
       " 'Senderos de gloria, (1957), Stanley Kubrick (dir.), Kirk Douglas, Ralph Meeker, 8.4',\n",
       " 'El resplandor, (1980), Stanley Kubrick (dir.), Jack Nicholson, Shelley Duvall, 8.4',\n",
       " 'El gran dictador, (1940), Charles Chaplin (dir.), Charles Chaplin, Paulette Goddard, 8.4',\n",
       " 'Vengadores: Infinity War, (2018), Anthony Russo (dir.), Robert Downey Jr., Chris Hemsworth, 8.4',\n",
       " 'Testigo de cargo, (1957), Billy Wilder (dir.), Tyrone Power, Marlene Dietrich, 8.4',\n",
       " 'Aliens. El regreso, (1986), James Cameron (dir.), Sigourney Weaver, Michael Biehn, 8.3',\n",
       " 'Spider-Man: Un nuevo universo, (2018), Bob Persichetti (dir.), Shameik Moore, Jake Johnson, 8.3',\n",
       " 'American Beauty, (1999), Sam Mendes (dir.), Kevin Spacey, Annette Bening, 8.3',\n",
       " '¿Teléfono rojo? Volamos hacia Moscú, (1964), Stanley Kubrick (dir.), Peter Sellers, George C. Scott, 8.3',\n",
       " 'El caballero oscuro: La leyenda renace, (2012), Christopher Nolan (dir.), Christian Bale, Tom Hardy, 8.3',\n",
       " 'Old Boy, (2003), Park Chan-wook (dir.), Choi Min-sik, Yoo Ji-tae, 8.3',\n",
       " 'Malditos bastardos, (2009), Quentin Tarantino (dir.), Brad Pitt, Diane Kruger, 8.3',\n",
       " 'Amadeus, (1984), Milos Forman (dir.), F. Murray Abraham, Tom Hulce, 8.3',\n",
       " 'Coco, (2017), Lee Unkrich (dir.), Anthony Gonzalez, Gael García Bernal, 8.3',\n",
       " 'Toy Story, (1995), John Lasseter (dir.), Tom Hanks, Tim Allen, 8.3',\n",
       " 'Joker, (2019), Todd Phillips (dir.), Joaquin Phoenix, Robert De Niro, 8.3',\n",
       " 'Braveheart, (1995), Mel Gibson (dir.), Mel Gibson, Sophie Marceau, 8.3',\n",
       " 'El submarino (Das Boot), (1981), Wolfgang Petersen (dir.), Jürgen Prochnow, Herbert Grönemeyer, 8.3',\n",
       " 'Vengadores: Endgame, (2019), Anthony Russo (dir.), Robert Downey Jr., Chris Evans, 8.3',\n",
       " 'La princesa Mononoke, (1997), Hayao Miyazaki (dir.), Yôji Matsuda, Yuriko Ishida, 8.3',\n",
       " 'Érase una vez en América, (1984), Sergio Leone (dir.), Robert De Niro, James Woods, 8.3',\n",
       " 'El indomable Will Hunting, (1997), Gus Van Sant (dir.), Robin Williams, Matt Damon, 8.3',\n",
       " 'Your Name., (2016), Makoto Shinkai (dir.), Ryûnosuke Kamiki, Mone Kamishiraishi, 8.3',\n",
       " '3 Idiots, (2009), Rajkumar Hirani (dir.), Aamir Khan, Madhavan, 8.3',\n",
       " \"Cantando bajo la lluvia, (1952), Stanley Donen (dir.), Gene Kelly, Donald O'Connor, 8.3\",\n",
       " 'Réquiem por un sueño, (2000), Darren Aronofsky (dir.), Ellen Burstyn, Jared Leto, 8.3',\n",
       " 'Toy Story 3, (2010), Lee Unkrich (dir.), Tom Hanks, Tim Allen, 8.3',\n",
       " 'El infierno del odio, (1963), Akira Kurosawa (dir.), Toshirô Mifune, Yutaka Sada, 8.3',\n",
       " 'Cafarnaúm, (2018), Nadine Labaki (dir.), Zain Al Rafeea, Yordanos Shiferaw, 8.3',\n",
       " 'El retorno del jedi, (1983), Richard Marquand (dir.), Mark Hamill, Harrison Ford, 8.3',\n",
       " '¡Olvídate de mí!, (2004), Michel Gondry (dir.), Jim Carrey, Kate Winslet, 8.3',\n",
       " '2001. Una odisea del espacio, (1968), Stanley Kubrick (dir.), Keir Dullea, Gary Lockwood, 8.3',\n",
       " 'Reservoir Dogs, (1992), Quentin Tarantino (dir.), Harvey Keitel, Tim Roth, 8.3',\n",
       " 'Masacre (Ven y mira), (1985), Elem Klimov (dir.), Aleksey Kravchenko, Olga Mironova, 8.3',\n",
       " 'La caza, (2012), Thomas Vinterberg (dir.), Mads Mikkelsen, Thomas Bo Larsen, 8.3',\n",
       " 'Ciudadano Kane, (1941), Orson Welles (dir.), Orson Welles, Joseph Cotten, 8.3',\n",
       " 'M, el vampiro de Düsseldorf, (1931), Fritz Lang (dir.), Peter Lorre, Ellen Widmann, 8.3',\n",
       " \"Lawrence de Arabia, (1962), David Lean (dir.), Peter O'Toole, Alec Guinness, 8.3\",\n",
       " 'Con la muerte en los talones, (1959), Alfred Hitchcock (dir.), Cary Grant, Eva Marie Saint, 8.2',\n",
       " 'Vértigo (De entre los muertos), (1958), Alfred Hitchcock (dir.), James Stewart, Kim Novak, 8.2',\n",
       " 'Amelie, (2001), Jean-Pierre Jeunet (dir.), Audrey Tautou, Mathieu Kassovitz, 8.2',\n",
       " 'Ikiru (Vivir), (1952), Akira Kurosawa (dir.), Takashi Shimura, Nobuo Kaneko, 8.2',\n",
       " 'El apartamento, (1960), Billy Wilder (dir.), Jack Lemmon, Shirley MacLaine, 8.2',\n",
       " 'La naranja mecánica, (1971), Stanley Kubrick (dir.), Malcolm McDowell, Patrick Magee, 8.2',\n",
       " 'Top Gun: Maverick, (2022), Joseph Kosinski (dir.), Tom Cruise, Jennifer Connelly, 8.2',\n",
       " 'Perdición, (1944), Billy Wilder (dir.), Fred MacMurray, Barbara Stanwyck, 8.2',\n",
       " 'La chaqueta metálica, (1987), Stanley Kubrick (dir.), Matthew Modine, R. Lee Ermey, 8.2',\n",
       " 'El precio del poder, (1983), Brian De Palma (dir.), Al Pacino, Michelle Pfeiffer, 8.2',\n",
       " 'Hamilton, (2020), Thomas Kail (dir.), Lin-Manuel Miranda, Phillipa Soo, 8.2',\n",
       " 'Incendios, (2010), Denis Villeneuve (dir.), Lubna Azabal, Mélissa Désormeaux-Poulin, 8.2',\n",
       " 'Matar a un ruiseñor, (1962), Robert Mulligan (dir.), Gregory Peck, John Megna, 8.2',\n",
       " 'Heat, (1995), Michael Mann (dir.), Al Pacino, Robert De Niro, 8.2',\n",
       " 'El golpe, (1973), George Roy Hill (dir.), Paul Newman, Robert Redford, 8.2',\n",
       " 'Up, (2009), Pete Docter (dir.), Edward Asner, Jordan Nagai, 8.2',\n",
       " 'Nader y Simin, una separación, (2011), Asghar Farhadi (dir.), Payman Maadi, Leila Hatami, 8.2',\n",
       " 'Taxi Driver, (1976), Martin Scorsese (dir.), Robert De Niro, Jodie Foster, 8.2',\n",
       " 'Metrópolis, (1927), Fritz Lang (dir.), Brigitte Helm, Alfred Abel, 8.2',\n",
       " 'L.A. Confidential, (1997), Curtis Hanson (dir.), Kevin Spacey, Russell Crowe, 8.2',\n",
       " 'Jungla de cristal, (1988), John McTiernan (dir.), Bruce Willis, Alan Rickman, 8.2',\n",
       " 'Snatch. Cerdos y diamantes, (2000), Guy Ritchie (dir.), Jason Statham, Brad Pitt, 8.2',\n",
       " 'Indiana Jones y la última cruzada, (1989), Steven Spielberg (dir.), Harrison Ford, Sean Connery, 8.2',\n",
       " 'Ladrón de bicicletas, (1948), Vittorio De Sica (dir.), Lamberto Maggiorani, Enzo Staiola, 8.2',\n",
       " 'Taare Zameen Par, (2007), Aamir Khan (dir.), Darsheel Safary, Aamir Khan, 8.2',\n",
       " '1917, (2019), Sam Mendes (dir.), Dean-Charles Chapman, George MacKay, 8.2',\n",
       " 'El hundimiento, (2004), Oliver Hirschbiegel (dir.), Bruno Ganz, Alexandra Maria Lara, 8.2',\n",
       " 'Dangal, (2016), Nitesh Tiwari (dir.), Aamir Khan, Sakshi Tanwar, 8.2',\n",
       " 'La muerte tenía un precio, (1965), Sergio Leone (dir.), Clint Eastwood, Lee Van Cleef, 8.2',\n",
       " 'Batman Begins, (2005), Christopher Nolan (dir.), Christian Bale, Michael Caine, 8.2',\n",
       " 'El chico, (1921), Charles Chaplin (dir.), Charles Chaplin, Edna Purviance, 8.2',\n",
       " 'Con faldas y a lo loco, (1959), Billy Wilder (dir.), Marilyn Monroe, Tony Curtis, 8.2',\n",
       " 'El padre, (2020), Florian Zeller (dir.), Anthony Hopkins, Olivia Colman, 8.2',\n",
       " 'Eva al desnudo, (1950), Joseph L. Mankiewicz (dir.), Bette Davis, Anne Baxter, 8.2',\n",
       " 'Green Book, (2018), Peter Farrelly (dir.), Viggo Mortensen, Mahershala Ali, 8.2',\n",
       " 'El lobo de Wall Street, (2013), Martin Scorsese (dir.), Leonardo DiCaprio, Jonah Hill, 8.2',\n",
       " 'Vencedores o vencidos, (1961), Stanley Kramer (dir.), Spencer Tracy, Burt Lancaster, 8.2',\n",
       " 'Casino, (1995), Martin Scorsese (dir.), Robert De Niro, Sharon Stone, 8.2',\n",
       " 'Ran, (1985), Akira Kurosawa (dir.), Tatsuya Nakadai, Akira Terao, 8.2',\n",
       " 'El laberinto del fauno, (2006), Guillermo del Toro (dir.), Ivana Baquero, Ariadna Gil, 8.2',\n",
       " 'El show de Truman, (1998), Peter Weir (dir.), Jim Carrey, Ed Harris, 8.2',\n",
       " 'Pozos de ambición, (2007), Paul Thomas Anderson (dir.), Daniel Day-Lewis, Paul Dano, 8.2',\n",
       " 'Sin perdón, (1992), Clint Eastwood (dir.), Clint Eastwood, Gene Hackman, 8.2',\n",
       " 'El sexto sentido, (1999), M. Night Shyamalan (dir.), Bruce Willis, Haley Joel Osment, 8.2',\n",
       " 'Shutter Island, (2010), Martin Scorsese (dir.), Leonardo DiCaprio, Emily Mortimer, 8.2',\n",
       " 'Una mente maravillosa, (2001), Ron Howard (dir.), Russell Crowe, Ed Harris, 8.2',\n",
       " 'Jurassic Park (Parque Jurásico), (1993), Steven Spielberg (dir.), Sam Neill, Laura Dern, 8.1',\n",
       " 'Yojimbo, (1961), Akira Kurosawa (dir.), Toshirô Mifune, Eijirô Tôno, 8.1',\n",
       " 'El tesoro de Sierra Madre, (1948), John Huston (dir.), Humphrey Bogart, Walter Huston, 8.1',\n",
       " 'Los caballeros de la mesa cuadrada y sus locos seguidores, (1975), Terry Gilliam (dir.), Graham Chapman, John Cleese, 8.1',\n",
       " 'La gran evasión, (1963), John Sturges (dir.), Steve McQueen, James Garner, 8.1',\n",
       " 'Spider-Man: No Way Home, (2021), Jon Watts (dir.), Tom Holland, Zendaya, 8.1',\n",
       " 'No es país para viejos, (2007), Ethan Coen (dir.), Tommy Lee Jones, Javier Bardem, 8.1',\n",
       " 'Kill Bill: Volumen 1, (2003), Quentin Tarantino (dir.), Uma Thurman, David Carradine, 8.1',\n",
       " 'Rashomon, (1950), Akira Kurosawa (dir.), Toshirô Mifune, Machiko Kyô, 8.1',\n",
       " 'La cosa (El enigma de otro mundo), (1982), John Carpenter (dir.), Kurt Russell, Wilford Brimley, 8.1',\n",
       " 'Buscando a Nemo, (2003), Andrew Stanton (dir.), Albert Brooks, Ellen DeGeneres, 8.1',\n",
       " 'El hombre elefante, (1980), David Lynch (dir.), Anthony Hopkins, John Hurt, 8.1',\n",
       " 'Chinatown, (1974), Roman Polanski (dir.), Jack Nicholson, Faye Dunaway, 8.1',\n",
       " 'Toro salvaje, (1980), Martin Scorsese (dir.), Robert De Niro, Cathy Moriarty, 8.1',\n",
       " 'V de vendetta, (2005), James McTeigue (dir.), Hugo Weaving, Natalie Portman, 8.1',\n",
       " 'Lo que el viento se llevó, (1939), Victor Fleming (dir.), Clark Gable, Vivien Leigh, 8.1',\n",
       " 'Lock & Stock, (1998), Guy Ritchie (dir.), Jason Flemyng, Dexter Fletcher, 8.1',\n",
       " 'Del revés (Inside Out), (2015), Pete Docter (dir.), Amy Poehler, Bill Hader, 8.1',\n",
       " 'Crimen perfecto, (1954), Alfred Hitchcock (dir.), Ray Milland, Grace Kelly, 8.1',\n",
       " 'El secreto de sus ojos, (2009), Juan José Campanella (dir.), Ricardo Darín, Soledad Villamil, 8.1',\n",
       " 'El castillo ambulante, (2004), Hayao Miyazaki (dir.), Chieko Baisho, Takuya Kimura, 8.1',\n",
       " 'Tres anuncios en las afueras, (2017), Martin McDonagh (dir.), Frances McDormand, Woody Harrelson, 8.1',\n",
       " 'El puente sobre el río Kwai, (1957), David Lean (dir.), William Holden, Alec Guinness, 8.1',\n",
       " 'Trainspotting, (1996), Danny Boyle (dir.), Ewan McGregor, Ewen Bremner, 8.1',\n",
       " 'Prisioneros, (2013), Denis Villeneuve (dir.), Hugh Jackman, Jake Gyllenhaal, 8.1',\n",
       " \"Warrior, (2011), Gavin O'Connor (dir.), Tom Hardy, Nick Nolte, 8.1\",\n",
       " 'Fargo, (1996), Joel Coen (dir.), William H. Macy, Frances McDormand, 8.1',\n",
       " 'Gran Torino, (2008), Clint Eastwood (dir.), Clint Eastwood, Bee Vang, 8.1',\n",
       " 'Mi vecino Totoro, (1988), Hayao Miyazaki (dir.), Hitoshi Takagi, Noriko Hidaka, 8.1',\n",
       " 'Atrápame si puedes, (2002), Steven Spielberg (dir.), Leonardo DiCaprio, Tom Hanks, 8.1',\n",
       " 'Million Dollar Baby, (2004), Clint Eastwood (dir.), Hilary Swank, Clint Eastwood, 8.1',\n",
       " 'Children of Heaven, (1997), Majid Majidi (dir.), Mohammad Amir Naji, Amir Farrokh Hashemian, 8.1',\n",
       " 'Blade Runner, (1982), Ridley Scott (dir.), Harrison Ford, Rutger Hauer, 8.1',\n",
       " 'La quimera del oro, (1925), Charles Chaplin (dir.), Charles Chaplin, Mack Swain, 8.1',\n",
       " 'Antes de amanecer, (1995), Richard Linklater (dir.), Ethan Hawke, Julie Delpy, 8.1',\n",
       " '12 años de esclavitud, (2013), Steve McQueen (dir.), Chiwetel Ejiofor, Michael Kenneth Williams, 8.1',\n",
       " 'Klaus, (2019), Sergio Pablos (dir.), Jason Schwartzman, J.K. Simmons, 8.1',\n",
       " 'Harry Potter y las Reliquias de la Muerte: Parte 2, (2011), David Yates (dir.), Daniel Radcliffe, Emma Watson, 8.1',\n",
       " 'La ley del silencio, (1954), Elia Kazan (dir.), Marlon Brando, Karl Malden, 8.1',\n",
       " 'Ben-Hur, (1959), William Wyler (dir.), Charlton Heston, Jack Hawkins, 8.1',\n",
       " 'Perdida, (2014), David Fincher (dir.), Ben Affleck, Rosamund Pike, 8.1',\n",
       " 'El gran hotel Budapest, (2014), Wes Anderson (dir.), Ralph Fiennes, F. Murray Abraham, 8.1',\n",
       " 'Fresas salvajes, (1957), Ingmar Bergman (dir.), Victor Sjöström, Bibi Andersson, 8.1',\n",
       " 'El maquinista de La General, (1926), Clyde Bruckman (dir.), Buster Keaton, Marion Mack, 8.1',\n",
       " 'El tercer hombre, (1949), Carol Reed (dir.), Orson Welles, Joseph Cotten, 8.1',\n",
       " 'En el nombre del padre, (1993), Jim Sheridan (dir.), Daniel Day-Lewis, Pete Postlethwaite, 8.1',\n",
       " 'El cazador, (1978), Michael Cimino (dir.), Robert De Niro, Christopher Walken, 8.1',\n",
       " \"Barry Lyndon, (1975), Stanley Kubrick (dir.), Ryan O'Neal, Marisa Berenson, 8.1\",\n",
       " 'Hasta el último hombre, (2016), Mel Gibson (dir.), Andrew Garfield, Sam Worthington, 8.1',\n",
       " 'El salario del miedo, (1953), Henri-Georges Clouzot (dir.), Yves Montand, Charles Vanel, 8.1',\n",
       " 'Memories of Murder (Crónica de un asesino en serie), (2003), Bong Joon Ho (dir.), Song Kang-ho, Kim Sang-kyung, 8.1',\n",
       " 'El moderno Sherlock Holmes, (1924), Buster Keaton (dir.), Buster Keaton, Kathryn McGuire, 8.1',\n",
       " 'Relatos salvajes, (2014), Damián Szifron (dir.), Darío Grandinetti, María Marull, 8.1',\n",
       " 'Caballero sin espada, (1939), Frank Capra (dir.), James Stewart, Jean Arthur, 8.1',\n",
       " 'Mad Max: Furia en la carretera, (2015), George Miller (dir.), Tom Hardy, Charlize Theron, 8.1',\n",
       " 'El séptimo sello, (1957), Ingmar Bergman (dir.), Max von Sydow, Gunnar Björnstrand, 8.1',\n",
       " 'Mary and Max, (2009), Adam Elliot (dir.), Toni Collette, Philip Seymour Hoffman, 8.1',\n",
       " 'Cómo entrenar a tu dragón, (2010), Dean DeBlois (dir.), Jay Baruchel, Gerard Butler, 8.1',\n",
       " 'La habitación, (2015), Lenny Abrahamson (dir.), Brie Larson, Jacob Tremblay, 8.1',\n",
       " 'Monstruos, S.A., (2001), Pete Docter (dir.), Billy Crystal, John Goodman, 8.1',\n",
       " 'Tiburón, (1975), Steven Spielberg (dir.), Roy Scheider, Robert Shaw, 8.1',\n",
       " 'El gran Lebowski, (1998), Joel Coen (dir.), Jeff Bridges, John Goodman, 8.1',\n",
       " 'El club de los poetas muertos, (1989), Peter Weir (dir.), Robin Williams, Robert Sean Leonard, 8.1',\n",
       " 'Cuentos de Tokio, (1953), Yasujirô Ozu (dir.), Chishû Ryû, Chieko Higashiyama, 8.1',\n",
       " 'La pasión de Juana de Arco, (1928), Carl Theodor Dreyer (dir.), Maria Falconetti, Eugene Silvain, 8.1',\n",
       " 'Hotel Rwanda, (2004), Terry George (dir.), Don Cheadle, Sophie Okonedo, 8.0',\n",
       " \"Le Mans '66, (2019), James Mangold (dir.), Matt Damon, Christian Bale, 8.0\",\n",
       " 'Rocky, (1976), John G. Avildsen (dir.), Sylvester Stallone, Talia Shire, 8.0',\n",
       " 'Platoon, (1986), Oliver Stone (dir.), Charlie Sheen, Tom Berenger, 8.0',\n",
       " 'Ratatouille, (2007), Brad Bird (dir.), Brad Garrett, Lou Romano, 8.0',\n",
       " 'Spotlight, (2015), Tom McCarthy (dir.), Mark Ruffalo, Michael Keaton, 8.0',\n",
       " 'Terminator, (1984), James Cameron (dir.), Arnold Schwarzenegger, Linda Hamilton, 8.0',\n",
       " 'Logan, (2017), James Mangold (dir.), Hugh Jackman, Patrick Stewart, 8.0',\n",
       " 'Cuenta conmigo, (1986), Rob Reiner (dir.), Wil Wheaton, River Phoenix, 8.0',\n",
       " 'Rush, (2013), Ron Howard (dir.), Daniel Brühl, Chris Hemsworth, 8.0',\n",
       " 'Network, un mundo implacable, (1976), Sidney Lumet (dir.), Faye Dunaway, William Holden, 8.0',\n",
       " 'Hacia rutas salvajes, (2007), Sean Penn (dir.), Emile Hirsch, Vince Vaughn, 8.0',\n",
       " 'Antes del atardecer, (2004), Richard Linklater (dir.), Ethan Hawke, Julie Delpy, 8.0',\n",
       " 'El mago de Oz, (1939), Victor Fleming (dir.), Judy Garland, Frank Morgan, 8.0',\n",
       " 'Pather Panchali (La canción del camino), (1955), Satyajit Ray (dir.), Kanu Bannerjee, Karuna Bannerjee, 8.0',\n",
       " 'Atrapado en el tiempo, (1993), Harold Ramis (dir.), Bill Murray, Andie MacDowell, 8.0',\n",
       " 'Los mejores años de nuestra vida, (1946), William Wyler (dir.), Myrna Loy, Dana Andrews, 8.0',\n",
       " 'El exorcista, (1973), William Friedkin (dir.), Ellen Burstyn, Max von Sydow, 8.0',\n",
       " 'Ser o no ser, (1942), Ernst Lubitsch (dir.), Carole Lombard, Jack Benny, 8.0',\n",
       " 'Los Increíbles, (2004), Brad Bird (dir.), Craig T. Nelson, Samuel L. Jackson, 8.0',\n",
       " 'El odio, (1995), Mathieu Kassovitz (dir.), Vincent Cassel, Hubert Koundé, 8.0',\n",
       " 'La batalla de Argel, (1966), Gillo Pontecorvo (dir.), Brahim Hadjadj, Jean Martin, 8.0',\n",
       " 'Piratas del Caribe: La maldición de la Perla Negra, (2003), Gore Verbinski (dir.), Johnny Depp, Geoffrey Rush, 8.0',\n",
       " 'Siempre a tu lado (Hachiko), (2009), Lasse Hallström (dir.), Richard Gere, Joan Allen, 8.0',\n",
       " 'Las uvas de la ira, (1940), John Ford (dir.), Henry Fonda, Jane Darwell, 8.0',\n",
       " 'Mi padre y mi hijo, (2005), Çagan Irmak (dir.), Çetin Tekindor, Fikret Kuskan, 8.0',\n",
       " 'Jai Bhim, (2021), T.J. Gnanavel (dir.), Suriya, Lijo Mol Jose, 8.0',\n",
       " 'Amores perros, (2000), Alejandro G. Iñárritu (dir.), Emilio Echevarría, Gael García Bernal, 8.0',\n",
       " 'Rebeca, (1940), Alfred Hitchcock (dir.), Laurence Olivier, Joan Fontaine, 8.0',\n",
       " 'La leyenda del indomable, (1967), Stuart Rosenberg (dir.), Paul Newman, George Kennedy, 8.0',\n",
       " 'La doncella, (2016), Park Chan-wook (dir.), Kim Min-hee, Ha Jung-woo, 8.0',\n",
       " 'Los cuatrocientos golpes, (1959), François Truffaut (dir.), Jean-Pierre Léaud, Albert Rémy, 8.0',\n",
       " 'Sonrisas y lágrimas, (1965), Robert Wise (dir.), Julie Andrews, Christopher Plummer, 8.0',\n",
       " 'Sucedió una noche, (1934), Frank Capra (dir.), Clark Gable, Claudette Colbert, 8.0',\n",
       " 'Persona, (1966), Ingmar Bergman (dir.), Bibi Andersson, Liv Ullmann, 8.0',\n",
       " 'La vida de Brian, (1979), Terry Jones (dir.), Graham Chapman, John Cleese, 8.0',\n",
       " 'El gigante de hierro, (1999), Brad Bird (dir.), Eli Marienthal, Harry Connick Jr., 8.0',\n",
       " 'Criadas y señoras, (2011), Tate Taylor (dir.), Viola Davis, Emma Stone, 8.0',\n",
       " 'Dersu Uzala (El cazador), (1975), Akira Kurosawa (dir.), Maksim Munzuk, Yuriy Solomin, 8.0',\n",
       " 'Aladdín, (1992), Ron Clements (dir.), Scott Weinger, Robin Williams, 8.0',\n",
       " 'Gandhi, (1982), Richard Attenborough (dir.), Ben Kingsley, John Gielgud, 8.0',\n",
       " 'Bailando con lobos, (1990), Kevin Costner (dir.), Kevin Costner, Mary McDonnell, 8.0']"
      ]
     },
     "execution_count": 33,
     "metadata": {},
     "output_type": "execute_result"
    }
   ],
   "source": [
    "html = req.get(url).text\n",
    "\n",
    "sopa = bs(html, 'html.parser')\n",
    "\n",
    "[sopa.find_all('td', class_=\"titleColumn\")[i].find('a').text.strip() + ', ' + sopa.find_all('td', class_=\"titleColumn\")[i].find('span').text.strip() + ', ' + sopa.find_all('td', class_=\"titleColumn\")[i].find('a')['title'].strip().replace(',*', '') + ', ' + sopa.find_all('td', class_=\"ratingColumn imdbRating\")[i].find('strong').text.strip() for i in range(250)]\n",
    "\n",
    "\n",
    "\n"
   ]
  },
  {
   "cell_type": "markdown",
   "metadata": {},
   "source": [
    "#### Movie name, year and a brief summary of the top 10 random movies (IMDB) as a pandas dataframe."
   ]
  },
  {
   "cell_type": "code",
   "execution_count": 34,
   "metadata": {},
   "outputs": [],
   "source": [
    "#This is the url you will scrape in this exercise\n",
    "url = 'http://www.imdb.com/chart/top'"
   ]
  },
  {
   "cell_type": "code",
   "execution_count": 35,
   "metadata": {},
   "outputs": [],
   "source": [
    "#your code"
   ]
  },
  {
   "cell_type": "markdown",
   "metadata": {},
   "source": [
    "#### Find the live weather report (temperature, wind speed, description and weather) of a given city."
   ]
  },
  {
   "cell_type": "code",
   "execution_count": 36,
   "metadata": {},
   "outputs": [
    {
     "name": "stdout",
     "output_type": "stream",
     "text": [
      "Enter the city:madrod\n"
     ]
    }
   ],
   "source": [
    "#https://openweathermap.org/current\n",
    "city = city=input('Enter the city:')\n",
    "url = 'http://api.openweathermap.org/data/2.5/weather?'+'q='+city+'&APPID=b35975e18dc93725acb092f7272cc6b8&units=metric'"
   ]
  },
  {
   "cell_type": "code",
   "execution_count": 37,
   "metadata": {},
   "outputs": [],
   "source": [
    "# your code"
   ]
  },
  {
   "cell_type": "markdown",
   "metadata": {},
   "source": [
    "#### Book name,price and stock availability as a pandas dataframe."
   ]
  },
  {
   "cell_type": "code",
   "execution_count": 38,
   "metadata": {},
   "outputs": [],
   "source": [
    "# This is the url you will scrape in this exercise. \n",
    "# It is a fictional bookstore created to be scraped. \n",
    "url = 'http://books.toscrape.com/'"
   ]
  },
  {
   "cell_type": "code",
   "execution_count": 39,
   "metadata": {},
   "outputs": [],
   "source": [
    "#your code"
   ]
  }
 ],
 "metadata": {
  "kernelspec": {
   "display_name": "Python 3 (ipykernel)",
   "language": "python",
   "name": "python3"
  },
  "language_info": {
   "codemirror_mode": {
    "name": "ipython",
    "version": 3
   },
   "file_extension": ".py",
   "mimetype": "text/x-python",
   "name": "python",
   "nbconvert_exporter": "python",
   "pygments_lexer": "ipython3",
   "version": "3.9.13"
  }
 },
 "nbformat": 4,
 "nbformat_minor": 2
}
